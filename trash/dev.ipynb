{
 "cells": [
  {
   "cell_type": "code",
   "execution_count": 1,
   "metadata": {},
   "outputs": [],
   "source": [
    "import os\n",
    "import random\n",
    "import time\n",
    "\n",
    "import numpy as np\n",
    "import pandas as pd\n",
    "import scipy as sc\n",
    "from scipy.io import wavfile\n",
    "from scipy import signal\n",
    "import cv2\n",
    "\n",
    "import torch\n",
    "import torch.nn as nn\n",
    "import torch.optim as optim\n",
    "import torch.nn.functional as F\n",
    "from torch.utils.data import Dataset\n",
    "from torchvision.transforms import Compose\n",
    "\n",
    "from sklearn.metrics import roc_curve, roc_auc_score\n",
    "\n",
    "import tensorboardX\n",
    "from tqdm import tqdm\n",
    "\n",
    "import matplotlib.pyplot as plt"
   ]
  },
  {
   "cell_type": "code",
   "execution_count": 2,
   "metadata": {},
   "outputs": [],
   "source": [
    "import warnings\n",
    "warnings.filterwarnings('ignore') # scipy throws future warnings on fft (known bug)"
   ]
  },
  {
   "cell_type": "code",
   "execution_count": 3,
   "metadata": {},
   "outputs": [],
   "source": [
    "torch.backends.cudnn.deterministic = True # False by default"
   ]
  },
  {
   "cell_type": "code",
   "execution_count": 4,
   "metadata": {},
   "outputs": [],
   "source": [
    "class AudioFrameDataset(Dataset):\n",
    "    '''Train only'''\n",
    "\n",
    "    def __init__(self, path_to_data, path_to_split, transform=None, seed=13): \n",
    "        self.path_to_data = path_to_data\n",
    "        voice_set_labels = pd.read_table(path_to_split, sep=' ', names=['path', 'phase'])\n",
    "        voice_set_labels.replace({'_000': '/0', '.wav$': ''}, inplace=True, regex=True)\n",
    "        mask = (voice_set_labels.phase == 1) | (voice_set_labels.phase == 3)\n",
    "        dataset = voice_set_labels[mask].reset_index(drop=True)\n",
    "        self.dataset = dataset['path'][:300] # here\n",
    "        self.transform = transform\n",
    "\n",
    "    def __len__(self):\n",
    "        return len(self.dataset)\n",
    "\n",
    "    def __getitem__(self, idx):\n",
    "        ### VISUAL INPUT\n",
    "        video_path = os.path.join(self.path_to_data, 'video', self.dataset[idx] + '.txt')\n",
    "        frames = pd.read_table(video_path, skiprows=6, usecols=['FRAME '])\n",
    "        earliest = frames['FRAME '].iloc[0]\n",
    "        latest = frames['FRAME '].iloc[-1]\n",
    "        frame_list = np.arange(earliest, latest+1)\n",
    "        mask = np.where(frame_list % 25 == 0)\n",
    "        # only 20 per each face-track (see the asterics on the project page)\n",
    "        # frames_sec = frame_list[mask]\n",
    "        frames_sec = frame_list[mask][:20]\n",
    "        selected_frame = np.random.choice(frames_sec)\n",
    "        selected_frame_filename = '{0:07d}.jpg'.format(selected_frame)\n",
    "        selected_frame_path = os.path.join(self.path_to_data, 'video', \n",
    "                                           self.dataset[idx][:-5] + selected_frame_filename)\n",
    "        frame = cv2.cvtColor(cv2.imread(selected_frame_path), cv2.COLOR_BGR2RGB)\n",
    "        frame = cv2.resize(frame, (224, 224), interpolation=cv2.INTER_CUBIC)\n",
    "        \n",
    "        ### AUDIO INPUT\n",
    "        audio_path = os.path.join(self.path_to_data, 'audio', self.dataset[idx] + '.wav')\n",
    "        sample_rate, samples = wavfile.read(audio_path)\n",
    "        \n",
    "        ## parameters\n",
    "        segment_len = 3\n",
    "        window = 'hamming'\n",
    "        window_width = int(sample_rate * 0.025)\n",
    "        overlap = int(sample_rate * (0.025 - 0.010))\n",
    "        FFT_len = 2 ** (window_width - 1).bit_length()\n",
    "        pre_emphasis = 0.97\n",
    "        \n",
    "        # preemphasis filter\n",
    "        samples = np.append(samples[0], samples[1:] - pre_emphasis * samples[:-1])\n",
    "    \n",
    "        upper_bound = len(samples) - segment_len * sample_rate\n",
    "        start = np.random.randint(0, upper_bound)\n",
    "        end = start + segment_len * sample_rate\n",
    "        # Note, it produces 512x298 and I don't know why there is some subtle\n",
    "        # differences. However, since the model averages second axis it doesn't\n",
    "        # matter from the computational POV.\n",
    "        _, _, spectrogram = signal.spectrogram(samples[start:end], sample_rate, \n",
    "                                               window=window, nfft=FFT_len, \n",
    "                                               nperseg=window_width, noverlap=overlap, \n",
    "                                               mode='magnitude', return_onesided=False)\n",
    "        spectrogram *= sample_rate / 10\n",
    "        \n",
    "        if self.transform:\n",
    "            frame = frame.astype(np.float32)\n",
    "            spectrogram = spectrogram.astype(np.float32)\n",
    "            frame, spectrogram = self.transform((frame, spectrogram))\n",
    "        \n",
    "        return frame, spectrogram"
   ]
  },
  {
   "cell_type": "code",
   "execution_count": 5,
   "metadata": {},
   "outputs": [],
   "source": [
    "class Normalize(object):\n",
    "    \"\"\"Normalizes both face (mean) and voice spectrogram (mean-varience)\"\"\"\n",
    "    \n",
    "    def __call__(self, sample):\n",
    "        frame, spectrogram = sample\n",
    "\n",
    "        ## FACE (H, W, C)\n",
    "        # mean normalization for every image (not batch)\n",
    "        mu = frame.mean(axis=(0, 1))\n",
    "        frame = frame - mu\n",
    "        \n",
    "        ## VOICE (Freq, Time)\n",
    "        # mean-variance normalization for every spectrogram (not batch-wise)\n",
    "        mu = spectrogram.mean(axis=1).reshape(512, 1)\n",
    "        sigma = spectrogram.std(axis=1).reshape(512, 1)\n",
    "        spectrogram = (spectrogram - mu) / sigma\n",
    "\n",
    "        return frame, spectrogram\n",
    "\n",
    "class RandomHorizontalFlip(object):\n",
    "    '''Horizontally flip the given Image ndarray randomly with a given probability.'''\n",
    "    \n",
    "    def __init__(self, p=0.5):\n",
    "        self.p = p\n",
    "    \n",
    "    def __call__(self, sample):\n",
    "        frame, spectrogram = sample\n",
    "\n",
    "        if random.random() < self.p:\n",
    "            return cv2.flip(frame, 1), spectrogram\n",
    "        \n",
    "        return frame, spectrogram\n",
    "\n",
    "class ColorJittering(object):\n",
    "    '''Given Image ndarray performs brightness and \n",
    "    saturation jittering. It is not mentioned in the paper but I guess \n",
    "    the authors used MatConvNet but do not mention any specific augmentation\n",
    "    parameters. So, I made my wind guess regarding the parameters and implemented\n",
    "    augmentation in the following fashion as in:\n",
    "    http://www.vlfeat.org/matconvnet/mfiles/vl_imreadjpeg/\n",
    "    and the Section 3.5 of the manual\n",
    "    http://www.vlfeat.org/matconvnet/matconvnet-manual.pdf'''\n",
    "    \n",
    "    def __init__(self, brightness=[255/25.5, 255/25.5, 255/25.5], saturation=0.5):\n",
    "        # brightness\n",
    "        self.B = np.array(brightness, dtype=np.float32)\n",
    "        # saturation\n",
    "        self.S = saturation\n",
    "    \n",
    "    def __call__(self, sample):\n",
    "        frame, spectrogram = sample\n",
    "        \n",
    "        # brightness\n",
    "        # gives an error w/o float32 -- normal() returns float64\n",
    "        w = np.float32(np.random.normal(size=3))\n",
    "        b = self.B * w\n",
    "        frame = np.clip(frame + b, 0, 255)\n",
    "        \n",
    "        # saturation\n",
    "        sigma = np.random.uniform(1-self.S, 1+self.S)\n",
    "        frame = sigma * frame + (1-sigma) / 3 * frame.sum(axis=2, keepdims=True)\n",
    "        frame = np.clip(frame, 0, 255)\n",
    "        \n",
    "        return frame, spectrogram\n",
    "    \n",
    "class ToTensor(object):\n",
    "    \"\"\"Convert ndarrays to Tensors.\"\"\"\n",
    "    \n",
    "    def __call__(self, sample):\n",
    "        frame, spectrogram = sample\n",
    "        F, T = spectrogram.shape\n",
    "\n",
    "        # swap color axis because\n",
    "        # numpy image: H x W x C\n",
    "        # torch image: C x H x W\n",
    "        frame = frame.transpose((2, 0, 1))\n",
    "        \n",
    "        # now specs are of size (Freq, Time) 2D but has to be 3D\n",
    "        spectrogram = spectrogram.reshape(1, F, T)\n",
    "\n",
    "        return torch.from_numpy(frame), torch.from_numpy(spectrogram)"
   ]
  },
  {
   "cell_type": "code",
   "execution_count": 6,
   "metadata": {},
   "outputs": [],
   "source": [
    "## TRY TO ADD DROPOUT\n",
    "\n",
    "class FaceSubnet(nn.Module):\n",
    "\n",
    "    def __init__(self, seed=13):\n",
    "        super(FaceSubnet, self).__init__()\n",
    "        self.conv1 = nn.Conv2d(in_channels=3, out_channels=96, kernel_size=7, stride=2, padding=3)\n",
    "        self.conv2 = nn.Conv2d(in_channels=96, out_channels=256, kernel_size=5, stride=2, padding=2)\n",
    "        self.conv3 = nn.Conv2d(in_channels=256, out_channels=256, kernel_size=3, padding=1)\n",
    "        self.conv4 = nn.Conv2d(in_channels=256, out_channels=256, kernel_size=3, padding=1)\n",
    "        self.conv5 = nn.Conv2d(in_channels=256, out_channels=256, kernel_size=3, padding=1)\n",
    "        \n",
    "        # only after conv layers\n",
    "        self.bn1 = nn.BatchNorm2d(num_features=96)\n",
    "        self.bn2 = nn.BatchNorm2d(num_features=256)\n",
    "        self.bn3 = nn.BatchNorm2d(num_features=256)\n",
    "        self.bn4 = nn.BatchNorm2d(num_features=256)\n",
    "        self.bn5 = nn.BatchNorm2d(num_features=256)\n",
    "        \n",
    "        self.fc6 = nn.Linear(in_features=256 * 7 * 7, out_features=4096)\n",
    "        self.fc7 = nn.Linear(in_features=4096, out_features=1024)\n",
    "        self.fc8 = nn.Linear(in_features=1024, out_features=256)\n",
    "        \n",
    "        self.mpool = nn.MaxPool2d(kernel_size=2)\n",
    "        self.relu = nn.ReLU()\n",
    "        \n",
    "    def forward(self, x):\n",
    "        B, C, H, W = x.size()\n",
    "        \n",
    "        x = self.relu(self.bn1(self.conv1(x)))\n",
    "        x = self.mpool(x)\n",
    "        x = self.relu(self.bn2(self.conv2(x)))\n",
    "        x = self.mpool(x)\n",
    "        x = self.relu(self.bn3(self.conv3(x)))\n",
    "        x = self.relu(self.bn4(self.conv4(x)))\n",
    "        x = self.relu(self.bn5(self.conv5(x)))\n",
    "        x = self.mpool(x)\n",
    "        \n",
    "        x = x.view(x.size(0), -1)\n",
    "        x = self.relu(self.fc6(x))\n",
    "        x = self.relu(self.fc7(x))\n",
    "        x = self.fc8(x)\n",
    "        \n",
    "        return F.normalize(x)\n",
    "#         return x\n",
    "\n",
    "## TRY TO REMOVE DROPOUT\n",
    "\n",
    "class VoiceSubnet(nn.Module):\n",
    "\n",
    "    def __init__(self, seed=13):\n",
    "        super(VoiceSubnet, self).__init__()\n",
    "        self.conv1 = nn.Conv2d(in_channels=1, out_channels=96, kernel_size=7, stride=2, padding=1)\n",
    "        self.conv2 = nn.Conv2d(in_channels=96, out_channels=256, kernel_size=5, stride=2, padding=1)\n",
    "        self.conv3 = nn.Conv2d(in_channels=256, out_channels=256, kernel_size=3, padding=1)\n",
    "        self.conv4 = nn.Conv2d(in_channels=256, out_channels=256, kernel_size=3, padding=1)\n",
    "        self.conv5 = nn.Conv2d(in_channels=256, out_channels=256, kernel_size=3, padding=1)\n",
    "        \n",
    "        # only after conv layers\n",
    "        self.bn1 = nn.BatchNorm2d(num_features=96)\n",
    "        self.bn2 = nn.BatchNorm2d(num_features=256)\n",
    "        self.bn3 = nn.BatchNorm2d(num_features=256)\n",
    "        self.bn4 = nn.BatchNorm2d(num_features=256)\n",
    "        self.bn5 = nn.BatchNorm2d(num_features=256)\n",
    "        self.bn6 = nn.BatchNorm2d(num_features=4096)\n",
    "        \n",
    "        self.relu = nn.ReLU()\n",
    "        \n",
    "        self.mpool1 = nn.MaxPool2d(kernel_size=3, stride=2)\n",
    "        self.mpool2 = nn.MaxPool2d(kernel_size=3, stride=2)\n",
    "        self.mpool5 = nn.MaxPool2d(kernel_size=(5, 3), stride=(3, 2))\n",
    "        \n",
    "        # Conv2d with weights of size (H, 1) is identical to FC with H weights\n",
    "        self.fc6 = nn.Conv2d(in_channels=256, out_channels=4096, kernel_size=(9, 1))\n",
    "        self.fc7 = nn.Linear(in_features=4096, out_features=1024)\n",
    "        self.fc8 = nn.Linear(in_features=1024, out_features=256)\n",
    "        \n",
    "    def forward(self, x):\n",
    "        B, C, H, W = x.size()\n",
    "        x = self.relu(self.bn1(self.conv1(x)))\n",
    "        x = self.mpool1(x)\n",
    "        x = self.relu(self.bn2(self.conv2(x)))\n",
    "        x = self.mpool2(x)\n",
    "        x = self.relu(self.bn3(self.conv3(x)))\n",
    "        x = self.relu(self.bn4(self.conv4(x)))\n",
    "        x = self.relu(self.bn5(self.conv5(x)))\n",
    "        x = self.mpool5(x)\n",
    "        \n",
    "        _, _, _, W = x.size()\n",
    "        self.apool6 = nn.AvgPool2d(kernel_size=(1, W))\n",
    "        \n",
    "        x = self.relu(self.fc6(x))\n",
    "        x = self.apool6(x)\n",
    "        x = x.view(x.size(0), -1)\n",
    "        x = self.relu(self.fc7(x))\n",
    "        x = self.fc8(x)\n",
    "        \n",
    "        return F.normalize(x)\n",
    "#         return x\n",
    "    \n",
    "class CurriculumMining(nn.Module):\n",
    "\n",
    "    def __init__(self):\n",
    "        super(CurriculumMining, self).__init__()\n",
    "        \n",
    "    def forward(self, positive_pairs, tau):\n",
    "        faces, voices = positive_pairs\n",
    "        B, D = faces.size()\n",
    "        # calc dist \n",
    "        # (X - Y) ^ 2 = X^2 + Y^2 - 2XY\n",
    "        x = (faces**2).sum(dim=1).view(-1, 1) + (voices**2).sum(dim=1) - 2*faces.matmul(voices.t())\n",
    "        dists = x.sqrt()\n",
    "        \n",
    "        sorted_dist, sorted_idx = torch.sort(dists, dim=1, descending=True)\n",
    "        Dnj = sorted_dist - dists.diag().view(-1, 1)\n",
    "        idx_threshold = round(tau * (B-1))\n",
    "        \n",
    "        # tricky part\n",
    "        mask = torch.ones_like(sorted_dist)\n",
    "        mask[:, idx_threshold+1:] = 0\n",
    "        mask[Dnj <= 0] = 0\n",
    "        idx_of_sorted_idx = ((mask).sum(dim=1) - 1).abs().long()\n",
    "        neg_samples_idx = torch.gather(sorted_idx, dim=1, index=idx_of_sorted_idx.view(B, 1))\n",
    "        neg_samples_idx = neg_samples_idx.view(B)\n",
    "        \n",
    "#         neg_samples_idx = torch.randperm(B) # here \n",
    "        negative_voices = voices[neg_samples_idx] \n",
    "        print(neg_samples_idx) #6,  6,  6,  6,  6,  6, 17, 16,  9, 3\n",
    "        \n",
    "        return faces, negative_voices\n",
    "    \n",
    "class LearnablePinsNet(nn.Module):\n",
    "\n",
    "    def __init__(self):\n",
    "        super(LearnablePinsNet, self).__init__()\n",
    "        self.face_subnet = FaceSubnet()\n",
    "        self.voice_subnet = VoiceSubnet()\n",
    "        self.curr_mining = CurriculumMining()\n",
    "        \n",
    "    def forward(self, frames, specs, tau=None):\n",
    "        emb_f = self.face_subnet(frames)\n",
    "        emb_v = self.voice_subnet(specs)\n",
    "        \n",
    "#         return emb_f, emb_v# here\n",
    "        \n",
    "        if self.training:\n",
    "            positive_pairs = emb_f, emb_v\n",
    "            negative_pairs = self.curr_mining(positive_pairs, tau)\n",
    "                \n",
    "            return positive_pairs, negative_pairs\n",
    "#             return negative_pairs # here\n",
    "        \n",
    "        else:\n",
    "            return emb_f, emb_v"
   ]
  },
  {
   "cell_type": "code",
   "execution_count": 7,
   "metadata": {},
   "outputs": [],
   "source": [
    "# class ContrastiveLoss(nn.Module):\n",
    "\n",
    "#     def __init__(self):\n",
    "#         super(ContrastiveLoss, self).__init__()\n",
    "#         self.pdist = nn.PairwiseDistance()\n",
    "        \n",
    "#     def forward(self, positive_pairs, negative_pairs, margin):\n",
    "#         ## POSITIVE PART\n",
    "#         faces1, voices1 = positive_pairs\n",
    "#         dists_pos = self.pdist(faces1, voices1)\n",
    "#         pos_part = dists_pos ** 2\n",
    "    \n",
    "#         ## NEGATIVE PART\n",
    "#         faces2, voices2 = negative_pairs\n",
    "#         dists_neg = self.pdist(faces2, voices2)\n",
    "#         neg_part = (margin - dists_neg).clamp(0) ** 2 \n",
    "        \n",
    "#         TBoard.add_scalar('Train/pos_part', pos_part.sum().item(), step_num)\n",
    "#         TBoard.add_scalar('Train/neg_part', neg_part.sum().item(), step_num)\n",
    "#         TBoard.add_scalar('Train/dists_neg_mean', dists_neg.mean().item(), step_num)\n",
    "#         TBoard.add_scalar('Train/faces2', faces2.mean().item(), step_num)\n",
    "#         TBoard.add_scalar('Train/voices2', voices2.mean().item(), step_num)\n",
    "#         TBoard.add_scalar('Train/faces2_voices2', (faces2 - voices2).mean().item(), step_num)\n",
    "        \n",
    "#         ## CALCULATE LOSS\n",
    "#         B, D = faces1.size()\n",
    "#         batch_loss = pos_part.sum() + neg_part.sum()\n",
    "#         batch_loss /= B + B\n",
    "    \n",
    "#         return batch_loss"
   ]
  },
  {
   "cell_type": "code",
   "execution_count": 8,
   "metadata": {},
   "outputs": [],
   "source": [
    "class ContrastiveLoss(nn.Module):\n",
    "\n",
    "    def __init__(self):\n",
    "        super(ContrastiveLoss, self).__init__()\n",
    "        self.pdist = nn.PairwiseDistance()\n",
    "        \n",
    "    def forward(self, positive_pairs, negative_pairs, margin):\n",
    "#     def forward(self, positive_pairs): # here\n",
    "#     def forward(self, negative_pairs, margin): # here\n",
    "        ## POSITIVE PART\n",
    "        faces1, voices1 = positive_pairs\n",
    "        dists_pos = self.pdist(faces1, voices1)\n",
    "        pos_part = dists_pos ** 2\n",
    "        \n",
    "        # NEGATIVE PART\n",
    "        faces2, voices2 = negative_pairs\n",
    "        dists_neg = self.pdist(faces2, voices2)\n",
    "        neg_part = (margin - dists_neg).clamp(0) ** 2\n",
    "        \n",
    "        TBoard.add_scalar('Train/pos_part_sum', pos_part.sum().item(), step_num)\n",
    "        TBoard.add_scalar('Train/neg_part_sum', neg_part.sum().item(), step_num)\n",
    "        TBoard.add_scalar('Train/dists_neg_mean', dists_neg.mean().item(), step_num)\n",
    "        TBoard.add_scalar('Train/dists_pos_mean', dists_pos.mean().item(), step_num)\n",
    "        TBoard.add_scalar('Train/faces2_mean', faces2.mean().item(), step_num)\n",
    "        TBoard.add_scalar('Train/voices2_mean', voices2.mean().item(), step_num)\n",
    "        TBoard.add_scalar('Train/faces1_mean', faces1.mean().item(), step_num)\n",
    "        TBoard.add_scalar('Train/voices1_mean', voices1.mean().item(), step_num)\n",
    "        TBoard.add_scalar('Train/faces2_voices2_mean', (faces2 - voices2).mean().item(), step_num)\n",
    "    \n",
    "        ## CALCULATE LOSS\n",
    "        B, D = faces1.size()\n",
    "        batch_loss = pos_part.sum() + neg_part.sum()\n",
    "        batch_loss /= B + B\n",
    "#         print(voices2 - voices1)\n",
    "        return batch_loss"
   ]
  },
  {
   "cell_type": "code",
   "execution_count": 9,
   "metadata": {},
   "outputs": [],
   "source": [
    "class TauScheduler(object):\n",
    "    '''\n",
    "    \"found that it was effective to increase \\tau by 10 percent \n",
    "    every two epochs, starting from 30% up until 80%, and keeping \n",
    "    it constant thereafter\"\n",
    "    --- So, it is increasing by 10 % every second epoch:\n",
    "            ⎧tau = tau + tau * 0.1, tau < 0.8, \n",
    "            ⎨\n",
    "            ⎩tau = 0.8, tau > 0.8.\n",
    "    '''\n",
    "    \n",
    "    def __init__(self, lowest, highest):\n",
    "        self.current = int(lowest * 100)\n",
    "        self.highest = int(highest * 100)\n",
    "        self.epoch_num = 0\n",
    "\n",
    "    def step(self):\n",
    "            \n",
    "        if self.epoch_num % 2 == 0 and self.epoch_num > 0:\n",
    "#                 self.current += 10\n",
    "            self.current = int(self.current + self.current * 0.1)\n",
    "        \n",
    "        if self.current > self.highest:\n",
    "            self.current = 80\n",
    "    \n",
    "        self.epoch_num += 1\n",
    "        \n",
    "    def get_tau(self):\n",
    "#         return np.random.uniform() # here\n",
    "        return self.current / 100"
   ]
  },
  {
   "cell_type": "code",
   "execution_count": 10,
   "metadata": {},
   "outputs": [],
   "source": [
    "LOG_PATH = '/home/nvme/logs/LearnablePINs/_overfit_test_{}/'.format(time.time())\n",
    "DATA_PATH = '/home/nvme/data/voxceleb1/'\n",
    "SPLIT_PATH = os.path.join(DATA_PATH, 'Splits/filtered_voice_set_labels.txt')\n",
    "FACE_SUBNET_SNAPSHOT_PATH = os.path.join(LOG_PATH, 'face_subnet_snapshot.txt')\n",
    "VOICE_SUBNET_SNAPSHOT_PATH = os.path.join(LOG_PATH, 'voice_subnet_snapshot.txt')\n",
    "DEVICES = [1] # here\n",
    "B = 50 * len(DEVICES)\n",
    "# https://discuss.pytorch.org/t/guidelines-for-assigning-num-workers-to-dataloader/813/5\n",
    "NUM_WORKERS = 4 * len(DEVICES)\n",
    "MARGIN = 0.6 # here"
   ]
  },
  {
   "cell_type": "code",
   "execution_count": 11,
   "metadata": {},
   "outputs": [
    {
     "name": "stdout",
     "output_type": "stream",
     "text": [
      "tensor(100.5002)\n",
      "tensor(102.4994)\n",
      "tensor(1070.4999)\n",
      "tensor(1072.5006)\n"
     ]
    },
    {
     "name": "stderr",
     "output_type": "stream",
     "text": [
      " 25%|██▌       | 1/4 [00:00<00:00,  3.34it/s]"
     ]
    },
    {
     "name": "stdout",
     "output_type": "stream",
     "text": [
      "tensor([ 2, 18, 11,  5, 36, 18, 23, 26, 40, 38, 55, 16, 47, 58,  5, 33, 49, 33,\n",
      "        63, 54,  6, 55, 13, 43, 18, 45,  8, 64, 50, 18, 10, 68, 39, 17, 18, 18,\n",
      "        27, 63, 39, 15, 18, 45, 54, 18, 24, 58, 33, 39, 28, 24, 16, 37,  5,  1,\n",
      "        30, 11, 18, 17, 31, 47, 65, 46, 28, 39, 24, 39, 55, 18, 46, 24],\n",
      "       device='cuda:1')\n"
     ]
    },
    {
     "name": "stderr",
     "output_type": "stream",
     "text": [
      "\r",
      " 50%|█████     | 2/4 [00:00<00:00,  3.36it/s]"
     ]
    },
    {
     "name": "stdout",
     "output_type": "stream",
     "text": [
      "tensor([21, 21,  4, 65, 44, 51, 21, 21, 31, 51, 57, 31,  5, 30, 41,  5,  4, 62,\n",
      "        16,  5, 51, 27, 21,  5, 21,  5, 44,  5, 16, 21, 21, 29, 13, 34, 30, 21,\n",
      "        66, 31, 16, 27, 31,  3, 21,  2, 21, 68, 10, 31, 53, 21, 21, 66,  5, 41,\n",
      "         2, 10, 68, 44, 41, 31, 65, 48, 27, 44,  2, 23, 57, 31, 60, 66],\n",
      "       device='cuda:1')\n"
     ]
    },
    {
     "name": "stderr",
     "output_type": "stream",
     "text": [
      "\r",
      " 75%|███████▌  | 3/4 [00:00<00:00,  3.37it/s]"
     ]
    },
    {
     "name": "stdout",
     "output_type": "stream",
     "text": [
      "tensor([48, 48, 46, 48, 31, 26, 44, 48, 59, 66, 68, 29, 29, 55, 67, 65, 22, 23,\n",
      "        22, 14, 10, 42, 15, 42, 19, 62, 45, 61, 14, 10, 25, 67, 14, 48, 57, 36,\n",
      "        67, 10, 57, 19, 22, 43, 50, 48, 13,  1, 55, 22, 22, 10, 23, 50, 22, 44,\n",
      "        66, 22, 10, 22, 47, 17, 10, 23, 33, 33, 47, 55, 48, 48, 55, 10],\n",
      "       device='cuda:1')\n"
     ]
    },
    {
     "name": "stderr",
     "output_type": "stream",
     "text": [
      "\r",
      "100%|██████████| 4/4 [00:01<00:00,  3.39it/s]"
     ]
    },
    {
     "name": "stdout",
     "output_type": "stream",
     "text": [
      "tensor([31, 36, 63, 27, 23, 27, 35, 44, 27, 63, 52,  0, 11, 27, 11, 44, 58, 28,\n",
      "        27, 33, 35, 43, 31, 69, 27, 12, 68, 32, 66, 52, 13,  4,  4, 36, 35, 65,\n",
      "        68, 33, 35, 56, 42,  5, 23, 35, 27, 67, 52, 65, 38, 41, 44, 38, 65,  6,\n",
      "        47, 47, 44,  1, 28, 47, 47, 23, 35, 47, 42, 27, 47, 62, 44, 52],\n",
      "       device='cuda:1')\n"
     ]
    },
    {
     "name": "stderr",
     "output_type": "stream",
     "text": [
      "\n",
      " 25%|██▌       | 1/4 [00:00<00:00,  3.52it/s]"
     ]
    },
    {
     "name": "stdout",
     "output_type": "stream",
     "text": [
      "tensor([37,  3,  3, 51, 17, 55, 44, 62, 50,  3, 57, 42, 55, 60, 18,  3, 11, 24,\n",
      "        24,  1,  8, 57, 60, 51, 52, 19, 19, 55, 13, 18,  3,  2, 42, 43,  3,  3,\n",
      "        30, 45, 42, 57, 55, 19, 65, 55, 23, 41,  2, 44, 24, 54, 39, 42, 62, 15,\n",
      "        48,  3,  3, 38, 41, 55,  3, 63, 59, 42, 18, 42, 61,  3,  9,  3],\n",
      "       device='cuda:1')\n"
     ]
    },
    {
     "name": "stderr",
     "output_type": "stream",
     "text": [
      "\r",
      " 50%|█████     | 2/4 [00:00<00:00,  3.51it/s]"
     ]
    },
    {
     "name": "stdout",
     "output_type": "stream",
     "text": [
      "tensor([ 4,  4, 32,  4, 46, 38,  4,  4, 26,  4, 43,  5, 30,  0, 31, 10, 42, 49,\n",
      "        25, 66, 38, 35,  4, 10,  4, 29, 43, 10, 25,  4,  4, 42, 52, 29, 39,  4,\n",
      "        63, 26, 25, 16,  5, 25,  4, 63,  4, 17, 63, 63, 28,  4,  5, 24, 10, 35,\n",
      "         4, 48, 30, 21, 12, 26, 26, 26, 50, 64, 25, 46, 27, 26, 10, 63],\n",
      "       device='cuda:1')\n"
     ]
    },
    {
     "name": "stderr",
     "output_type": "stream",
     "text": [
      "\r",
      " 75%|███████▌  | 3/4 [00:00<00:00,  3.49it/s]"
     ]
    },
    {
     "name": "stdout",
     "output_type": "stream",
     "text": [
      "tensor([10, 48, 59, 10, 36, 11, 11, 48, 13, 34, 51, 23, 23, 20, 69, 11, 11, 28,\n",
      "        11, 11, 57, 51, 69, 29, 36, 45, 41, 11, 11, 11, 52,  0, 55, 48, 12, 36,\n",
      "         0, 11, 12, 15, 11, 43, 11, 48, 29,  0, 20, 11, 11, 11, 28, 11, 11, 11,\n",
      "        34, 11, 11, 11,  2, 11, 47, 28, 56,  3, 52, 20, 47, 48, 60, 21],\n",
      "       device='cuda:1')\n"
     ]
    },
    {
     "name": "stderr",
     "output_type": "stream",
     "text": [
      "\r",
      "100%|██████████| 4/4 [00:01<00:00,  3.46it/s]"
     ]
    },
    {
     "name": "stdout",
     "output_type": "stream",
     "text": [
      "tensor([43, 37, 35, 17, 44, 17, 48, 13, 17, 35, 48, 22, 17, 17, 17,  5, 17, 18,\n",
      "        17, 42, 28, 38, 34, 40, 17,  6, 69,  1, 10, 48, 39, 11, 47, 49, 17, 44,\n",
      "        52, 29, 48,  4, 67, 53, 18, 17, 17, 62, 48, 32, 22, 66, 26,  4, 44,  4,\n",
      "        17, 17, 53, 68, 44, 17, 17, 18, 48, 48, 67, 17, 48, 45, 13, 48],\n",
      "       device='cuda:1')\n"
     ]
    },
    {
     "name": "stderr",
     "output_type": "stream",
     "text": [
      "\n",
      " 25%|██▌       | 1/4 [00:00<00:00,  3.51it/s]"
     ]
    },
    {
     "name": "stdout",
     "output_type": "stream",
     "text": [
      "tensor([55, 16, 16,  6, 42, 42, 63, 48, 62, 16, 18, 42, 42, 34,  8, 42, 52, 62,\n",
      "        27, 42, 16,  9,  3, 63, 42, 27, 27, 42, 43,  1, 42,  7, 42, 27, 16, 16,\n",
      "        17, 27, 42, 18, 42, 27, 61, 42, 42, 20, 35, 63, 65, 42, 43, 42, 48,  2,\n",
      "        30, 16, 16, 65, 20, 42, 16, 65, 40, 42,  1, 42, 18, 16, 34, 42],\n",
      "       device='cuda:1')\n"
     ]
    },
    {
     "name": "stderr",
     "output_type": "stream",
     "text": [
      "\r",
      " 50%|█████     | 2/4 [00:00<00:00,  3.50it/s]"
     ]
    },
    {
     "name": "stdout",
     "output_type": "stream",
     "text": [
      "tensor([38, 38,  5, 64, 28, 35, 38, 38,  5,  5, 69,  5,  5, 35, 16,  5,  5, 10,\n",
      "         4,  5, 35, 43, 38,  5, 45,  5, 35,  5,  4, 64, 64, 60, 46,  5,  4, 38,\n",
      "        13,  5, 24, 43,  5, 31, 45, 18, 64, 51, 18,  5, 13, 38, 38,  4,  5,  2,\n",
      "        64, 18, 65, 29, 50,  5, 64, 64, 43, 50, 24, 38, 69,  5,  5, 18],\n",
      "       device='cuda:1')\n"
     ]
    },
    {
     "name": "stderr",
     "output_type": "stream",
     "text": [
      "\r",
      " 75%|███████▌  | 3/4 [00:00<00:00,  3.49it/s]"
     ]
    },
    {
     "name": "stdout",
     "output_type": "stream",
     "text": [
      "tensor([11, 52, 27, 11, 52, 11, 11, 18, 27, 25, 68, 19, 19,  1,  7, 11, 11, 14,\n",
      "        11, 11, 11, 13, 11,  1, 52, 36, 57, 11, 11, 11, 11, 42, 52, 12, 11, 52,\n",
      "         7, 11, 11, 44, 11, 43, 11, 52, 45, 59,  1, 11, 11, 11, 55, 11, 11, 11,\n",
      "        25, 11, 11, 11, 11, 11, 11, 48, 49, 29, 11,  1, 11, 12,  5, 11],\n",
      "       device='cuda:1')\n"
     ]
    },
    {
     "name": "stderr",
     "output_type": "stream",
     "text": [
      "\r",
      "100%|██████████| 4/4 [00:01<00:00,  3.48it/s]"
     ]
    },
    {
     "name": "stdout",
     "output_type": "stream",
     "text": [
      "tensor([68, 62, 17, 21, 23,  1, 21, 18, 21, 17, 28, 33, 35,  1, 35,  2, 35, 43,\n",
      "        33, 17, 21, 17, 68, 17, 21, 26, 17, 41, 29, 48, 22, 17, 17,  6, 67, 65,\n",
      "        17, 58, 21, 17, 33, 13, 44, 67, 33, 46, 48, 25, 63, 35, 18, 17, 23, 17,\n",
      "        35, 42, 13, 17, 34, 42, 25, 44,  0, 48, 33, 21, 48, 45, 18, 33],\n",
      "       device='cuda:1')\n"
     ]
    },
    {
     "name": "stderr",
     "output_type": "stream",
     "text": [
      "\n",
      " 25%|██▌       | 1/4 [00:00<00:00,  3.51it/s]"
     ]
    },
    {
     "name": "stdout",
     "output_type": "stream",
     "text": [
      "tensor([42, 48, 48, 57, 42, 42, 27, 37, 42, 48, 42, 41, 42, 42, 42, 48, 27, 47,\n",
      "        52, 42, 48, 42, 42, 57, 41, 45, 45, 42, 46, 42, 48, 42, 41, 31, 48, 48,\n",
      "        42, 31, 41, 42, 42, 16, 30, 42, 48, 42, 42, 49, 38, 48, 15, 41, 15, 42,\n",
      "        17, 48, 48, 63, 42, 42, 48, 38, 27, 41, 42, 41, 42, 48, 42, 48],\n",
      "       device='cuda:1')\n"
     ]
    },
    {
     "name": "stderr",
     "output_type": "stream",
     "text": [
      "\r",
      " 50%|█████     | 2/4 [00:00<00:00,  3.50it/s]"
     ]
    },
    {
     "name": "stdout",
     "output_type": "stream",
     "text": [
      "tensor([38, 18, 10, 64, 63, 20, 38, 28, 62, 10, 26, 62, 10, 22, 23, 10, 10, 66,\n",
      "        52, 10,  5, 48, 45, 10, 64, 10,  5, 10, 52, 64, 64, 32, 26, 10, 66, 28,\n",
      "        62, 62, 52, 48, 62, 16, 64, 62, 64, 52, 13, 62, 53, 18, 28, 66, 10, 48,\n",
      "        64, 58, 31, 66,  7, 62, 64, 64, 48, 26, 52, 63, 50, 62, 10, 62],\n",
      "       device='cuda:1')\n"
     ]
    },
    {
     "name": "stderr",
     "output_type": "stream",
     "text": [
      "\r",
      " 75%|███████▌  | 3/4 [00:00<00:00,  3.49it/s]"
     ]
    },
    {
     "name": "stdout",
     "output_type": "stream",
     "text": [
      "tensor([11, 11, 44, 11, 11, 11, 11, 11, 48, 50, 11, 12, 52,  1, 37, 11, 11, 11,\n",
      "        11, 11, 11, 28,  1,  1, 11, 11, 11, 11, 11, 11, 11, 37, 11, 11, 11, 11,\n",
      "        37, 11, 11, 11, 11, 37, 11, 11,  2, 27,  1, 11, 11, 11, 11, 11, 11, 11,\n",
      "        50, 11, 11, 11, 11, 11, 11, 11,  1,  1, 11,  1, 11, 11, 19, 11],\n",
      "       device='cuda:1')\n"
     ]
    },
    {
     "name": "stderr",
     "output_type": "stream",
     "text": [
      "\r",
      "100%|██████████| 4/4 [00:01<00:00,  3.48it/s]"
     ]
    },
    {
     "name": "stdout",
     "output_type": "stream",
     "text": [
      "tensor([ 4, 63,  4, 30, 62, 33, 33, 62, 30,  4, 33, 33, 30, 33, 30, 23, 28,  1,\n",
      "        33, 35, 33, 63, 42, 56, 33, 66, 35, 21, 39, 33, 26,  4, 52, 63, 33, 28,\n",
      "        35, 35, 33, 35, 33, 26, 62, 33, 33, 35, 33, 40, 10, 35,  9, 35, 32, 35,\n",
      "        41, 67, 20, 35, 33, 67,  0, 62, 33, 33, 33, 33, 33, 29, 62, 33],\n",
      "       device='cuda:1')\n"
     ]
    },
    {
     "name": "stderr",
     "output_type": "stream",
     "text": [
      "\n",
      " 25%|██▌       | 1/4 [00:00<00:00,  3.52it/s]"
     ]
    },
    {
     "name": "stdout",
     "output_type": "stream",
     "text": [
      "tensor([17, 16, 16, 47, 41, 41, 30, 52, 56, 16, 17, 16, 41, 41, 41, 16,  1,  8,\n",
      "        45, 16, 16, 17, 41, 47, 16, 54, 17, 41, 56, 41, 16, 41, 16, 54, 16, 16,\n",
      "        41, 54, 16, 17, 41, 54, 57, 41, 16, 41, 41,  8, 46, 16, 56, 16,  6, 17,\n",
      "        17, 16, 16, 69, 41, 41, 16, 46,  2, 16, 41, 16, 17, 16, 41, 16],\n",
      "       device='cuda:1')\n"
     ]
    },
    {
     "name": "stderr",
     "output_type": "stream",
     "text": [
      "\r",
      " 50%|█████     | 2/4 [00:00<00:00,  3.51it/s]"
     ]
    },
    {
     "name": "stdout",
     "output_type": "stream",
     "text": [
      "tensor([64, 64, 66, 64, 63, 41, 64, 64, 45, 45, 66, 64, 10,  0,  1, 32, 66, 66,\n",
      "        10, 10,  5, 22, 64, 66, 64, 45,  5, 66, 10, 64, 64, 66,  7, 45, 66, 64,\n",
      "        64, 45, 10, 68, 64, 52, 64, 64, 64, 30, 64, 64, 32, 64, 64, 66, 66, 22,\n",
      "        64, 64, 30, 66,  0, 45, 64, 64, 68, 26, 10, 18, 42, 48, 66, 64],\n",
      "       device='cuda:1')\n"
     ]
    },
    {
     "name": "stderr",
     "output_type": "stream",
     "text": [
      "\r",
      " 75%|███████▌  | 3/4 [00:00<00:00,  3.50it/s]"
     ]
    },
    {
     "name": "stdout",
     "output_type": "stream",
     "text": [
      "tensor([11, 11, 62, 11, 11, 11, 11, 11, 62, 32,  9, 12, 44, 10, 25, 11, 11, 11,\n",
      "        11, 11, 11,  9, 19, 28, 11, 11, 11, 11, 11, 11, 11, 43, 11, 11, 11, 11,\n",
      "        33, 11, 11, 11, 11,  7, 11, 11, 41,  7, 15, 11, 11, 11, 11, 11, 11, 11,\n",
      "        55, 11, 11, 11, 11, 11, 11, 11, 19, 19, 11, 10, 11, 11, 32, 11],\n",
      "       device='cuda:1')\n"
     ]
    },
    {
     "name": "stderr",
     "output_type": "stream",
     "text": [
      "100%|██████████| 4/4 [00:01<00:00,  3.50it/s]\n",
      "  0%|          | 0/4 [00:00<?, ?it/s]"
     ]
    },
    {
     "name": "stdout",
     "output_type": "stream",
     "text": [
      "tensor([17, 36, 17, 48, 32, 48, 67, 62, 48, 17, 67, 33, 30, 48, 30,  6, 30, 47,\n",
      "        48, 17, 67, 66, 17, 17, 48, 66, 17, 15, 52, 67, 26, 17, 17, 63, 48, 66,\n",
      "        17, 17, 67, 17, 33, 20, 62, 48, 48, 17, 67, 58, 53, 17, 62, 17, 31, 17,\n",
      "        21, 21, 20, 17, 17, 21, 25, 62, 22, 67, 33, 48, 67, 63, 62, 67],\n",
      "       device='cuda:1')\n"
     ]
    },
    {
     "name": "stderr",
     "output_type": "stream",
     "text": [
      "\r",
      " 25%|██▌       | 1/4 [00:00<00:00,  3.51it/s]"
     ]
    },
    {
     "name": "stdout",
     "output_type": "stream",
     "text": [
      "tensor([42, 16, 16,  6, 42, 42, 15, 18, 28, 16, 42, 42, 42, 42, 42, 16, 55,  8,\n",
      "        58, 42, 16, 42, 42,  3, 42, 45, 45, 42,  2, 42, 16, 42, 42, 27, 16, 16,\n",
      "        42, 49, 16, 42, 42, 44, 41, 42, 16, 42, 42, 68, 27, 16, 13, 42, 23, 42,\n",
      "        42, 16, 16, 46, 42, 42, 16, 27, 17, 16, 42, 16, 42, 16, 42, 16],\n",
      "       device='cuda:1')\n"
     ]
    },
    {
     "name": "stderr",
     "output_type": "stream",
     "text": [
      "\r",
      " 50%|█████     | 2/4 [00:00<00:00,  3.50it/s]"
     ]
    },
    {
     "name": "stdout",
     "output_type": "stream",
     "text": [
      "tensor([45, 45,  5, 64, 63, 26, 45, 45, 56,  5, 66, 45,  5,  6, 23,  5,  5,  5,\n",
      "        24,  5,  5, 68, 45,  5, 45,  5, 41,  5, 31, 64, 64,  5,  7,  5,  5, 45,\n",
      "        45, 56, 42,  7, 45,  0, 45, 45, 45, 15, 45, 45,  5, 45, 45,  5,  5, 68,\n",
      "        64, 45, 15,  5,  1, 56, 64, 64,  7, 18, 15,  5, 44, 20,  5, 45],\n",
      "       device='cuda:1')\n"
     ]
    },
    {
     "name": "stderr",
     "output_type": "stream",
     "text": [
      "\r",
      " 75%|███████▌  | 3/4 [00:00<00:00,  3.49it/s]"
     ]
    },
    {
     "name": "stdout",
     "output_type": "stream",
     "text": [
      "tensor([11, 11,  8, 11, 11, 11, 11, 11, 62, 32, 11, 12, 44,  0, 11, 11, 11, 11,\n",
      "        11, 11, 11,  2,  0,  2, 11, 11, 11, 11, 11, 11, 11,  7, 11, 11, 11, 11,\n",
      "        12, 11, 11, 11, 11,  2, 11, 11, 31,  2,  0, 11, 11, 11, 11, 11, 11, 11,\n",
      "        32, 11, 11, 11, 11, 11, 11, 11,  0,  5, 11,  0, 11, 11, 32, 11],\n",
      "       device='cuda:1')\n"
     ]
    },
    {
     "name": "stderr",
     "output_type": "stream",
     "text": [
      "\r",
      "100%|██████████| 4/4 [00:01<00:00,  3.48it/s]"
     ]
    },
    {
     "name": "stdout",
     "output_type": "stream",
     "text": [
      "tensor([17, 34, 17, 33, 17, 33, 33,  2, 33, 17, 48, 33, 21, 33, 21, 13, 21, 47,\n",
      "        33, 17, 33, 36, 50, 30, 33, 36, 17, 25, 29, 48,  5, 17, 41, 34, 33, 31,\n",
      "        17, 17, 33, 17, 33,  5, 27, 33, 33, 17, 48, 17, 47, 17, 13, 17,  0, 17,\n",
      "        21, 21, 26, 17, 48, 21, 33, 18, 28, 48, 33, 33, 48, 62, 13, 48],\n",
      "       device='cuda:1')\n"
     ]
    },
    {
     "name": "stderr",
     "output_type": "stream",
     "text": [
      "\n",
      " 25%|██▌       | 1/4 [00:00<00:00,  3.53it/s]"
     ]
    },
    {
     "name": "stdout",
     "output_type": "stream",
     "text": [
      "tensor([42, 16, 16,  7, 42, 42,  5, 52, 60, 16, 42, 61, 42, 42, 42, 16, 30, 69,\n",
      "        43, 42, 16, 42, 42, 62, 61, 63, 43, 42, 15, 42, 16, 42, 48, 40, 16, 16,\n",
      "        42, 40, 16, 42, 42, 42,  7, 42, 16, 42, 42,  5,  5, 16, 15, 48,  3, 42,\n",
      "        42, 16, 16,  5, 42, 42, 16,  5, 69, 16, 42, 48, 42, 16, 42, 16],\n",
      "       device='cuda:1')\n"
     ]
    },
    {
     "name": "stderr",
     "output_type": "stream",
     "text": [
      "\r",
      " 50%|█████     | 2/4 [00:00<00:00,  3.51it/s]"
     ]
    },
    {
     "name": "stdout",
     "output_type": "stream",
     "text": [
      "tensor([64, 64, 14, 64, 20,  4, 64, 45, 13, 13, 26, 13, 14,  7, 50, 14, 14,  5,\n",
      "        19, 14, 65, 55, 64, 58, 64, 14, 18, 58, 31, 64, 64, 14, 52, 13, 14, 45,\n",
      "        13, 13, 19, 52, 58, 12, 64, 45, 64, 49, 45, 13, 62, 64, 45, 14, 14,  2,\n",
      "        64, 45, 49,  5, 35, 13, 64, 64, 52,  5, 49,  4, 48, 13, 14, 13],\n",
      "       device='cuda:1')\n"
     ]
    },
    {
     "name": "stderr",
     "output_type": "stream",
     "text": [
      "\r",
      " 75%|███████▌  | 3/4 [00:00<00:00,  3.50it/s]"
     ]
    },
    {
     "name": "stdout",
     "output_type": "stream",
     "text": [
      "tensor([11, 11,  8, 11, 11, 11, 11, 11,  9, 69, 43, 12, 14, 60,  1, 11, 11, 11,\n",
      "        11, 11, 11, 12, 60, 49, 11, 11, 11, 11, 11, 11, 11, 37, 11, 11, 11, 11,\n",
      "         1, 11, 11, 11, 11, 29, 11, 11, 63, 49, 60, 11, 11, 11, 11, 11, 11, 11,\n",
      "        69, 11, 11, 11, 11, 11, 11, 11, 60, 60, 11, 60, 11, 11,  5, 11],\n",
      "       device='cuda:1')\n"
     ]
    },
    {
     "name": "stderr",
     "output_type": "stream",
     "text": [
      "100%|██████████| 4/4 [00:01<00:00,  3.47it/s]\n",
      "  0%|          | 0/4 [00:00<?, ?it/s]"
     ]
    },
    {
     "name": "stdout",
     "output_type": "stream",
     "text": [
      "tensor([ 7, 36, 56, 25,  9,  1, 67, 13, 30, 56, 33, 33, 30, 25, 30, 13, 30, 48,\n",
      "        25, 68, 67,  5,  7, 56, 21,  5, 50, 47, 34, 33,  5, 56, 56, 36,  1, 44,\n",
      "        50, 61, 67, 68, 33, 26, 18,  1, 25,  7, 33, 58, 34, 61, 13, 15, 44, 50,\n",
      "        30, 30, 13, 61, 27, 30, 30, 18, 67, 33, 33, 21,  0, 34, 13, 33],\n",
      "       device='cuda:1')\n"
     ]
    },
    {
     "name": "stderr",
     "output_type": "stream",
     "text": [
      "\r",
      " 25%|██▌       | 1/4 [00:00<00:00,  3.51it/s]"
     ]
    },
    {
     "name": "stdout",
     "output_type": "stream",
     "text": [
      "tensor([42, 16, 16, 42, 26, 26, 68, 52, 42, 16, 42, 26, 26, 42, 25, 16, 15, 65,\n",
      "        40, 26, 16, 42, 42, 55, 26, 40, 40, 26, 69, 25, 16, 42, 26,  5, 16, 16,\n",
      "        25,  5, 16, 42, 26, 43,  7, 26, 16, 42, 42, 68, 49, 16, 13, 62, 47, 42,\n",
      "        25, 16, 16,  5, 42, 26, 16, 49, 69, 16, 26, 16, 25, 16, 42, 16],\n",
      "       device='cuda:1')\n"
     ]
    },
    {
     "name": "stderr",
     "output_type": "stream",
     "text": [
      "\r",
      " 50%|█████     | 2/4 [00:00<00:00,  3.49it/s]"
     ]
    },
    {
     "name": "stdout",
     "output_type": "stream",
     "text": [
      "tensor([48, 45, 62, 64, 56, 18, 45, 45, 53, 14, 52, 58, 53,  7, 50, 39, 62, 39,\n",
      "         1, 53, 63, 55, 45, 21, 64, 53, 20, 39,  1, 64, 64, 62, 52, 21, 62, 45,\n",
      "        45, 58,  1, 55, 45, 12, 64, 45, 64,  1, 45, 45, 21, 45, 45, 62, 39,  2,\n",
      "        64, 45,  1, 39,  7, 53, 64, 64, 55, 26,  1,  7, 52, 58, 21, 45],\n",
      "       device='cuda:1')\n"
     ]
    },
    {
     "name": "stderr",
     "output_type": "stream",
     "text": [
      "\r",
      " 75%|███████▌  | 3/4 [00:00<00:00,  3.48it/s]"
     ]
    },
    {
     "name": "stdout",
     "output_type": "stream",
     "text": [
      "tensor([11, 11,  8, 11, 11, 11, 11, 11, 44, 69,  0, 12, 14, 32,  3, 11, 11, 11,\n",
      "        11, 11, 11, 59, 32, 27, 11, 11, 11, 11, 11, 11, 11,  1, 11, 11, 11, 11,\n",
      "         1, 11, 11, 11, 11, 56, 11, 11,  2, 27, 32, 11, 11, 11, 11, 11, 11, 11,\n",
      "        69, 11, 11, 11, 11, 11, 11, 11, 69, 69, 11, 32, 11, 11,  5, 11],\n",
      "       device='cuda:1')\n"
     ]
    },
    {
     "name": "stderr",
     "output_type": "stream",
     "text": [
      "\r",
      "100%|██████████| 4/4 [00:01<00:00,  3.47it/s]"
     ]
    },
    {
     "name": "stdout",
     "output_type": "stream",
     "text": [
      "tensor([61,  5, 61, 41, 44,  1, 48, 18, 50, 61, 48, 33, 50, 15, 50, 13, 50, 27,\n",
      "        41, 42, 48,  5, 61, 15, 41, 26, 61, 58, 40, 48, 13, 50, 50,  5,  1, 44,\n",
      "        61, 42, 48, 42, 33, 13, 18,  1, 41, 61, 48, 48, 36, 42,  2, 61, 44, 42,\n",
      "        50, 50, 13, 42, 34, 50, 50, 18, 48, 48, 33, 41, 48,  5, 18, 22],\n",
      "       device='cuda:1')\n"
     ]
    },
    {
     "name": "stderr",
     "output_type": "stream",
     "text": [
      "\n",
      " 25%|██▌       | 1/4 [00:00<00:00,  3.52it/s]"
     ]
    },
    {
     "name": "stdout",
     "output_type": "stream",
     "text": [
      "tensor([42, 16, 16, 62, 42, 42, 49, 61, 65, 16, 42, 26, 42, 42, 42, 16, 20, 65,\n",
      "        46, 26, 16, 42, 42,  7, 26,  5,  5, 42, 15, 42, 16, 42, 26,  5, 16, 16,\n",
      "        42,  5, 26, 42, 42,  5,  7, 42, 26, 42, 42, 49, 49, 16, 15, 26,  7, 42,\n",
      "        42, 16, 16, 49, 42, 42, 16, 49, 68, 26, 42, 26, 42, 16, 42, 16],\n",
      "       device='cuda:1')\n"
     ]
    },
    {
     "name": "stderr",
     "output_type": "stream",
     "text": [
      "\r",
      " 50%|█████     | 2/4 [00:00<00:00,  3.51it/s]"
     ]
    },
    {
     "name": "stdout",
     "output_type": "stream",
     "text": [
      "tensor([45, 45,  5, 45, 69,  0, 45, 45, 21, 39, 52, 21,  5,  7, 15,  5,  5,  5,\n",
      "         1,  5, 63, 15, 45,  5, 45, 39, 28,  5,  1, 45, 45,  5, 55, 39,  5, 45,\n",
      "        21, 21,  1, 55, 21, 16, 45, 14, 45,  1, 21, 21, 62, 45, 45,  5,  5, 15,\n",
      "        45, 14,  1,  5,  2, 21, 45, 45, 55, 38,  1, 23, 52, 21,  5, 21],\n",
      "       device='cuda:1')\n"
     ]
    },
    {
     "name": "stderr",
     "output_type": "stream",
     "text": [
      "\r",
      " 75%|███████▌  | 3/4 [00:00<00:00,  3.51it/s]"
     ]
    },
    {
     "name": "stdout",
     "output_type": "stream",
     "text": [
      "tensor([11, 11, 59, 11, 11, 11, 11, 11, 46,  5, 43, 12, 14, 69, 29, 11, 11, 11,\n",
      "        11, 11, 11,  0, 69, 27, 11, 11, 11, 11, 11, 11, 11, 29, 11, 11, 11, 11,\n",
      "        29, 11, 11, 11, 11, 66, 11, 11,  8, 27, 69, 11, 11, 11, 11, 11, 11, 11,\n",
      "         5, 11, 11, 11, 11, 11, 11, 11, 69, 69, 11, 69, 11, 11, 69, 11],\n",
      "       device='cuda:1')\n"
     ]
    },
    {
     "name": "stderr",
     "output_type": "stream",
     "text": [
      "100%|██████████| 4/4 [00:01<00:00,  3.50it/s]\n",
      "  0%|          | 0/4 [00:00<?, ?it/s]"
     ]
    },
    {
     "name": "stdout",
     "output_type": "stream",
     "text": [
      "tensor([42, 40, 17, 50, 44, 56, 28, 44, 50, 17, 33, 33, 27, 56, 27, 18, 50, 32,\n",
      "        50, 17, 28, 40, 42, 50, 50, 13, 17, 17, 18, 33, 13, 17, 17, 40, 33, 44,\n",
      "        17, 17, 28, 17, 33, 13, 44, 15, 50,  4, 33, 23, 14, 17,  9, 17, 44, 17,\n",
      "        50, 50, 18, 17, 23, 50, 50, 44, 28, 33, 33, 50, 33, 64, 44, 33],\n",
      "       device='cuda:1')\n"
     ]
    },
    {
     "name": "stderr",
     "output_type": "stream",
     "text": [
      "\r",
      " 25%|██▌       | 1/4 [00:00<00:00,  3.51it/s]"
     ]
    },
    {
     "name": "stdout",
     "output_type": "stream",
     "text": [
      "tensor([42,  6,  6, 31, 42, 42, 49, 57, 65,  6, 42, 42, 42, 42, 42,  6, 34, 43,\n",
      "         5, 42,  6, 42, 42, 31, 42,  5,  5, 42, 59, 42,  6, 42, 42, 46,  6,  6,\n",
      "        42, 46, 42, 42, 42,  5, 52, 42, 26, 42, 42, 49, 49, 26, 34, 42, 61, 42,\n",
      "        42,  6,  6, 46, 42, 42,  6, 46, 49, 42, 42, 42, 42,  6, 42, 26],\n",
      "       device='cuda:1')\n"
     ]
    },
    {
     "name": "stderr",
     "output_type": "stream",
     "text": [
      "\r",
      " 50%|█████     | 2/4 [00:00<00:00,  3.50it/s]"
     ]
    },
    {
     "name": "stdout",
     "output_type": "stream",
     "text": [
      "tensor([58, 58,  5, 45, 36, 38, 14, 53, 53,  5, 52, 53,  5, 35, 15,  5,  5,  5,\n",
      "        61,  5, 35, 55, 58,  5, 45,  5, 36,  5, 61, 45, 45,  5, 52,  5,  5, 53,\n",
      "        53, 53, 61, 55, 53,  7, 45, 14, 45, 54, 20, 53, 62, 56, 14,  5,  5, 15,\n",
      "        45, 14, 54,  5, 50, 53, 45, 45, 55, 36, 25, 23, 52, 53,  5, 53],\n",
      "       device='cuda:1')\n"
     ]
    },
    {
     "name": "stderr",
     "output_type": "stream",
     "text": [
      "\r",
      " 75%|███████▌  | 3/4 [00:00<00:00,  3.48it/s]"
     ]
    },
    {
     "name": "stdout",
     "output_type": "stream",
     "text": [
      "tensor([11, 11, 42, 11, 11, 11, 11, 11, 42, 52,  3, 12, 10, 69, 29, 11, 11, 11,\n",
      "        11, 11, 11, 59, 69, 27, 11, 11, 11, 11, 11, 11, 11, 29, 11, 11, 11, 11,\n",
      "        29, 11, 11, 11, 11, 66, 11, 11,  2, 27, 69, 11, 11, 11, 11, 11, 11, 11,\n",
      "        52, 11, 11, 11, 11, 11, 11, 11, 69, 69, 11, 69, 11, 11, 69, 11],\n",
      "       device='cuda:1')\n"
     ]
    },
    {
     "name": "stderr",
     "output_type": "stream",
     "text": [
      "100%|██████████| 4/4 [00:01<00:00,  3.48it/s]\n",
      "  0%|          | 0/4 [00:00<?, ?it/s]"
     ]
    },
    {
     "name": "stdout",
     "output_type": "stream",
     "text": [
      "tensor([42, 11, 17, 56, 44, 15, 33, 44, 56, 17, 67, 67, 15, 15, 15, 44, 27, 31,\n",
      "        56, 17, 28, 11, 42, 17, 56, 11, 17, 67, 14, 67,  2, 17, 17, 11, 41, 44,\n",
      "        17, 17, 33, 17, 67, 64, 44, 41, 56,  4, 67, 31, 14, 17, 44, 17, 44, 17,\n",
      "        50, 50, 44, 17, 31, 50, 50, 44, 33, 67, 67, 56, 28, 11, 44, 67],\n",
      "       device='cuda:1')\n"
     ]
    },
    {
     "name": "stderr",
     "output_type": "stream",
     "text": [
      "\r",
      " 25%|██▌       | 1/4 [00:00<00:00,  3.51it/s]"
     ]
    },
    {
     "name": "stdout",
     "output_type": "stream",
     "text": [
      "tensor([42,  6,  6, 31, 42, 42, 20, 48, 65,  6, 42, 42, 42, 42, 42,  6, 68, 43,\n",
      "         5, 42,  6, 42, 42, 31, 42,  5,  5, 42, 34, 42,  6, 42, 42, 46,  6,  6,\n",
      "        42, 44, 42, 42, 42, 38, 57, 42, 26, 42, 42, 20, 46, 26, 34, 42, 47, 42,\n",
      "        42,  6,  6, 46, 42, 42,  6, 46, 35, 42, 42, 42, 42,  6, 42,  6],\n",
      "       device='cuda:1')\n"
     ]
    },
    {
     "name": "stderr",
     "output_type": "stream",
     "text": [
      "\r",
      " 50%|█████     | 2/4 [00:00<00:00,  3.50it/s]"
     ]
    },
    {
     "name": "stdout",
     "output_type": "stream",
     "text": [
      "tensor([18, 14,  5, 18, 36, 36, 58, 58, 53,  5, 52, 53,  5, 35, 15,  5,  5,  5,\n",
      "        35,  5, 36, 55, 14,  5, 18,  5, 36,  5, 25, 18, 18,  5, 68,  5,  5, 53,\n",
      "        20, 53,  3, 55, 53, 19, 18, 14, 18,  3, 14, 53, 39, 56, 53,  5,  5, 15,\n",
      "        18, 14, 35,  5, 50, 53, 18, 18, 55, 36,  3, 23, 52, 53,  5, 14],\n",
      "       device='cuda:1')\n"
     ]
    },
    {
     "name": "stderr",
     "output_type": "stream",
     "text": [
      "\r",
      " 75%|███████▌  | 3/4 [00:00<00:00,  3.49it/s]"
     ]
    },
    {
     "name": "stdout",
     "output_type": "stream",
     "text": [
      "tensor([11, 11, 42, 11, 11, 11, 11, 11, 42, 52,  3, 12, 10, 69, 37, 11, 11, 11,\n",
      "        11, 11, 11,  0, 69, 27, 11, 11, 11, 11, 11, 11, 11, 29, 11, 11, 11, 11,\n",
      "        29, 11, 11, 11, 11, 66, 11, 11, 23,  1, 69, 11, 11, 11, 11, 11, 11, 11,\n",
      "        52, 11, 11, 11, 11, 11, 11, 11, 69, 27, 11, 69, 11, 11, 18, 11],\n",
      "       device='cuda:1')\n"
     ]
    },
    {
     "name": "stderr",
     "output_type": "stream",
     "text": [
      "\r",
      "100%|██████████| 4/4 [00:01<00:00,  3.48it/s]"
     ]
    },
    {
     "name": "stdout",
     "output_type": "stream",
     "text": [
      "tensor([52, 11, 17, 15, 44, 41, 67, 44, 15, 17, 67, 67, 56, 41, 56, 40, 56, 65,\n",
      "        41, 17, 67, 11, 42, 15, 15,  2, 17, 24, 14, 67, 64, 17, 17, 11, 28, 44,\n",
      "        17, 17, 67, 17, 67, 64, 44, 28, 41, 17, 67, 31, 14, 17, 40, 17, 44, 17,\n",
      "        56, 56,  9, 17, 31, 56, 15, 44, 67, 67, 67, 15, 67, 14, 44, 67],\n",
      "       device='cuda:1')\n"
     ]
    },
    {
     "name": "stderr",
     "output_type": "stream",
     "text": [
      "\n",
      " 25%|██▌       | 1/4 [00:00<00:00,  3.50it/s]"
     ]
    },
    {
     "name": "stdout",
     "output_type": "stream",
     "text": [
      "tensor([42,  6,  6, 31, 42, 42, 20, 65, 65,  6, 42, 42, 42, 42, 42,  6, 34, 65,\n",
      "         5, 42,  6, 42, 42, 31, 42,  5,  5, 42, 34, 42,  6, 42, 42, 44,  6,  6,\n",
      "        42, 44, 26, 42, 42, 38, 48, 42, 26, 42, 42, 20, 46,  6, 34, 42, 27, 42,\n",
      "        42,  6,  6, 46, 42, 42,  6, 46, 35, 42, 42, 42, 42,  6, 42,  6],\n",
      "       device='cuda:1')\n"
     ]
    },
    {
     "name": "stderr",
     "output_type": "stream",
     "text": [
      "\r",
      " 50%|█████     | 2/4 [00:00<00:00,  3.48it/s]"
     ]
    },
    {
     "name": "stdout",
     "output_type": "stream",
     "text": [
      "tensor([18, 18,  5, 18, 36, 36, 18, 18, 53, 53, 68, 20,  5, 50, 15,  5,  5,  5,\n",
      "        25,  5, 36, 55, 18,  5, 18,  5, 36,  5, 29, 18, 18,  5, 68,  5,  5, 18,\n",
      "        21, 53, 29, 55, 21, 54, 18, 14, 18, 50, 21, 21, 20, 18, 14,  5,  5, 55,\n",
      "        18, 14, 50,  5, 50, 53, 18, 18, 55, 36, 50, 27, 43, 53,  5, 21],\n",
      "       device='cuda:1')\n"
     ]
    },
    {
     "name": "stderr",
     "output_type": "stream",
     "text": [
      "\r",
      " 75%|███████▌  | 3/4 [00:00<00:00,  3.48it/s]"
     ]
    },
    {
     "name": "stdout",
     "output_type": "stream",
     "text": [
      "tensor([11, 11, 42, 11, 11, 11, 11, 11, 42, 52,  3, 12, 10, 69, 37, 11, 11, 11,\n",
      "        11, 11, 11,  0, 27, 49, 11, 11, 11, 11, 11, 11, 11, 37, 11, 11, 11, 11,\n",
      "        37, 11, 11, 11, 11, 66, 11, 11, 13, 49, 18, 11, 11, 11, 11, 11, 11, 11,\n",
      "        52, 11, 11, 11, 11, 11, 11, 11, 27, 27, 11, 69, 11, 11, 20, 11],\n",
      "       device='cuda:1')\n"
     ]
    },
    {
     "name": "stderr",
     "output_type": "stream",
     "text": [
      "\r",
      "100%|██████████| 4/4 [00:01<00:00,  3.47it/s]"
     ]
    },
    {
     "name": "stdout",
     "output_type": "stream",
     "text": [
      "tensor([52, 11, 17, 41, 44, 67, 67, 40, 15, 17, 67, 67, 15, 41, 15, 40, 15, 65,\n",
      "        41, 17, 67, 11, 66, 15, 41,  2, 17, 24, 14, 67, 64, 50, 15, 11, 67, 44,\n",
      "        17, 17, 67, 17, 67, 64, 44, 67, 41, 52, 67, 31, 14, 17, 40, 17, 44, 17,\n",
      "        15, 15, 40, 17, 65, 15, 15, 44, 67, 67, 67, 41, 67, 14, 40, 67],\n",
      "       device='cuda:1')\n"
     ]
    },
    {
     "name": "stderr",
     "output_type": "stream",
     "text": [
      "\n",
      " 25%|██▌       | 1/4 [00:00<00:00,  3.51it/s]"
     ]
    },
    {
     "name": "stdout",
     "output_type": "stream",
     "text": [
      "tensor([42,  6,  6, 31, 42, 42, 20, 28, 31,  6, 42, 42, 42, 42, 42,  6, 34, 65,\n",
      "         5, 42,  6, 42, 42, 31, 42,  5,  5, 42, 34, 42,  6, 42, 26, 44,  6,  6,\n",
      "        42, 44, 26, 42, 42, 40, 65, 42,  6, 42, 42, 20, 46,  6, 34, 26, 51, 42,\n",
      "        42,  6,  6, 44, 42, 42,  6, 46, 35, 26, 42, 26, 42,  6, 42,  6],\n",
      "       device='cuda:1')\n"
     ]
    },
    {
     "name": "stderr",
     "output_type": "stream",
     "text": [
      "\r",
      " 50%|█████     | 2/4 [00:00<00:00,  3.50it/s]"
     ]
    },
    {
     "name": "stdout",
     "output_type": "stream",
     "text": [
      "tensor([18, 18,  5, 45, 36, 36, 18, 18, 21, 21, 52, 21,  5, 61, 15,  5,  5,  5,\n",
      "        25,  5, 36, 55, 18,  5, 18,  5, 36,  5, 29, 45, 45,  5, 68, 21,  5, 18,\n",
      "        21, 21, 16, 55, 21, 54, 18, 14, 45, 30, 14, 21, 58, 18, 18,  5,  5, 55,\n",
      "        45, 18, 30,  5, 60, 21, 45, 45, 68, 36, 30, 36, 52, 21,  5, 21],\n",
      "       device='cuda:1')\n"
     ]
    },
    {
     "name": "stderr",
     "output_type": "stream",
     "text": [
      "\r",
      " 75%|███████▌  | 3/4 [00:00<00:00,  3.49it/s]"
     ]
    },
    {
     "name": "stdout",
     "output_type": "stream",
     "text": [
      "tensor([11, 11, 42, 11, 11, 11, 11, 11, 42, 16,  3, 12, 10, 69,  3, 11, 11, 11,\n",
      "        11, 11, 11,  0, 27, 60, 11, 11, 11, 11, 11, 11, 11, 37, 11, 11, 11, 11,\n",
      "        37, 11, 11, 11, 11, 43, 11, 11, 68, 60, 18, 11, 11, 11, 11, 11, 11, 11,\n",
      "        16, 11, 11, 11, 11, 11, 11, 11, 27,  1, 11, 69, 11, 11, 18, 11],\n",
      "       device='cuda:1')\n"
     ]
    },
    {
     "name": "stderr",
     "output_type": "stream",
     "text": [
      "\r",
      "100%|██████████| 4/4 [00:01<00:00,  3.49it/s]"
     ]
    },
    {
     "name": "stdout",
     "output_type": "stream",
     "text": [
      "tensor([68, 65, 50, 41, 44, 67, 67, 40, 41, 50, 67, 67, 15, 67, 15, 40, 15, 65,\n",
      "        56, 17, 67, 65, 41, 15, 41, 65, 50, 23, 14, 67, 65, 15, 15,  2, 67, 44,\n",
      "        17, 17, 67, 17, 67, 64, 40, 67, 56, 52, 67, 65, 14, 17, 40, 17, 44, 17,\n",
      "        15, 15, 40, 17, 65, 15, 15, 40, 67, 67, 67, 41, 67, 65, 40, 67],\n",
      "       device='cuda:1')\n"
     ]
    },
    {
     "name": "stderr",
     "output_type": "stream",
     "text": [
      "\n",
      " 25%|██▌       | 1/4 [00:00<00:00,  3.51it/s]"
     ]
    },
    {
     "name": "stdout",
     "output_type": "stream",
     "text": [
      "tensor([42,  6, 16, 31, 42, 42, 20, 58, 31, 16, 42, 26, 42, 42, 42,  6, 34, 31,\n",
      "         5, 42,  6, 42, 42, 31, 42, 38,  5, 42, 34, 42, 16, 42, 26, 44,  6,  6,\n",
      "        42, 44, 26, 42, 42, 40, 62, 42,  6, 42, 42, 20, 44,  6, 34, 26, 51, 42,\n",
      "        42,  6,  6, 44, 42, 42, 16, 44, 35, 26, 42, 26, 42,  6, 42,  6],\n",
      "       device='cuda:1')\n"
     ]
    },
    {
     "name": "stderr",
     "output_type": "stream",
     "text": [
      "\r",
      " 50%|█████     | 2/4 [00:00<00:00,  3.50it/s]"
     ]
    },
    {
     "name": "stdout",
     "output_type": "stream",
     "text": [
      "tensor([18, 18,  5, 45, 36, 36, 18, 18, 53, 21, 52, 21,  5, 61, 15,  5,  5,  5,\n",
      "        25,  5, 36, 68, 18,  5, 45,  5, 36,  5, 29, 45, 45,  5, 68, 21,  5, 18,\n",
      "        21, 53, 55, 68, 21, 54, 45, 56, 45, 30, 14, 21,  7, 18, 18,  5,  5, 55,\n",
      "        45, 18, 30,  5, 60, 53, 45, 45, 68, 36, 55, 36, 52, 53,  5, 21],\n",
      "       device='cuda:1')\n"
     ]
    },
    {
     "name": "stderr",
     "output_type": "stream",
     "text": [
      "\r",
      " 75%|███████▌  | 3/4 [00:00<00:00,  3.48it/s]"
     ]
    },
    {
     "name": "stdout",
     "output_type": "stream",
     "text": [
      "tensor([11, 11, 42, 11, 11, 11, 11, 11, 42, 49,  3, 12, 10, 27,  3, 11, 11, 11,\n",
      "        11, 11, 11,  0, 49, 56, 11, 11, 11, 11, 11, 11, 11, 37, 11, 11, 11, 11,\n",
      "         3, 11, 11, 11, 11, 37, 11, 11, 33, 56, 27, 11, 11, 11, 11, 11, 11, 11,\n",
      "        49, 11, 11, 11, 11, 11, 11, 11, 49, 49, 11, 27, 11, 11, 27, 11],\n",
      "       device='cuda:1')\n"
     ]
    },
    {
     "name": "stderr",
     "output_type": "stream",
     "text": [
      "\r",
      "100%|██████████| 4/4 [00:01<00:00,  3.48it/s]"
     ]
    },
    {
     "name": "stdout",
     "output_type": "stream",
     "text": [
      "tensor([ 6, 65, 50, 28, 44, 67, 67, 40, 41, 50, 67, 67, 15, 67, 15, 40, 15, 65,\n",
      "        67, 17, 67, 65, 25, 15, 28, 65, 50, 23, 14, 67, 65, 50, 15, 11, 67, 31,\n",
      "        17, 17, 67, 17, 67, 64, 40, 67, 56, 52, 67, 65, 14, 17, 40, 17, 44, 17,\n",
      "        15, 15, 65, 17, 65, 15, 15, 40, 67, 67, 67, 56, 67, 65, 40, 67],\n",
      "       device='cuda:1')\n"
     ]
    },
    {
     "name": "stderr",
     "output_type": "stream",
     "text": [
      "\n",
      " 25%|██▌       | 1/4 [00:00<00:00,  3.51it/s]"
     ]
    },
    {
     "name": "stdout",
     "output_type": "stream",
     "text": [
      "tensor([42, 16, 16, 31, 42, 42, 46, 58, 31, 16, 42, 26, 42, 42, 42, 16, 34, 31,\n",
      "         5, 42, 16, 42, 42, 31, 42, 40,  5, 42, 34, 42, 16, 42, 26, 44, 16, 16,\n",
      "        42,  5, 26, 42, 42, 40, 58, 42,  6, 42, 42, 20, 44,  6, 34, 26, 51, 42,\n",
      "        42, 16, 16, 44, 42, 42, 16, 44, 35, 26, 42, 26, 42, 16, 42, 16],\n",
      "       device='cuda:1')\n"
     ]
    },
    {
     "name": "stderr",
     "output_type": "stream",
     "text": [
      "\r",
      " 50%|█████     | 2/4 [00:00<00:00,  3.51it/s]"
     ]
    },
    {
     "name": "stdout",
     "output_type": "stream",
     "text": [
      "tensor([45, 18,  5, 45, 36, 36, 18, 18, 53, 21, 52, 53,  5, 61, 55,  5,  5,  5,\n",
      "        29,  5, 36, 68, 18,  5, 45,  5, 36,  5, 25, 45, 45,  5, 68, 21,  5, 18,\n",
      "        21, 53, 55, 68, 21, 55, 45, 18, 45, 30, 56, 21, 35, 18, 18,  5,  5, 68,\n",
      "        45, 18, 16,  5, 60, 53, 45, 45, 68, 36, 55, 36, 52, 53,  5, 21],\n",
      "       device='cuda:1')\n"
     ]
    },
    {
     "name": "stderr",
     "output_type": "stream",
     "text": [
      "\r",
      " 75%|███████▌  | 3/4 [00:00<00:00,  3.49it/s]"
     ]
    },
    {
     "name": "stdout",
     "output_type": "stream",
     "text": [
      "tensor([11, 11, 42, 11, 11, 11, 11, 11, 42, 40,  3, 12, 10, 27,  3, 11, 11, 11,\n",
      "        11, 11, 11,  0, 49, 56, 11, 11, 11, 11, 11, 11, 11,  3, 11, 11, 11, 11,\n",
      "         3, 11, 11, 11, 11, 37, 11, 11, 33, 56, 27, 11, 11, 11, 11, 11, 11, 11,\n",
      "        40, 11, 11, 11, 11, 11, 11, 11, 49, 49, 11,  1, 11, 11, 27, 11],\n",
      "       device='cuda:1')\n"
     ]
    },
    {
     "name": "stderr",
     "output_type": "stream",
     "text": [
      "100%|██████████| 4/4 [00:01<00:00,  3.50it/s]\n",
      "  0%|          | 0/4 [00:00<?, ?it/s]"
     ]
    },
    {
     "name": "stdout",
     "output_type": "stream",
     "text": [
      "tensor([41, 11, 50, 56, 40, 67, 67, 40, 28, 50, 67, 67, 15, 67, 15, 40, 15, 32,\n",
      "        67, 17, 67, 11,  1, 15, 56, 65, 50, 23, 14, 67,  9, 50, 50, 11, 67, 31,\n",
      "        17, 17, 67, 17, 67, 64, 40, 67, 67, 52, 67, 65, 65, 17, 40, 17, 44, 17,\n",
      "        15, 15, 65, 17, 65, 15, 15, 40, 67, 67, 67, 56, 67,  2, 40, 67],\n",
      "       device='cuda:1')\n"
     ]
    },
    {
     "name": "stderr",
     "output_type": "stream",
     "text": [
      "\r",
      " 25%|██▌       | 1/4 [00:00<00:00,  3.51it/s]"
     ]
    },
    {
     "name": "stdout",
     "output_type": "stream",
     "text": [
      "tensor([42, 16, 16, 31, 42, 42, 46, 58, 31, 16, 42, 26, 42, 42, 42, 16, 44, 31,\n",
      "         5, 42, 16, 42, 42, 31, 42, 40, 38, 42, 34, 42, 16, 42, 26, 44, 16, 16,\n",
      "        42,  5, 26, 42, 42, 40, 58, 42,  6, 42, 42, 20, 44,  6, 34, 26, 51, 42,\n",
      "        42, 16, 16, 44, 42, 42, 16, 44, 35, 26, 42, 26, 42, 16, 42, 16],\n",
      "       device='cuda:1')\n"
     ]
    },
    {
     "name": "stderr",
     "output_type": "stream",
     "text": [
      "\r",
      " 50%|█████     | 2/4 [00:00<00:00,  3.49it/s]"
     ]
    },
    {
     "name": "stdout",
     "output_type": "stream",
     "text": [
      "tensor([45, 45,  5, 45, 36, 36, 45, 18, 53, 21, 52, 53,  5, 54, 55,  5,  5,  5,\n",
      "         2,  5, 36, 68, 18,  5, 45,  5, 36,  5, 25, 45, 45,  5, 68, 21,  5, 18,\n",
      "        21, 53, 25, 68, 53, 19, 45, 18, 45, 30, 53, 53, 55, 45, 18,  5,  5, 68,\n",
      "        45, 18, 30,  5, 60, 53, 45, 45, 68, 36, 30, 36, 52, 53,  5, 21],\n",
      "       device='cuda:1')\n"
     ]
    },
    {
     "name": "stderr",
     "output_type": "stream",
     "text": [
      "\r",
      " 75%|███████▌  | 3/4 [00:00<00:00,  3.48it/s]"
     ]
    },
    {
     "name": "stdout",
     "output_type": "stream",
     "text": [
      "tensor([11, 11, 42, 11, 11, 11, 11, 11, 42, 40,  3, 12, 10,  1,  3, 11, 11, 11,\n",
      "        11, 11, 11,  0, 49, 56, 11, 11, 11, 11, 11, 11, 11,  3, 11, 11, 11, 11,\n",
      "         3, 11, 11, 11, 11, 37, 11, 11, 33, 56, 18, 11, 11, 11, 11, 11, 11, 11,\n",
      "        40, 11, 11, 11, 11, 11, 11, 11, 49, 60, 11, 49, 11, 11, 69, 11],\n",
      "       device='cuda:1')\n"
     ]
    },
    {
     "name": "stderr",
     "output_type": "stream",
     "text": [
      "\r",
      "100%|██████████| 4/4 [00:01<00:00,  3.48it/s]"
     ]
    },
    {
     "name": "stdout",
     "output_type": "stream",
     "text": [
      "tensor([25, 11, 50, 56, 40, 67, 67, 40, 28, 50, 67, 67, 15, 67, 15, 40, 15, 32,\n",
      "        67, 17, 67, 11, 44, 15, 56, 11, 50, 23, 65, 67,  9, 50, 50, 11, 67, 31,\n",
      "        17, 17, 67, 17, 67, 64, 40, 67, 67, 52, 67, 65, 65, 17, 40, 17, 44, 17,\n",
      "        15, 15, 64, 17, 65, 15, 15, 40, 67, 67, 67, 56, 67, 24, 40, 67],\n",
      "       device='cuda:1')\n"
     ]
    },
    {
     "name": "stderr",
     "output_type": "stream",
     "text": [
      "\n",
      " 25%|██▌       | 1/4 [00:00<00:00,  3.51it/s]"
     ]
    },
    {
     "name": "stdout",
     "output_type": "stream",
     "text": [
      "tensor([42, 16, 16, 31, 42, 42, 44, 58, 31, 16, 42, 26, 42, 42, 42, 16, 44, 31,\n",
      "         5, 42, 16, 42, 42, 31, 42, 40, 38, 42, 59, 42, 16, 42, 26, 44, 16, 16,\n",
      "        42,  5, 26, 42, 42, 40, 58, 42,  6, 42, 42, 20, 44,  6, 34, 26, 51, 42,\n",
      "        42, 16, 16, 44, 42, 42, 16, 44, 12, 26, 42, 26, 42, 16, 42, 16],\n",
      "       device='cuda:1')\n"
     ]
    },
    {
     "name": "stderr",
     "output_type": "stream",
     "text": [
      "\r",
      " 50%|█████     | 2/4 [00:00<00:00,  3.50it/s]"
     ]
    },
    {
     "name": "stdout",
     "output_type": "stream",
     "text": [
      "tensor([45, 45,  5, 45, 36, 36, 45, 18, 20, 21, 52, 53,  5, 54, 55,  5,  5,  5,\n",
      "        25,  5, 36, 68, 18,  5, 45,  5, 36,  5, 29, 45, 45,  5, 43, 21,  5, 18,\n",
      "        21, 53, 25, 68, 53, 19, 45, 18, 45, 30, 53, 53, 38, 45, 18,  5,  5, 68,\n",
      "        45, 18, 30,  5, 55, 21, 45, 45, 68, 36, 30, 36, 52, 53,  5, 56],\n",
      "       device='cuda:1')\n"
     ]
    },
    {
     "name": "stderr",
     "output_type": "stream",
     "text": [
      "\r",
      " 75%|███████▌  | 3/4 [00:00<00:00,  3.48it/s]"
     ]
    },
    {
     "name": "stdout",
     "output_type": "stream",
     "text": [
      "tensor([11, 11, 42, 11, 11, 11, 11, 11, 42, 40, 59, 12, 10, 49,  3, 11, 11, 11,\n",
      "        11, 11, 11,  0, 49, 56, 11, 11, 11, 11, 11, 11, 11,  3, 11, 11, 11, 11,\n",
      "         3, 11, 11, 11, 11, 37, 11, 11, 33, 56, 18, 11, 11, 11, 11, 11, 11, 11,\n",
      "        40, 11, 11, 11, 11, 11, 11, 11, 49, 60, 11, 49, 11, 11, 49, 11],\n",
      "       device='cuda:1')\n"
     ]
    },
    {
     "name": "stderr",
     "output_type": "stream",
     "text": [
      "\r",
      "100%|██████████| 4/4 [00:01<00:00,  3.47it/s]"
     ]
    },
    {
     "name": "stdout",
     "output_type": "stream",
     "text": [
      "tensor([25, 11, 50, 56, 40, 67, 67, 40, 28, 50, 67, 67, 15, 67, 15, 40, 15, 32,\n",
      "        67, 17, 67, 11, 67, 15, 56,  9, 50, 23, 65, 67, 24, 50, 50, 11, 67, 31,\n",
      "        17, 17, 67, 17, 67, 64, 40, 67, 67, 52, 67, 65, 65, 17, 40, 17, 44, 17,\n",
      "        15, 15, 64, 17, 65, 15, 15, 40, 67, 67, 67, 56, 67, 24, 40, 67],\n",
      "       device='cuda:1')\n"
     ]
    },
    {
     "name": "stderr",
     "output_type": "stream",
     "text": [
      "\n",
      " 25%|██▌       | 1/4 [00:00<00:00,  3.49it/s]"
     ]
    },
    {
     "name": "stdout",
     "output_type": "stream",
     "text": [
      "tensor([42, 16, 16, 31, 42, 42, 44, 58, 31, 16, 42, 42, 42, 42, 42, 16, 44, 31,\n",
      "         5, 42, 16, 42, 42, 31, 42, 40, 38, 42, 59, 42, 16, 42, 26, 44, 16, 16,\n",
      "        42,  5, 26, 42, 42, 40, 58, 42,  6, 42, 42, 46, 44,  6, 34, 26, 51, 42,\n",
      "        42, 16, 16, 44, 42, 42, 16, 44, 12, 26, 42, 26, 42, 16, 42, 16],\n",
      "       device='cuda:1')\n"
     ]
    },
    {
     "name": "stderr",
     "output_type": "stream",
     "text": [
      "\r",
      " 50%|█████     | 2/4 [00:00<00:00,  3.49it/s]"
     ]
    },
    {
     "name": "stdout",
     "output_type": "stream",
     "text": [
      "tensor([45, 45,  5, 45, 36, 36, 45, 18, 21, 21, 52, 53,  5, 54, 55,  5,  5,  5,\n",
      "        25,  5, 36, 68, 18,  5, 45,  5, 36,  5, 29, 45, 45,  5, 43,  5,  5, 18,\n",
      "        21, 21, 25, 68, 53, 19, 45, 18, 45, 30, 53, 53, 45, 45, 18,  5,  5, 68,\n",
      "        45, 18, 30,  5, 55, 21, 45, 45, 68, 36, 30, 36, 46, 20,  5, 56],\n",
      "       device='cuda:1')\n"
     ]
    },
    {
     "name": "stderr",
     "output_type": "stream",
     "text": [
      "\r",
      " 75%|███████▌  | 3/4 [00:00<00:00,  3.48it/s]"
     ]
    },
    {
     "name": "stdout",
     "output_type": "stream",
     "text": [
      "tensor([11, 11, 42, 11, 11, 11, 11, 11, 42, 40, 59, 12, 10, 49,  3, 11, 11, 11,\n",
      "        11, 11, 11,  0, 49, 56, 11, 11, 11, 11, 11, 11, 11,  3, 11, 11, 11, 11,\n",
      "         3, 11, 11, 11, 11, 37, 11, 11, 33, 56, 49, 11, 11, 11, 11, 11, 11, 11,\n",
      "        40, 11, 11, 11, 11, 11, 11, 11, 49, 60, 11, 49, 11, 11, 49, 11],\n",
      "       device='cuda:1')\n"
     ]
    },
    {
     "name": "stderr",
     "output_type": "stream",
     "text": [
      "\r",
      "100%|██████████| 4/4 [00:01<00:00,  3.47it/s]"
     ]
    },
    {
     "name": "stdout",
     "output_type": "stream",
     "text": [
      "tensor([21, 11, 50, 56, 40, 67, 67, 40, 28, 50, 67, 67, 15, 67, 15, 40, 15, 32,\n",
      "        67, 17, 67, 11, 65, 15, 56,  9, 50, 23, 65, 67, 24, 50, 50, 11, 67, 31,\n",
      "        17, 17, 67, 17, 67, 24, 40, 67, 67, 52, 67, 65,  2, 17, 40, 17, 31, 17,\n",
      "        15, 15, 64, 17, 65, 15, 15, 40, 67, 67, 67, 56, 67, 24, 40, 67],\n",
      "       device='cuda:1')\n"
     ]
    },
    {
     "name": "stderr",
     "output_type": "stream",
     "text": [
      "\n",
      " 25%|██▌       | 1/4 [00:00<00:00,  3.50it/s]"
     ]
    },
    {
     "name": "stdout",
     "output_type": "stream",
     "text": [
      "tensor([42, 16, 16, 31, 42, 42, 44, 58, 31, 16, 42, 42, 42, 42, 42, 16, 44, 31,\n",
      "         5, 42, 16, 42, 42, 31, 42, 40, 38, 42, 44, 42, 16, 42, 26, 44, 16, 16,\n",
      "        42,  5, 26, 42, 42, 40, 58, 42,  6, 42, 42, 46, 44,  6, 59, 26, 51, 42,\n",
      "        42, 16, 16, 44, 42, 42, 16, 44, 12, 26, 42, 26, 42, 16, 42, 16],\n",
      "       device='cuda:1')\n"
     ]
    },
    {
     "name": "stderr",
     "output_type": "stream",
     "text": [
      "\r",
      " 50%|█████     | 2/4 [00:00<00:00,  3.49it/s]"
     ]
    },
    {
     "name": "stdout",
     "output_type": "stream",
     "text": [
      "tensor([45, 45,  5, 45, 36, 36, 45, 18, 21, 21, 52, 53,  5, 54, 55,  5,  5,  5,\n",
      "        25,  5, 36, 68, 18,  5, 45,  5, 36,  5, 29, 45, 45,  5, 43,  5,  5, 18,\n",
      "        21, 21,  2, 68, 53, 19, 45, 18, 45, 30, 53, 53, 56, 45, 18,  5,  5, 68,\n",
      "        45, 18, 30,  5, 61, 21, 45, 45, 68, 36, 30, 36, 46, 21,  5, 21],\n",
      "       device='cuda:1')\n"
     ]
    },
    {
     "name": "stderr",
     "output_type": "stream",
     "text": [
      "\r",
      " 75%|███████▌  | 3/4 [00:00<00:00,  3.47it/s]"
     ]
    },
    {
     "name": "stdout",
     "output_type": "stream",
     "text": [
      "tensor([11, 11, 42, 11, 11, 11, 11, 11, 42, 40, 59, 12, 10, 49,  3, 11, 11, 11,\n",
      "        11, 11, 11,  0, 49, 56, 11, 11, 11, 11, 11, 11, 11,  3, 11, 11, 11, 11,\n",
      "         3, 11, 11, 11, 11, 37, 11, 11, 67, 56, 49, 11, 11, 11, 11, 11, 11, 11,\n",
      "        40, 11, 11, 11, 11, 11, 11, 11, 60, 56, 11, 49, 11, 11, 49, 11],\n",
      "       device='cuda:1')\n"
     ]
    },
    {
     "name": "stderr",
     "output_type": "stream",
     "text": [
      "\r",
      "100%|██████████| 4/4 [00:01<00:00,  3.46it/s]"
     ]
    },
    {
     "name": "stdout",
     "output_type": "stream",
     "text": [
      "tensor([ 1, 11, 50, 56, 40, 67, 67, 40, 28, 50, 67, 67, 15, 67, 15, 40, 15, 32,\n",
      "        67, 17, 67, 11, 65, 15, 56,  9, 17, 23, 65, 67, 24, 50, 50, 11, 67, 31,\n",
      "        17, 17, 67, 17, 67, 24, 40, 67, 67, 52, 67, 65,  2, 17, 40, 17, 31, 17,\n",
      "        15, 15, 64, 17, 65, 15, 15, 40, 67, 67, 67, 56, 67, 24, 40, 67],\n",
      "       device='cuda:1')\n"
     ]
    },
    {
     "name": "stderr",
     "output_type": "stream",
     "text": [
      "\n",
      " 25%|██▌       | 1/4 [00:00<00:00,  3.49it/s]"
     ]
    },
    {
     "name": "stdout",
     "output_type": "stream",
     "text": [
      "tensor([42, 16, 16, 31, 42, 42, 44, 58, 31, 16, 42, 42, 42, 42, 42, 16, 44, 31,\n",
      "         5, 42, 16, 42, 42, 31, 42, 40, 38, 42, 44, 42, 16, 42, 26, 44, 16, 16,\n",
      "        42,  5, 26, 42, 42, 40, 58, 42,  6, 42, 42, 46, 44,  6, 59, 26, 51, 42,\n",
      "        42, 16, 16, 44, 42, 42, 16, 44, 12, 26, 42, 26, 42, 16, 42, 16],\n",
      "       device='cuda:1')\n"
     ]
    },
    {
     "name": "stderr",
     "output_type": "stream",
     "text": [
      "\r",
      " 50%|█████     | 2/4 [00:00<00:00,  3.49it/s]"
     ]
    },
    {
     "name": "stdout",
     "output_type": "stream",
     "text": [
      "tensor([45, 45,  5, 45, 36, 36, 45, 18, 21, 21, 52, 53,  5, 54, 55,  5,  5,  5,\n",
      "        25,  5, 36, 68, 18,  5, 45,  5, 36,  5, 29, 45, 45,  5, 43,  5,  5, 18,\n",
      "        21, 21,  2, 68, 53, 19, 45, 18, 45, 30, 53, 53, 36, 45, 18,  5,  5, 68,\n",
      "        45, 18, 30,  5, 61, 21, 45, 45, 68, 36, 30, 36, 46, 21,  5, 21],\n",
      "       device='cuda:1')\n"
     ]
    },
    {
     "name": "stderr",
     "output_type": "stream",
     "text": [
      "\r",
      " 75%|███████▌  | 3/4 [00:00<00:00,  3.47it/s]"
     ]
    },
    {
     "name": "stdout",
     "output_type": "stream",
     "text": [
      "tensor([11, 11, 42, 11, 11, 11, 11, 11, 42, 40, 59, 12, 10, 49,  3, 11, 11, 11,\n",
      "        11, 11, 11,  0, 49, 56, 11, 11, 11, 11, 11, 11, 11,  3, 11, 11, 11, 11,\n",
      "         3, 11, 11, 11, 11, 37, 11, 11, 67, 56, 49, 11, 11, 11, 11, 11, 11, 11,\n",
      "        56, 11, 11, 11, 11, 11, 11, 11, 60, 56, 11, 49, 11, 11, 49, 11],\n",
      "       device='cuda:1')\n"
     ]
    },
    {
     "name": "stderr",
     "output_type": "stream",
     "text": [
      "\r",
      "100%|██████████| 4/4 [00:01<00:00,  3.45it/s]"
     ]
    },
    {
     "name": "stdout",
     "output_type": "stream",
     "text": [
      "tensor([33, 11, 50, 56, 40, 67, 67, 40, 28, 50, 67, 67, 15, 67, 15, 40, 15, 32,\n",
      "        67, 17, 67, 11, 24, 15, 56,  9, 17, 23, 65, 67, 24, 50, 50, 24, 67, 31,\n",
      "        17, 17, 67, 17, 67, 24, 40, 67, 67, 52, 67, 65,  2, 17, 40, 17, 31, 17,\n",
      "        15, 15, 64, 17, 65, 15, 15, 40, 67, 67, 67, 56, 67, 24, 40, 67],\n",
      "       device='cuda:1')\n"
     ]
    },
    {
     "name": "stderr",
     "output_type": "stream",
     "text": [
      "\n",
      " 25%|██▌       | 1/4 [00:00<00:00,  3.50it/s]"
     ]
    },
    {
     "name": "stdout",
     "output_type": "stream",
     "text": [
      "tensor([42, 16, 16, 31, 42, 42, 44, 58, 31, 16, 42, 42, 42, 42, 42, 16, 44, 31,\n",
      "         5, 42, 16, 42, 42, 31, 42, 40, 38, 42, 44, 42, 16, 42, 26, 44, 16, 16,\n",
      "        42,  5, 26, 42, 42, 40, 58, 42,  6, 42, 42, 46, 44,  6, 44, 26, 51, 42,\n",
      "        42, 16, 16, 44, 42, 42, 16, 44, 12, 26, 42, 26, 42, 16, 42, 16],\n",
      "       device='cuda:1')\n"
     ]
    },
    {
     "name": "stderr",
     "output_type": "stream",
     "text": [
      "\r",
      " 50%|█████     | 2/4 [00:00<00:00,  3.50it/s]"
     ]
    },
    {
     "name": "stdout",
     "output_type": "stream",
     "text": [
      "tensor([45, 45,  5, 45, 36, 36, 45, 18, 21, 21, 52, 53,  5, 54, 55,  5,  5,  5,\n",
      "        25,  5, 36, 68, 18,  5, 45,  5, 36,  5, 29, 45, 45,  5, 43,  5,  5, 18,\n",
      "        21, 21,  2, 68, 53, 19, 45, 18, 45, 30, 53, 53, 36, 45, 18,  5,  5, 68,\n",
      "        45, 18, 30,  5, 61, 21, 45, 45, 68, 36, 30, 36, 46, 21,  5, 21],\n",
      "       device='cuda:1')\n"
     ]
    },
    {
     "name": "stderr",
     "output_type": "stream",
     "text": [
      "\r",
      " 75%|███████▌  | 3/4 [00:00<00:00,  3.48it/s]"
     ]
    },
    {
     "name": "stdout",
     "output_type": "stream",
     "text": [
      "tensor([11, 11, 42, 11, 11, 11, 11, 11, 42, 40, 59, 12, 10, 49,  3, 11, 11, 11,\n",
      "        11, 11, 11,  0, 49, 56, 11, 11, 11, 11, 11, 11, 11,  3, 11, 11, 11, 11,\n",
      "         3, 11, 11, 11, 11, 37, 11, 11, 67, 56, 49, 11, 11, 11, 11, 11, 11, 11,\n",
      "        56, 11, 11, 11, 11, 11, 11, 11, 60, 56, 11, 49, 11, 11, 49, 11],\n",
      "       device='cuda:1')\n"
     ]
    },
    {
     "name": "stderr",
     "output_type": "stream",
     "text": [
      "\r",
      "100%|██████████| 4/4 [00:01<00:00,  3.47it/s]"
     ]
    },
    {
     "name": "stdout",
     "output_type": "stream",
     "text": [
      "tensor([44, 11, 50, 56, 40, 67, 67, 40, 28, 50, 67, 67, 15, 67, 15, 40, 15, 32,\n",
      "        67, 17, 67, 11, 24, 15, 56,  9, 17, 23, 65, 67, 24, 50, 50, 24, 67, 31,\n",
      "        17, 17, 67, 17, 67, 24, 40, 67, 67, 52, 67, 65,  2, 17, 40, 17, 31, 17,\n",
      "        15, 15, 64, 17, 65, 15, 15, 40, 67, 67, 67, 56, 67, 24, 40, 67],\n",
      "       device='cuda:1')\n"
     ]
    },
    {
     "name": "stderr",
     "output_type": "stream",
     "text": [
      "\n",
      " 25%|██▌       | 1/4 [00:00<00:00,  3.48it/s]"
     ]
    },
    {
     "name": "stdout",
     "output_type": "stream",
     "text": [
      "tensor([42, 16, 16, 31, 42, 42, 44, 58, 31, 16, 42, 42, 42, 42, 42, 16, 44, 31,\n",
      "         5, 42, 16, 42, 42, 31, 42, 40, 38, 42, 44, 42, 16, 42, 26, 44, 16, 16,\n",
      "        42,  5, 26, 42, 42, 40, 58, 42,  6, 42, 42, 46, 44,  6, 44, 26, 51, 42,\n",
      "        42, 16, 16, 44, 42, 42, 16, 44, 12, 26, 42, 26, 42, 16, 42, 16],\n",
      "       device='cuda:1')\n"
     ]
    },
    {
     "name": "stderr",
     "output_type": "stream",
     "text": [
      "\r",
      " 50%|█████     | 2/4 [00:00<00:00,  3.48it/s]"
     ]
    },
    {
     "name": "stdout",
     "output_type": "stream",
     "text": [
      "tensor([45, 45,  5, 45, 36, 36, 45, 18, 21, 21, 52, 53,  5, 54, 55,  5,  5,  5,\n",
      "        25,  5, 36, 68, 18,  5, 45,  5, 36,  5, 29, 45, 45,  5, 43,  5,  5, 18,\n",
      "        21, 21,  2, 68, 53, 19, 45, 18, 45, 30, 53, 53, 36, 45, 18,  5,  5, 68,\n",
      "        45, 18, 30,  5, 61, 21, 45, 45, 68, 36, 30, 36, 46, 21,  5, 56],\n",
      "       device='cuda:1')\n"
     ]
    },
    {
     "name": "stderr",
     "output_type": "stream",
     "text": [
      "\r",
      " 75%|███████▌  | 3/4 [00:00<00:00,  3.47it/s]"
     ]
    },
    {
     "name": "stdout",
     "output_type": "stream",
     "text": [
      "tensor([11, 11, 42, 11, 11, 11, 11, 11, 42, 40, 59, 12, 10, 49,  3, 11, 11, 11,\n",
      "        11, 11, 11,  0, 49, 56, 11, 11, 11, 11, 11, 11, 11,  3, 11, 11, 11, 11,\n",
      "         3, 11, 11, 11, 11, 37, 11, 11, 67, 56, 18, 11, 11, 11, 11, 11, 11, 11,\n",
      "        56, 11, 11, 11, 11, 11, 11, 11, 60, 56, 11, 49, 11, 11, 49, 11],\n",
      "       device='cuda:1')\n"
     ]
    },
    {
     "name": "stderr",
     "output_type": "stream",
     "text": [
      "\r",
      "100%|██████████| 4/4 [00:01<00:00,  3.46it/s]"
     ]
    },
    {
     "name": "stdout",
     "output_type": "stream",
     "text": [
      "tensor([44, 24, 50, 56, 40, 67, 67, 40, 28, 50, 67, 67, 15, 67, 15, 65, 15, 32,\n",
      "        67, 17, 67, 11,  3, 15, 56, 24, 17, 23, 65, 67, 24, 50, 50, 24, 67, 31,\n",
      "        17, 17, 67, 17, 67, 24, 40, 67, 67, 52, 67, 65,  2, 17, 40, 17, 31, 17,\n",
      "        15, 15, 64, 17, 65, 15, 15, 40, 67, 67, 67, 56, 67, 24, 40, 67],\n",
      "       device='cuda:1')\n"
     ]
    },
    {
     "name": "stderr",
     "output_type": "stream",
     "text": [
      "\n",
      " 25%|██▌       | 1/4 [00:00<00:00,  3.48it/s]"
     ]
    },
    {
     "name": "stdout",
     "output_type": "stream",
     "text": [
      "tensor([42, 16, 16, 31, 42, 42, 44, 58, 31, 16, 42, 42, 42, 42, 42, 16, 44, 31,\n",
      "         5, 42, 16, 42, 42, 31, 42, 40, 38, 42, 44, 42, 16, 42, 26, 44, 16, 16,\n",
      "        42,  5, 26, 42, 42, 40, 58, 42,  6, 42, 42, 46, 44,  6, 44, 26, 51, 42,\n",
      "        42, 16, 16, 44, 42, 42, 16, 44, 44, 26, 42, 26, 42, 16, 42, 16],\n",
      "       device='cuda:1')\n"
     ]
    },
    {
     "name": "stderr",
     "output_type": "stream",
     "text": [
      "\r",
      " 50%|█████     | 2/4 [00:00<00:00,  3.47it/s]"
     ]
    },
    {
     "name": "stdout",
     "output_type": "stream",
     "text": [
      "tensor([45, 45,  5, 45, 36, 36, 45, 18, 21, 21, 52, 53,  5, 54, 55,  5,  5,  5,\n",
      "        25,  5, 36, 68, 18,  5, 45,  5, 36,  5, 29, 45, 45,  5, 43,  5,  5, 18,\n",
      "        21, 21,  2, 68, 53, 19, 45, 18, 45, 30, 53, 53, 36, 45, 18,  5,  5, 68,\n",
      "        45, 18, 30,  5, 61, 21, 45, 45, 68, 36, 30, 36, 46, 21,  5, 53],\n",
      "       device='cuda:1')\n"
     ]
    },
    {
     "name": "stderr",
     "output_type": "stream",
     "text": [
      "\r",
      " 75%|███████▌  | 3/4 [00:00<00:00,  3.48it/s]"
     ]
    },
    {
     "name": "stdout",
     "output_type": "stream",
     "text": [
      "tensor([11, 11, 42, 11, 11, 11, 11, 11, 42, 56, 59, 12, 18, 49,  3, 11, 11, 11,\n",
      "        11, 11, 11,  0, 49, 56, 11, 11, 11, 11, 11, 11, 11,  3, 11, 11, 11, 11,\n",
      "         3, 11, 11, 11, 11, 37, 11, 11, 67, 56, 18, 11, 11, 11, 11, 11, 11, 11,\n",
      "        56, 11, 11, 11, 11, 11, 11, 11, 60, 56, 11, 49, 11, 11, 49, 11],\n",
      "       device='cuda:1')\n"
     ]
    },
    {
     "name": "stderr",
     "output_type": "stream",
     "text": [
      "\r",
      "100%|██████████| 4/4 [00:01<00:00,  3.45it/s]"
     ]
    },
    {
     "name": "stdout",
     "output_type": "stream",
     "text": [
      "tensor([44, 24, 50, 56, 40, 67, 67, 40, 56, 50, 67, 67, 15, 67, 15, 65, 15, 32,\n",
      "        67, 17, 67, 11,  3, 15, 56, 24, 17, 23, 65, 67, 24, 50, 50, 24, 67, 31,\n",
      "        17, 17, 67, 17, 67, 24, 40, 67, 67, 52, 67, 65,  2, 17, 40, 17, 31, 17,\n",
      "        15, 15, 64, 17, 65, 15, 15, 40, 67, 67, 67, 56, 67, 24, 40, 67],\n",
      "       device='cuda:1')\n"
     ]
    },
    {
     "name": "stderr",
     "output_type": "stream",
     "text": [
      "\n",
      " 25%|██▌       | 1/4 [00:00<00:00,  3.48it/s]"
     ]
    },
    {
     "name": "stdout",
     "output_type": "stream",
     "text": [
      "tensor([42, 16, 16, 31, 42, 42, 44, 58, 31, 16, 42, 42, 42, 42, 42, 16, 44, 31,\n",
      "         5, 42, 16, 42, 42, 31, 42, 40, 38, 42, 44, 42, 16, 42, 26, 44, 16, 16,\n",
      "        42,  5, 26, 42, 42, 40, 58, 42,  6, 42, 42, 46, 44,  6, 34, 26, 51, 42,\n",
      "        42, 16, 16, 44, 42, 42, 16, 44, 44, 26, 42, 26, 42, 16, 42, 16],\n",
      "       device='cuda:1')\n"
     ]
    },
    {
     "name": "stderr",
     "output_type": "stream",
     "text": [
      "\r",
      " 50%|█████     | 2/4 [00:00<00:00,  3.47it/s]"
     ]
    },
    {
     "name": "stdout",
     "output_type": "stream",
     "text": [
      "tensor([45, 45,  5, 45, 36, 36, 45, 18, 21, 21, 52, 53,  5, 54, 55,  5,  5,  5,\n",
      "        25,  5, 36, 68, 18,  5, 45,  5, 36,  5, 29, 45, 45,  5, 43,  5,  5, 18,\n",
      "        21, 21,  2, 68, 53, 19, 45, 18, 45, 30, 53, 53, 36, 45, 18,  5,  5, 68,\n",
      "        45, 18, 30,  5, 61, 21, 45, 45, 68, 36, 30, 36, 46, 21,  5, 53],\n",
      "       device='cuda:1')\n"
     ]
    },
    {
     "name": "stderr",
     "output_type": "stream",
     "text": [
      "\r",
      " 75%|███████▌  | 3/4 [00:00<00:00,  3.46it/s]"
     ]
    },
    {
     "name": "stdout",
     "output_type": "stream",
     "text": [
      "tensor([11, 11, 42, 11, 11, 11, 11, 11, 42, 56, 59, 12, 52, 49,  3, 11, 11, 11,\n",
      "        11, 11, 11,  0, 60, 56, 11, 11, 11, 11, 11, 11, 11,  3, 11, 11, 11, 11,\n",
      "         3, 11, 11, 11, 11, 37, 11, 11, 67, 56, 18, 11, 11, 11, 11, 11, 11, 11,\n",
      "        56, 11, 11, 11, 11, 11, 11, 11, 60, 56, 11, 49, 11, 11, 49, 11],\n",
      "       device='cuda:1')\n"
     ]
    },
    {
     "name": "stderr",
     "output_type": "stream",
     "text": [
      "\r",
      "100%|██████████| 4/4 [00:01<00:00,  3.46it/s]"
     ]
    },
    {
     "name": "stdout",
     "output_type": "stream",
     "text": [
      "tensor([44, 24, 50, 56, 40, 67, 67, 40, 56, 50, 67, 67, 15, 67, 15, 65, 15, 32,\n",
      "        67, 17, 67, 24,  3, 15, 56, 24, 17, 23, 65, 67, 24, 50, 50, 24, 67, 31,\n",
      "        17, 17, 67, 17, 67, 24, 40, 67, 67, 52, 67, 65,  2, 17, 40, 17, 31, 17,\n",
      "        15, 15, 64, 17, 65, 15, 15, 40, 67, 67, 67, 56, 67, 24, 40, 67],\n",
      "       device='cuda:1')\n"
     ]
    },
    {
     "name": "stderr",
     "output_type": "stream",
     "text": [
      "\n",
      " 25%|██▌       | 1/4 [00:00<00:00,  3.49it/s]"
     ]
    },
    {
     "name": "stdout",
     "output_type": "stream",
     "text": [
      "tensor([42, 16, 16, 31, 42, 42, 44, 58, 31, 16, 42, 42, 42, 42, 42, 16, 44, 31,\n",
      "         5, 42, 16, 42, 42, 31, 42, 40, 38, 42, 44, 42, 16, 42, 26, 44, 16, 16,\n",
      "        42,  5, 26, 42, 42, 40, 58, 42,  6, 42, 42, 44, 44,  6, 34, 26, 51, 42,\n",
      "        42, 16, 16, 44, 42, 42, 16, 44, 44, 26, 42, 26, 42, 16, 42, 16],\n",
      "       device='cuda:1')\n"
     ]
    },
    {
     "name": "stderr",
     "output_type": "stream",
     "text": [
      "\r",
      " 50%|█████     | 2/4 [00:00<00:00,  3.48it/s]"
     ]
    },
    {
     "name": "stdout",
     "output_type": "stream",
     "text": [
      "tensor([45, 45,  5, 45, 36, 36, 45, 18, 21, 21, 52, 53,  5, 54, 55,  5,  5,  5,\n",
      "        25,  5, 36, 68, 18,  5, 45,  5, 36,  5, 29, 45, 45,  5, 43,  5,  5, 18,\n",
      "        21, 21,  2, 68, 53, 19, 45, 18, 45, 30, 53, 53, 36, 45, 18,  5,  5, 68,\n",
      "        45, 18, 30,  5, 61, 21, 45, 45, 68, 36, 30, 36, 46, 21,  5, 53],\n",
      "       device='cuda:1')\n"
     ]
    },
    {
     "name": "stderr",
     "output_type": "stream",
     "text": [
      "\r",
      " 75%|███████▌  | 3/4 [00:00<00:00,  3.47it/s]"
     ]
    },
    {
     "name": "stdout",
     "output_type": "stream",
     "text": [
      "tensor([11, 11, 42, 11, 11, 11, 11, 11, 42, 56, 59, 12, 52, 49,  3, 11, 11, 11,\n",
      "        11, 11, 11,  0, 60, 56, 11, 11, 11, 11, 11, 11, 11,  3, 11, 11, 11, 11,\n",
      "         3, 11, 11, 11, 11, 37, 11, 11, 67, 56, 18, 11, 11, 11, 11, 11, 11, 11,\n",
      "        56, 11, 11, 11, 11, 11, 11, 11, 60, 56, 11, 49, 11, 11, 49, 11],\n",
      "       device='cuda:1')\n"
     ]
    },
    {
     "name": "stderr",
     "output_type": "stream",
     "text": [
      "100%|██████████| 4/4 [00:01<00:00,  3.47it/s]\n",
      "  0%|          | 0/4 [00:00<?, ?it/s]"
     ]
    },
    {
     "name": "stdout",
     "output_type": "stream",
     "text": [
      "tensor([67, 24, 50, 56, 40, 67, 67, 40, 56, 50, 67, 67, 15, 67, 15, 65, 15, 32,\n",
      "        67, 17, 67, 24,  3, 15, 56, 24, 17, 23, 65, 67, 24, 50, 50, 24, 67, 31,\n",
      "        17, 17, 67, 17, 67, 24, 40, 67, 67, 52, 67, 65,  2, 17, 40, 17, 31, 17,\n",
      "        15, 15, 64, 17, 65, 15, 15, 40, 67, 67, 67, 56, 67, 24, 40, 67],\n",
      "       device='cuda:1')\n"
     ]
    },
    {
     "name": "stderr",
     "output_type": "stream",
     "text": [
      "\r",
      " 25%|██▌       | 1/4 [00:00<00:00,  3.45it/s]"
     ]
    },
    {
     "name": "stdout",
     "output_type": "stream",
     "text": [
      "tensor([42, 16, 16, 31, 42, 42, 44, 58, 31, 16, 42, 42, 42, 42, 42, 16, 44, 31,\n",
      "         5, 42, 16, 42, 42, 31, 42, 40, 38, 42, 44, 42, 16, 42, 26, 44, 16, 16,\n",
      "        42,  5, 26, 42, 42, 40, 58, 42,  6, 42, 42, 44, 44,  6, 34, 26, 51, 42,\n",
      "        42, 16, 16, 44, 42, 42, 16, 44, 44, 26, 42, 26, 42, 16, 42, 16],\n",
      "       device='cuda:1')\n"
     ]
    },
    {
     "name": "stderr",
     "output_type": "stream",
     "text": [
      "\r",
      " 50%|█████     | 2/4 [00:00<00:00,  3.44it/s]"
     ]
    },
    {
     "name": "stdout",
     "output_type": "stream",
     "text": [
      "tensor([45, 45,  5, 45, 36, 36, 45, 18, 21, 21, 52, 53,  5, 54, 55,  5,  5,  5,\n",
      "        25,  5, 36, 68, 18,  5, 45,  5, 36,  5, 29, 45, 45,  5, 43,  5,  5, 18,\n",
      "        21, 21,  2, 68, 53, 19, 45, 18, 45, 30, 53, 53, 36, 45, 18,  5,  5, 68,\n",
      "        45, 18, 30,  5, 61, 21, 45, 45, 68, 36,  2, 36, 46, 21,  5, 53],\n",
      "       device='cuda:1')\n"
     ]
    },
    {
     "name": "stderr",
     "output_type": "stream",
     "text": [
      "\r",
      " 75%|███████▌  | 3/4 [00:00<00:00,  3.44it/s]"
     ]
    },
    {
     "name": "stdout",
     "output_type": "stream",
     "text": [
      "tensor([11, 11, 42, 11, 11, 11, 11, 11, 42, 20, 59, 12, 52, 49,  3, 11, 11, 11,\n",
      "        11, 11, 11,  0, 60, 56, 11, 11, 11, 11, 11, 11, 11,  3, 11, 11, 11, 11,\n",
      "         3, 11, 11, 11, 11, 37, 11, 11, 67, 56, 18, 11, 11, 11, 11, 11, 11, 11,\n",
      "        56, 11, 11, 11, 11, 11, 11, 11, 60, 56, 11, 49, 11, 11, 49, 11],\n",
      "       device='cuda:1')\n"
     ]
    },
    {
     "name": "stderr",
     "output_type": "stream",
     "text": [
      "100%|██████████| 4/4 [00:01<00:00,  3.44it/s]\n",
      "  0%|          | 0/4 [00:00<?, ?it/s]"
     ]
    },
    {
     "name": "stdout",
     "output_type": "stream",
     "text": [
      "tensor([67, 24, 50, 56, 40, 67, 67, 40, 56, 50, 67, 67, 15, 67, 15, 65, 15, 32,\n",
      "        67, 17, 67, 24,  3, 15, 56, 24, 17, 23, 65, 67, 24, 50, 50, 24, 67, 31,\n",
      "        17, 17, 67, 17, 67, 24, 40, 67, 67, 52, 67, 65,  2, 17, 40, 17, 31, 17,\n",
      "        15, 15, 64, 17, 65, 15, 15, 40, 67, 67, 67, 56, 67, 24, 40, 67],\n",
      "       device='cuda:1')\n"
     ]
    },
    {
     "name": "stderr",
     "output_type": "stream",
     "text": [
      "\r",
      " 25%|██▌       | 1/4 [00:00<00:00,  3.52it/s]"
     ]
    },
    {
     "name": "stdout",
     "output_type": "stream",
     "text": [
      "tensor([42, 16, 16, 31, 42, 42, 44, 58, 31, 16, 42, 42, 42, 42, 42, 16, 44, 31,\n",
      "         5, 42, 16, 42, 42, 31, 42, 40, 38, 42, 44, 42, 16, 42, 26, 44, 16, 16,\n",
      "        42,  5, 26, 42, 42, 40, 58, 42,  6, 42, 42, 44, 44,  6, 34, 26, 51, 42,\n",
      "        42, 16, 16, 44, 42, 42, 16, 44, 44, 26, 42, 26, 42, 16, 42, 16],\n",
      "       device='cuda:1')\n"
     ]
    },
    {
     "name": "stderr",
     "output_type": "stream",
     "text": [
      "\r",
      " 50%|█████     | 2/4 [00:00<00:00,  3.51it/s]"
     ]
    },
    {
     "name": "stdout",
     "output_type": "stream",
     "text": [
      "tensor([45, 45,  5, 45, 36, 36, 45, 18, 21, 21, 52, 53,  5, 54, 55,  5,  5,  5,\n",
      "        25,  5, 36, 68, 18,  5, 45,  5, 36,  5, 29, 45, 45,  5, 43,  5,  5, 18,\n",
      "        21, 21,  2, 68, 53, 19, 45, 18, 45, 30, 53, 53, 36, 45, 18,  5,  5, 68,\n",
      "        45, 18, 30,  5, 61, 21, 45, 45, 68, 36,  2, 36, 46, 21,  5, 53],\n",
      "       device='cuda:1')\n"
     ]
    },
    {
     "name": "stderr",
     "output_type": "stream",
     "text": [
      "\r",
      " 75%|███████▌  | 3/4 [00:00<00:00,  3.49it/s]"
     ]
    },
    {
     "name": "stdout",
     "output_type": "stream",
     "text": [
      "tensor([11, 11, 42, 11, 11, 11, 11, 11, 42, 20, 59, 12, 52, 18,  3, 11, 11, 11,\n",
      "        11, 11, 11,  0, 60, 56, 11, 11, 11, 11, 11, 11, 11,  3, 11, 11, 11, 11,\n",
      "         3, 11, 11, 11, 11, 37, 11, 11, 67, 56, 18, 11, 11, 11, 11, 11, 11, 11,\n",
      "        56, 11, 11, 11, 11, 11, 11, 11, 60, 56, 11, 49, 11, 11, 49, 11],\n",
      "       device='cuda:1')\n"
     ]
    },
    {
     "name": "stderr",
     "output_type": "stream",
     "text": [
      "\r",
      "100%|██████████| 4/4 [00:01<00:00,  3.47it/s]"
     ]
    },
    {
     "name": "stdout",
     "output_type": "stream",
     "text": [
      "tensor([67, 24, 50, 56, 40, 67, 67, 40, 56, 50, 67, 67, 15, 67, 15, 65, 15, 32,\n",
      "        67, 17, 67, 24,  3, 15, 56, 24, 17, 23, 65, 67, 24, 50, 50, 24, 67, 31,\n",
      "        17, 17, 67, 17, 67, 24, 40, 67, 67, 52, 67, 65, 24, 17, 40, 17, 31, 17,\n",
      "        15, 15, 64, 17, 65, 15, 15, 40, 67, 67, 67, 56, 67, 24, 40, 67],\n",
      "       device='cuda:1')\n"
     ]
    },
    {
     "name": "stderr",
     "output_type": "stream",
     "text": [
      "\n",
      "\r",
      "  0%|          | 0/4 [00:00<?, ?it/s]"
     ]
    },
    {
     "name": "stdout",
     "output_type": "stream",
     "text": [
      "tensor([42, 16, 16, 31, 42, 42, 44, 58, 31, 16, 42, 42, 42, 42, 42, 16, 44, 31,\n",
      "         5, 42, 16, 42, 42, 31, 42, 40, 38, 42, 44, 42, 16, 42, 26, 44, 16, 16,\n",
      "        42,  5, 26, 42, 42, 40, 58, 42,  6, 42, 42, 44, 44,  6, 34, 26, 51, 42,\n",
      "        42, 16, 16, 44, 42, 42, 16, 44, 44, 26, 42, 26, 42, 16, 42, 16],\n",
      "       device='cuda:1')\n"
     ]
    },
    {
     "name": "stderr",
     "output_type": "stream",
     "text": [
      " 50%|█████     | 2/4 [00:00<00:00,  3.46it/s]"
     ]
    },
    {
     "name": "stdout",
     "output_type": "stream",
     "text": [
      "tensor([45, 45,  5, 45, 36, 36, 45, 18, 21, 21, 52, 53,  5, 54, 55,  5,  5,  5,\n",
      "        25,  5, 36, 68, 18,  5, 45,  5, 36,  5, 29, 45, 45,  5, 43,  5,  5, 18,\n",
      "        21, 21,  2, 68, 53, 19, 45, 18, 45, 30, 53, 53, 36, 45, 18,  5,  5, 68,\n",
      "        45, 18, 30,  5, 61, 21, 45, 45, 68, 36,  2, 36, 46, 21,  5, 53],\n",
      "       device='cuda:1')\n"
     ]
    },
    {
     "name": "stderr",
     "output_type": "stream",
     "text": [
      "\r",
      " 75%|███████▌  | 3/4 [00:00<00:00,  3.45it/s]"
     ]
    },
    {
     "name": "stdout",
     "output_type": "stream",
     "text": [
      "tensor([11, 11, 42, 11, 11, 11, 11, 11, 42, 20, 59, 12, 52, 18,  3, 11, 11, 11,\n",
      "        11, 11, 11,  0, 60, 56, 11, 11, 11, 11, 11, 11, 11,  3, 11, 11, 11, 11,\n",
      "         3, 11, 11, 11, 11, 37, 11, 11, 67, 56, 18, 11, 11, 11, 11, 11, 11, 11,\n",
      "        56, 11, 11, 11, 11, 11, 11, 11, 60, 56, 11, 49, 11, 11, 49, 11],\n",
      "       device='cuda:1')\n"
     ]
    },
    {
     "name": "stderr",
     "output_type": "stream",
     "text": [
      "100%|██████████| 4/4 [00:01<00:00,  3.44it/s]\n",
      "  0%|          | 0/4 [00:00<?, ?it/s]"
     ]
    },
    {
     "name": "stdout",
     "output_type": "stream",
     "text": [
      "tensor([67, 24, 50, 56, 40, 67, 67, 40, 56, 50, 67, 67, 15, 67, 15, 65, 15, 32,\n",
      "        67, 17, 67, 24,  3, 15, 56, 24, 17, 23, 65, 67, 24, 50, 50, 24, 67, 31,\n",
      "        17, 17, 67, 17, 67, 24, 40, 67, 67, 52, 67, 65, 24, 17, 40, 17, 31, 17,\n",
      "        15, 15, 64, 17, 65, 15, 15, 40, 67, 67, 67, 56, 67, 24, 40, 67],\n",
      "       device='cuda:1')\n"
     ]
    },
    {
     "name": "stderr",
     "output_type": "stream",
     "text": [
      "\r",
      " 25%|██▌       | 1/4 [00:00<00:00,  3.48it/s]"
     ]
    },
    {
     "name": "stdout",
     "output_type": "stream",
     "text": [
      "tensor([42, 16, 16, 31, 42, 42, 44, 58, 31, 16, 42, 42, 42, 42, 42, 16, 44, 31,\n",
      "         5, 42, 16, 42, 42, 31, 42, 40, 38, 42, 34, 42, 16, 42, 26, 44, 16, 16,\n",
      "        42,  5, 26, 42, 42, 40, 58, 42,  6, 42, 42, 44, 44,  6, 34, 26, 51, 42,\n",
      "        42, 16, 16, 44, 42, 42, 16, 44, 44, 26, 42, 26, 42, 16, 42, 16],\n",
      "       device='cuda:1')\n"
     ]
    },
    {
     "name": "stderr",
     "output_type": "stream",
     "text": [
      "\r",
      " 50%|█████     | 2/4 [00:00<00:00,  3.47it/s]"
     ]
    },
    {
     "name": "stdout",
     "output_type": "stream",
     "text": [
      "tensor([45, 45,  5, 45, 36, 36, 45, 18, 21, 21, 52, 53,  5, 54, 60,  5,  5,  5,\n",
      "        25,  5, 36, 68, 18,  5, 45,  5, 36,  5, 29, 45, 45,  5, 43,  5,  5, 18,\n",
      "        21, 21,  2, 68, 53, 19, 45, 18, 45, 30, 53, 53, 36, 45, 18,  5,  5, 68,\n",
      "        45, 18, 30,  5, 61, 21, 45, 45, 68, 36,  2, 36, 46, 21,  5, 53],\n",
      "       device='cuda:1')\n"
     ]
    },
    {
     "name": "stderr",
     "output_type": "stream",
     "text": [
      "\r",
      " 75%|███████▌  | 3/4 [00:00<00:00,  3.46it/s]"
     ]
    },
    {
     "name": "stdout",
     "output_type": "stream",
     "text": [
      "tensor([11, 11, 42, 11, 11, 11, 11, 11, 42, 20, 59, 12, 52, 18,  3, 11, 11, 11,\n",
      "        11, 11, 11,  0, 60, 56, 11, 11, 11, 11, 11, 11, 11,  3, 11, 11, 11, 11,\n",
      "         3, 11, 11, 11, 11, 37, 11, 11, 67, 56, 18, 11, 11, 11, 11, 11, 11, 11,\n",
      "        56, 11, 11, 11, 11, 11, 11, 11, 60, 56, 11, 49, 11, 11, 49, 11],\n",
      "       device='cuda:1')\n"
     ]
    },
    {
     "name": "stderr",
     "output_type": "stream",
     "text": [
      "\r",
      "100%|██████████| 4/4 [00:01<00:00,  3.45it/s]"
     ]
    },
    {
     "name": "stdout",
     "output_type": "stream",
     "text": [
      "tensor([67, 24, 50, 56, 40, 67, 67, 40, 56, 50, 67, 67, 15, 67, 15, 65, 15, 32,\n",
      "        67, 17, 67, 24,  3, 15, 56, 24, 17, 23, 65, 67, 24, 50, 50, 24, 67, 31,\n",
      "        17, 17, 67, 17, 67, 24, 40, 67, 67, 52, 67, 65, 24, 17, 40, 17, 31, 17,\n",
      "        15, 15, 64, 17, 65, 15, 15, 40, 67, 67, 67, 56, 67, 24, 40, 67],\n",
      "       device='cuda:1')\n"
     ]
    },
    {
     "name": "stderr",
     "output_type": "stream",
     "text": [
      "\n",
      " 25%|██▌       | 1/4 [00:00<00:00,  3.47it/s]"
     ]
    },
    {
     "name": "stdout",
     "output_type": "stream",
     "text": [
      "tensor([42, 16, 16, 31, 42, 42, 44, 58, 31, 16, 42, 42, 42, 42, 42, 16, 44, 31,\n",
      "         5, 42, 16, 42, 42, 31, 42, 40, 38, 42, 34, 42, 16, 42, 26, 44, 16, 16,\n",
      "        42,  5, 26, 42, 42, 40, 58, 42,  6, 42, 42, 44, 44,  6, 34, 26, 51, 42,\n",
      "        42, 16, 16, 44, 42, 42, 16, 44, 44, 26, 42, 26, 42, 16, 42, 16],\n",
      "       device='cuda:1')\n"
     ]
    },
    {
     "name": "stderr",
     "output_type": "stream",
     "text": [
      "\r",
      " 50%|█████     | 2/4 [00:00<00:00,  3.45it/s]"
     ]
    },
    {
     "name": "stdout",
     "output_type": "stream",
     "text": [
      "tensor([45, 45,  5, 45, 36, 36, 45, 18, 21, 21, 52, 53,  5, 54, 60,  5,  5,  5,\n",
      "        25,  5, 36, 68, 18,  5, 45,  5, 36,  5, 29, 45, 45,  5, 43,  5,  5, 18,\n",
      "        21, 21,  2, 68, 53, 19, 45, 18, 45, 30, 53, 53, 36, 45, 18,  5,  5, 68,\n",
      "        45, 18, 30,  5, 61, 21, 45, 45, 68, 36,  2, 36, 46, 21,  5, 53],\n",
      "       device='cuda:1')\n"
     ]
    },
    {
     "name": "stderr",
     "output_type": "stream",
     "text": [
      "\r",
      " 75%|███████▌  | 3/4 [00:00<00:00,  3.45it/s]"
     ]
    },
    {
     "name": "stdout",
     "output_type": "stream",
     "text": [
      "tensor([11, 11, 42, 11, 11, 11, 11, 11, 42, 20, 59, 12, 52, 18,  3, 11, 11, 11,\n",
      "        11, 11, 11,  0, 60, 56, 11, 11, 11, 11, 11, 11, 11,  3, 11, 11, 11, 11,\n",
      "         3, 11, 11, 11, 11, 37, 11, 11, 67, 56, 18, 11, 11, 11, 11, 11, 11, 11,\n",
      "        56, 11, 11, 11, 11, 11, 11, 11, 60, 56, 11, 49, 11, 11, 49, 11],\n",
      "       device='cuda:1')\n"
     ]
    },
    {
     "name": "stderr",
     "output_type": "stream",
     "text": [
      "\r",
      "100%|██████████| 4/4 [00:01<00:00,  3.44it/s]"
     ]
    },
    {
     "name": "stdout",
     "output_type": "stream",
     "text": [
      "tensor([67, 24, 50, 56, 40, 67, 67, 40, 56, 50, 67, 67, 15, 67, 15, 65, 15, 32,\n",
      "        67, 17, 67, 24,  3, 15, 56, 24, 17, 23, 65, 67, 24, 50, 50, 24, 67, 31,\n",
      "        17, 17, 67, 17, 67, 24, 40, 67, 67, 52, 67, 65, 24, 17, 40, 17, 31, 17,\n",
      "        15, 15, 64, 17, 65, 15, 15, 40, 67, 67, 67, 56, 67, 24, 40, 67],\n",
      "       device='cuda:1')\n"
     ]
    },
    {
     "name": "stderr",
     "output_type": "stream",
     "text": [
      "\n",
      " 25%|██▌       | 1/4 [00:00<00:00,  3.49it/s]"
     ]
    },
    {
     "name": "stdout",
     "output_type": "stream",
     "text": [
      "tensor([42, 16, 16, 31, 42, 42, 44, 58, 31, 16, 42, 42, 42, 42, 42, 16, 44, 31,\n",
      "         5, 42, 16, 42, 42, 31, 42, 40, 38, 42, 34, 42, 16, 42, 26, 44, 16, 16,\n",
      "        42,  5, 26, 42, 42, 40, 58, 42,  6, 42, 42, 44, 44,  6, 34, 26, 51, 42,\n",
      "        42, 16, 16, 44, 42, 42, 16, 44, 44, 26, 42, 26, 42, 16, 42, 16],\n",
      "       device='cuda:1')\n"
     ]
    },
    {
     "name": "stderr",
     "output_type": "stream",
     "text": [
      "\r",
      " 50%|█████     | 2/4 [00:00<00:00,  3.48it/s]"
     ]
    },
    {
     "name": "stdout",
     "output_type": "stream",
     "text": [
      "tensor([45, 45,  5, 45, 36, 36, 45, 18, 21, 21, 52, 53,  5, 54, 60,  5,  5,  5,\n",
      "        25,  5, 36, 68, 18,  5, 45,  5, 36,  5, 29, 45, 45,  5, 43,  5,  5, 18,\n",
      "        21, 21,  2, 68, 53, 19, 45, 18, 45, 30, 53, 53, 36, 45, 18,  5,  5, 68,\n",
      "        45, 18, 30,  5, 61, 21, 45, 45, 68, 36,  2, 36, 46, 21,  5, 53],\n",
      "       device='cuda:1')\n"
     ]
    },
    {
     "name": "stderr",
     "output_type": "stream",
     "text": [
      "\r",
      " 75%|███████▌  | 3/4 [00:00<00:00,  3.47it/s]"
     ]
    },
    {
     "name": "stdout",
     "output_type": "stream",
     "text": [
      "tensor([11, 11, 42, 11, 11, 11, 11, 11, 42, 20, 59, 12, 52, 18,  3, 11, 11, 11,\n",
      "        11, 11, 11,  0, 60, 56, 11, 11, 11, 11, 11, 11, 11,  3, 11, 11, 11, 11,\n",
      "         3, 11, 11, 11, 11, 37, 11, 11, 67, 56, 18, 11, 11, 11, 11, 11, 11, 11,\n",
      "        56, 11, 11, 11, 11, 11, 11, 11, 60, 56, 11, 49, 11, 11, 49, 11],\n",
      "       device='cuda:1')\n"
     ]
    },
    {
     "name": "stderr",
     "output_type": "stream",
     "text": [
      "\r",
      "100%|██████████| 4/4 [00:01<00:00,  3.47it/s]"
     ]
    },
    {
     "name": "stdout",
     "output_type": "stream",
     "text": [
      "tensor([67, 24, 50, 56, 40, 67, 67, 40, 56, 50, 67, 67, 15, 67, 15, 65, 15, 32,\n",
      "        67, 17, 67, 24,  3, 15, 56, 24, 17, 23, 65, 67, 24, 50, 50, 24, 67, 31,\n",
      "        17, 17, 67, 17, 67, 24, 40, 67, 67, 52, 67, 65, 24, 17, 40, 17, 31, 17,\n",
      "        15, 15, 64, 17, 65, 15, 15, 40, 67, 67, 67, 56, 67, 24, 40, 67],\n",
      "       device='cuda:1')\n"
     ]
    },
    {
     "name": "stderr",
     "output_type": "stream",
     "text": [
      "\n",
      " 25%|██▌       | 1/4 [00:00<00:00,  3.46it/s]"
     ]
    },
    {
     "name": "stdout",
     "output_type": "stream",
     "text": [
      "tensor([42, 16, 16, 31, 42, 42, 44, 58, 31, 16, 42, 42, 42, 42, 42, 16, 44, 31,\n",
      "         5, 42, 16, 42, 42, 31, 42, 40, 38, 42, 34, 42, 16, 42, 26, 44, 16, 16,\n",
      "        42,  5, 26, 42, 42, 40, 58, 42,  6, 42, 42, 44, 44,  6, 34, 26, 51, 42,\n",
      "        42, 16, 16, 44, 42, 42, 16, 44, 44, 26, 42, 26, 42, 16, 42, 16],\n",
      "       device='cuda:1')\n"
     ]
    },
    {
     "name": "stderr",
     "output_type": "stream",
     "text": [
      "\r",
      " 50%|█████     | 2/4 [00:00<00:00,  3.46it/s]"
     ]
    },
    {
     "name": "stdout",
     "output_type": "stream",
     "text": [
      "tensor([45, 45,  5, 45, 36, 36, 45, 18, 21, 21, 52, 53,  5, 54, 60,  5,  5,  5,\n",
      "        25,  5, 36, 68, 18,  5, 45,  5, 36,  5, 29, 45, 45,  5, 43,  5,  5, 18,\n",
      "        21, 21,  2, 68, 53, 19, 45, 18, 45, 30, 53, 53, 36, 45, 18,  5,  5, 68,\n",
      "        45, 18, 30,  5, 61, 21, 45, 45, 68, 36,  2, 36, 46, 21,  5, 53],\n",
      "       device='cuda:1')\n"
     ]
    },
    {
     "name": "stderr",
     "output_type": "stream",
     "text": [
      "\r",
      " 75%|███████▌  | 3/4 [00:00<00:00,  3.46it/s]"
     ]
    },
    {
     "name": "stdout",
     "output_type": "stream",
     "text": [
      "tensor([11, 11, 42, 11, 11, 11, 11, 11, 42, 20, 59, 12, 52, 18,  3, 11, 11, 11,\n",
      "        11, 11, 11,  0, 60, 56, 11, 11, 11, 11, 11, 11, 11,  3, 11, 11, 11, 11,\n",
      "         3, 11, 11, 11, 11, 37, 11, 11, 67, 56, 18, 11, 11, 11, 11, 11, 11, 11,\n",
      "        56, 11, 11, 11, 11, 11, 11, 11, 60, 56, 11, 49, 11, 11, 49, 11],\n",
      "       device='cuda:1')\n"
     ]
    },
    {
     "name": "stderr",
     "output_type": "stream",
     "text": [
      "\r",
      "100%|██████████| 4/4 [00:01<00:00,  3.45it/s]"
     ]
    },
    {
     "name": "stdout",
     "output_type": "stream",
     "text": [
      "tensor([67, 24, 50, 56, 40, 67, 67, 40, 56, 50, 67, 67, 15, 67, 15, 65, 15, 32,\n",
      "        67, 17, 67, 24,  3, 15, 56, 24, 17, 23, 65, 67, 24, 50, 50, 24, 67, 31,\n",
      "        17, 17, 67, 17, 67, 24, 40, 67, 67, 52, 67, 65, 24, 17, 40, 17, 31, 17,\n",
      "        15, 15, 64, 17, 65, 15, 15, 40, 67, 67, 67, 56, 67, 24, 40, 67],\n",
      "       device='cuda:1')\n"
     ]
    },
    {
     "name": "stderr",
     "output_type": "stream",
     "text": [
      "\n",
      " 25%|██▌       | 1/4 [00:00<00:00,  3.47it/s]"
     ]
    },
    {
     "name": "stdout",
     "output_type": "stream",
     "text": [
      "tensor([42, 16, 16, 31, 42, 42, 44, 58, 31, 16, 42, 42, 42, 42, 42, 16, 44, 31,\n",
      "         5, 42, 16, 42, 42, 31, 42, 40, 38, 42, 34, 42, 16, 42, 26, 44, 16, 16,\n",
      "        42,  5, 26, 42, 42, 40, 58, 42,  6, 42, 42, 44, 44,  6, 34, 26, 51, 42,\n",
      "        42, 16, 16, 44, 42, 42, 16, 44, 44, 26, 42, 26, 42, 16, 42, 16],\n",
      "       device='cuda:1')\n"
     ]
    },
    {
     "name": "stderr",
     "output_type": "stream",
     "text": [
      "\r",
      " 50%|█████     | 2/4 [00:00<00:00,  3.46it/s]"
     ]
    },
    {
     "name": "stdout",
     "output_type": "stream",
     "text": [
      "tensor([45, 45,  5, 45, 36, 36, 45, 18, 21, 21, 52, 53,  5, 54, 60,  5,  5,  5,\n",
      "        25,  5, 36, 68, 18,  5, 45,  5, 36,  5, 29, 45, 45,  5, 43,  5,  5, 18,\n",
      "        21, 21,  2, 68, 53, 19, 45, 18, 45, 30, 53, 53, 36, 45, 18,  5,  5, 68,\n",
      "        45, 18, 30,  5, 61, 21, 45, 45, 68, 36,  2, 36, 46, 21,  5, 53],\n",
      "       device='cuda:1')\n",
      "tensor([11, 11, 42, 11, 11, 11, 11, 11, 42, 20, 59, 12, 52, 18,  3, 11, 11, 11,\n",
      "        11, 11, 11,  0, 60, 56, 11, 11, 11, 11, 11, 11, 11,  3, 11, 11, 11, 11,\n",
      "         3, 11, 11, 11, 11, 37, 11, 11, 67, 56, 18, 11, 11, 11, 11, 11, 11, 11,\n",
      "        56, 11, 11, 11, 11, 11, 11, 11, 60, 56, 11, 49, 11, 11, 49, 11],\n",
      "       device='cuda:1')\n"
     ]
    },
    {
     "name": "stderr",
     "output_type": "stream",
     "text": [
      "100%|██████████| 4/4 [00:01<00:00,  3.44it/s]"
     ]
    },
    {
     "name": "stdout",
     "output_type": "stream",
     "text": [
      "tensor([67, 24, 50, 56, 40, 67, 67, 40, 56, 50, 67, 67, 15, 67, 15, 65, 15, 32,\n",
      "        67, 17, 67, 24,  3, 15, 56, 24, 17, 23, 65, 67, 24, 50, 50, 24, 67, 31,\n",
      "        17, 17, 67, 17, 67, 24, 40, 67, 67, 52, 67, 65, 24, 17, 40, 17, 31, 17,\n",
      "        15, 15, 64, 17, 65, 15, 15, 40, 67, 67, 67, 56, 67, 24, 40, 67],\n",
      "       device='cuda:1')\n"
     ]
    },
    {
     "name": "stderr",
     "output_type": "stream",
     "text": [
      "\n",
      " 25%|██▌       | 1/4 [00:00<00:00,  3.48it/s]"
     ]
    },
    {
     "name": "stdout",
     "output_type": "stream",
     "text": [
      "tensor([42, 16, 16, 31, 42, 42, 44, 58, 31, 16, 42, 42, 42, 42, 42, 16, 44, 31,\n",
      "         5, 42, 16, 42, 42, 31, 42, 40, 38, 42, 34, 42, 16, 42, 26, 44, 16, 16,\n",
      "        42,  5, 26, 42, 42, 40, 58, 42,  6, 42, 42, 44, 44,  6, 34, 26, 51, 42,\n",
      "        42, 16, 16, 44, 42, 42, 16, 44, 44, 26, 42, 26, 42, 16, 42, 16],\n",
      "       device='cuda:1')\n"
     ]
    },
    {
     "name": "stderr",
     "output_type": "stream",
     "text": [
      "\r",
      " 50%|█████     | 2/4 [00:00<00:00,  3.47it/s]"
     ]
    },
    {
     "name": "stdout",
     "output_type": "stream",
     "text": [
      "tensor([45, 45,  5, 45, 36, 36, 45, 18, 21, 21, 52, 53,  5, 54, 60,  5,  5,  5,\n",
      "        25,  5, 36, 68, 18,  5, 45,  5, 36,  5, 29, 45, 45,  5, 43,  5,  5, 18,\n",
      "        21, 21,  2, 68, 53, 19, 45, 18, 45, 30, 53, 53, 36, 45, 18,  5,  5, 68,\n",
      "        45, 18, 30,  5, 61, 21, 45, 45, 68, 36,  2, 36, 46, 21,  5, 53],\n",
      "       device='cuda:1')\n"
     ]
    },
    {
     "name": "stderr",
     "output_type": "stream",
     "text": [
      "\r",
      " 75%|███████▌  | 3/4 [00:00<00:00,  3.46it/s]"
     ]
    },
    {
     "name": "stdout",
     "output_type": "stream",
     "text": [
      "tensor([11, 11, 42, 11, 11, 11, 11, 11, 42, 20, 59, 12, 52, 18,  3, 11, 11, 11,\n",
      "        11, 11, 11,  0, 60, 56, 11, 11, 11, 11, 11, 11, 11,  3, 11, 11, 11, 11,\n",
      "         3, 11, 11, 11, 11, 37, 11, 11, 67, 56, 18, 11, 11, 11, 11, 11, 11, 11,\n",
      "        56, 11, 11, 11, 11, 11, 11, 11, 60, 56, 11, 49, 11, 11, 49, 11],\n",
      "       device='cuda:1')\n"
     ]
    },
    {
     "name": "stderr",
     "output_type": "stream",
     "text": [
      "\r",
      "100%|██████████| 4/4 [00:01<00:00,  3.45it/s]"
     ]
    },
    {
     "name": "stdout",
     "output_type": "stream",
     "text": [
      "tensor([67, 24, 50, 56, 40, 67, 67, 40, 56, 50, 67, 67, 15, 67, 15, 65, 15, 32,\n",
      "        67, 17, 67, 24,  3, 15, 56, 24, 17, 23, 65, 67, 24, 50, 50, 24, 67, 31,\n",
      "        17, 17, 67, 17, 67, 24, 40, 67, 67, 52, 67, 65, 24, 17, 40, 17, 31, 17,\n",
      "        15, 15, 64, 17, 65, 15, 15, 40, 67, 67, 67, 56, 67, 24, 40, 67],\n",
      "       device='cuda:1')\n"
     ]
    },
    {
     "name": "stderr",
     "output_type": "stream",
     "text": [
      "\n",
      " 25%|██▌       | 1/4 [00:00<00:00,  3.48it/s]"
     ]
    },
    {
     "name": "stdout",
     "output_type": "stream",
     "text": [
      "tensor([42, 16, 16, 31, 42, 42, 44, 58, 31, 16, 42, 42, 42, 42, 42, 16, 44, 31,\n",
      "         5, 42, 16, 42, 42, 31, 42, 40, 38, 42, 34, 42, 16, 42, 26, 44, 16, 16,\n",
      "        42,  5, 26, 42, 42, 40, 58, 42,  6, 42, 42, 44, 44,  6, 34, 26, 51, 42,\n",
      "        42, 16, 16, 44, 42, 42, 16, 44, 44, 26, 42, 26, 42, 16, 42, 16],\n",
      "       device='cuda:1')\n"
     ]
    },
    {
     "name": "stderr",
     "output_type": "stream",
     "text": [
      "\r",
      " 50%|█████     | 2/4 [00:00<00:00,  3.46it/s]"
     ]
    },
    {
     "name": "stdout",
     "output_type": "stream",
     "text": [
      "tensor([45, 45,  5, 45, 36, 36, 45, 18, 21, 21, 52, 53,  5, 54, 60,  5,  5,  5,\n",
      "        25,  5, 36, 68, 18,  5, 45,  5, 36,  5, 29, 45, 45,  5, 43,  5,  5, 18,\n",
      "        21, 21,  2, 68, 53, 19, 45, 18, 45, 30, 53, 53, 36, 45, 18,  5,  5, 68,\n",
      "        45, 18, 30,  5, 61, 21, 45, 45, 68, 36,  2, 36, 46, 21,  5, 53],\n",
      "       device='cuda:1')\n"
     ]
    },
    {
     "name": "stderr",
     "output_type": "stream",
     "text": [
      "\r",
      " 75%|███████▌  | 3/4 [00:00<00:00,  3.45it/s]"
     ]
    },
    {
     "name": "stdout",
     "output_type": "stream",
     "text": [
      "tensor([11, 11, 42, 11, 11, 11, 11, 11, 42, 20, 59, 12, 52, 18,  3, 11, 11, 11,\n",
      "        11, 11, 11,  0, 60, 56, 11, 11, 11, 11, 11, 11, 11,  3, 11, 11, 11, 11,\n",
      "         3, 11, 11, 11, 11, 37, 11, 11, 67, 56, 18, 11, 11, 11, 11, 11, 11, 11,\n",
      "        56, 11, 11, 11, 11, 11, 11, 11, 60, 56, 11, 49, 11, 11, 49, 11],\n",
      "       device='cuda:1')\n"
     ]
    },
    {
     "name": "stderr",
     "output_type": "stream",
     "text": [
      "100%|██████████| 4/4 [00:01<00:00,  3.46it/s]\n",
      "  0%|          | 0/4 [00:00<?, ?it/s]"
     ]
    },
    {
     "name": "stdout",
     "output_type": "stream",
     "text": [
      "tensor([67, 24, 50, 56, 40, 67, 67, 40, 56, 50, 67, 67, 15, 67, 15, 65, 15, 32,\n",
      "        67, 17, 67, 24,  3, 15, 56, 24, 17, 23, 65, 67, 24, 50, 50, 24, 67, 31,\n",
      "        17, 17, 67, 17, 67, 24, 40, 67, 67, 52, 67, 65, 24, 17, 40, 17, 31, 17,\n",
      "        15, 15, 64, 17, 65, 15, 15, 40, 67, 67, 67, 56, 67, 24, 40, 67],\n",
      "       device='cuda:1')\n"
     ]
    },
    {
     "name": "stderr",
     "output_type": "stream",
     "text": [
      "\r",
      " 25%|██▌       | 1/4 [00:00<00:00,  3.47it/s]"
     ]
    },
    {
     "name": "stdout",
     "output_type": "stream",
     "text": [
      "tensor([42, 16, 16, 31, 42, 42, 44, 58, 31, 16, 42, 42, 42, 42, 42, 16, 44, 31,\n",
      "         5, 42, 16, 42, 42, 31, 42, 40, 38, 42, 34, 42, 16, 42, 26, 44, 16, 16,\n",
      "        42,  5, 26, 42, 42, 40, 58, 42,  6, 42, 42, 44, 44,  6, 34, 26, 51, 42,\n",
      "        42, 16, 16, 44, 42, 42, 16, 44, 44, 26, 42, 26, 42, 16, 42, 16],\n",
      "       device='cuda:1')\n"
     ]
    },
    {
     "name": "stderr",
     "output_type": "stream",
     "text": [
      "\r",
      " 50%|█████     | 2/4 [00:00<00:00,  3.45it/s]"
     ]
    },
    {
     "name": "stdout",
     "output_type": "stream",
     "text": [
      "tensor([45, 45,  5, 45, 36, 36, 45, 18, 21, 21, 52, 53,  5, 54, 60,  5,  5,  5,\n",
      "        25,  5, 36, 68, 18,  5, 45,  5, 36,  5, 29, 45, 45,  5, 43,  5,  5, 18,\n",
      "        21, 21,  2, 68, 53, 19, 45, 18, 45, 30, 53, 53, 36, 45, 18,  5,  5, 68,\n",
      "        45, 18, 30,  5, 61, 21, 45, 45, 68, 36,  2, 36, 46, 21,  5, 53],\n",
      "       device='cuda:1')\n"
     ]
    },
    {
     "name": "stderr",
     "output_type": "stream",
     "text": [
      "\r",
      " 75%|███████▌  | 3/4 [00:00<00:00,  3.44it/s]"
     ]
    },
    {
     "name": "stdout",
     "output_type": "stream",
     "text": [
      "tensor([11, 11, 42, 11, 11, 11, 11, 11, 42, 20, 59, 12, 52, 18,  3, 11, 11, 11,\n",
      "        11, 11, 11,  0, 60, 56, 11, 11, 11, 11, 11, 11, 11,  3, 11, 11, 11, 11,\n",
      "         3, 11, 11, 11, 11, 37, 11, 11, 67, 56, 18, 11, 11, 11, 11, 11, 11, 11,\n",
      "        56, 11, 11, 11, 11, 11, 11, 11, 60, 56, 11, 49, 11, 11, 49, 11],\n",
      "       device='cuda:1')\n"
     ]
    },
    {
     "name": "stderr",
     "output_type": "stream",
     "text": [
      "\r",
      "100%|██████████| 4/4 [00:01<00:00,  3.45it/s]"
     ]
    },
    {
     "name": "stdout",
     "output_type": "stream",
     "text": [
      "tensor([67, 24, 50, 56, 40, 67, 67, 40, 56, 50, 67, 67, 15, 67, 15, 65, 15, 32,\n",
      "        67, 17, 67, 24,  3, 15, 56, 24, 17, 23, 65, 67, 24, 50, 50, 24, 67, 31,\n",
      "        17, 17, 67, 17, 67, 24, 40, 67, 67, 52, 67, 65, 24, 17, 40, 17, 31, 17,\n",
      "        15, 15, 64, 17, 65, 15, 15, 40, 67, 67, 67, 56, 67, 24, 40, 67],\n",
      "       device='cuda:1')\n"
     ]
    },
    {
     "name": "stderr",
     "output_type": "stream",
     "text": [
      "\n",
      " 25%|██▌       | 1/4 [00:00<00:00,  3.48it/s]"
     ]
    },
    {
     "name": "stdout",
     "output_type": "stream",
     "text": [
      "tensor([42, 16, 16, 31, 42, 42, 44, 58, 31, 16, 42, 42, 42, 42, 42, 16, 44, 31,\n",
      "         5, 42, 16, 42, 42, 31, 42, 40, 38, 42, 34, 42, 16, 42, 26, 44, 16, 16,\n",
      "        42,  5, 26, 42, 42, 40, 58, 42,  6, 42, 42, 44, 44,  6, 34, 26, 51, 42,\n",
      "        42, 16, 16, 44, 42, 42, 16, 44, 44, 26, 42, 26, 42, 16, 42, 16],\n",
      "       device='cuda:1')\n"
     ]
    },
    {
     "name": "stderr",
     "output_type": "stream",
     "text": [
      "\r",
      " 50%|█████     | 2/4 [00:00<00:00,  3.46it/s]"
     ]
    },
    {
     "name": "stdout",
     "output_type": "stream",
     "text": [
      "tensor([45, 45,  5, 45, 36, 36, 45, 18, 21, 21, 52, 53,  5, 54, 60,  5,  5,  5,\n",
      "        25,  5, 36, 68, 18,  5, 45,  5, 36,  5, 29, 45, 45,  5, 43,  5,  5, 18,\n",
      "        21, 21,  2, 68, 53, 19, 45, 18, 45, 30, 53, 53, 36, 45, 18,  5,  5, 68,\n",
      "        45, 18, 30,  5, 61, 21, 45, 45, 68, 36,  2, 36, 46, 21,  5, 53],\n",
      "       device='cuda:1')\n"
     ]
    },
    {
     "name": "stderr",
     "output_type": "stream",
     "text": [
      "\r",
      " 75%|███████▌  | 3/4 [00:00<00:00,  3.45it/s]"
     ]
    },
    {
     "name": "stdout",
     "output_type": "stream",
     "text": [
      "tensor([11, 11, 42, 11, 11, 11, 11, 11, 42, 20, 59, 12, 52, 18,  3, 11, 11, 11,\n",
      "        11, 11, 11,  0, 60, 56, 11, 11, 11, 11, 11, 11, 11,  3, 11, 11, 11, 11,\n",
      "         3, 11, 11, 11, 11, 37, 11, 11, 67, 56, 18, 11, 11, 11, 11, 11, 11, 11,\n",
      "        56, 11, 11, 11, 11, 11, 11, 11, 60, 56, 11, 49, 11, 11, 52, 11],\n",
      "       device='cuda:1')\n"
     ]
    },
    {
     "name": "stderr",
     "output_type": "stream",
     "text": [
      "100%|██████████| 4/4 [00:01<00:00,  3.45it/s]\n",
      "  0%|          | 0/4 [00:00<?, ?it/s]"
     ]
    },
    {
     "name": "stdout",
     "output_type": "stream",
     "text": [
      "tensor([67, 24, 50, 56, 40, 67, 67, 40, 56, 50, 67, 67, 15, 67, 15, 65, 15, 32,\n",
      "        67, 17, 67, 24,  3, 15, 56, 24, 17, 23, 65, 67, 24, 50, 50, 24, 67, 31,\n",
      "        17, 17, 67, 17, 67, 24, 40, 67, 67, 52, 67, 65, 24, 17, 40, 17, 31, 17,\n",
      "        15, 15, 64, 17, 65, 15, 15, 40, 67, 67, 67, 56, 67, 24, 40, 67],\n",
      "       device='cuda:1')\n"
     ]
    },
    {
     "name": "stderr",
     "output_type": "stream",
     "text": [
      "\r",
      " 25%|██▌       | 1/4 [00:00<00:00,  3.46it/s]"
     ]
    },
    {
     "name": "stdout",
     "output_type": "stream",
     "text": [
      "tensor([42, 16, 16, 31, 42, 42, 44, 58, 31, 16, 42, 42, 42, 42, 42, 16, 44, 31,\n",
      "         5, 42, 16, 42, 42, 31, 42, 40, 38, 42, 34, 42, 16, 42, 26, 44, 16, 16,\n",
      "        42,  5, 26, 42, 42, 40, 58, 42,  6, 42, 42, 44, 44,  6, 34, 26, 51, 42,\n",
      "        42, 16, 16, 44, 42, 42, 16, 44, 44, 26, 42, 26, 42, 16, 42, 16],\n",
      "       device='cuda:1')\n"
     ]
    },
    {
     "name": "stderr",
     "output_type": "stream",
     "text": [
      "\r",
      " 50%|█████     | 2/4 [00:00<00:00,  3.45it/s]"
     ]
    },
    {
     "name": "stdout",
     "output_type": "stream",
     "text": [
      "tensor([45, 45,  5, 45, 36, 36, 45, 18, 21, 21, 52, 53,  5, 54, 60,  5,  5,  5,\n",
      "        25,  5, 36, 68, 18,  5, 45,  5, 36,  5, 29, 45, 45,  5, 43,  5,  5, 18,\n",
      "        21, 21,  2, 68, 53, 19, 45, 18, 45, 30, 53, 53, 36, 45, 18,  5,  5, 68,\n",
      "        45, 18, 30,  5, 61, 21, 45, 45, 68, 36,  2, 36, 46, 21,  5, 53],\n",
      "       device='cuda:1')\n"
     ]
    },
    {
     "name": "stderr",
     "output_type": "stream",
     "text": [
      "\r",
      " 75%|███████▌  | 3/4 [00:00<00:00,  3.45it/s]"
     ]
    },
    {
     "name": "stdout",
     "output_type": "stream",
     "text": [
      "tensor([11, 11, 42, 11, 11, 11, 11, 11, 42, 20, 59, 12, 52, 18,  3, 11, 11, 11,\n",
      "        11, 11, 11,  0, 60, 56, 11, 11, 11, 11, 11, 11, 11,  3, 11, 11, 11, 11,\n",
      "         3, 11, 11, 11, 11, 37, 11, 11, 67, 56, 18, 11, 11, 11, 11, 11, 11, 11,\n",
      "        56, 11, 11, 11, 11, 11, 11, 11, 60, 56, 11, 49, 11, 11, 52, 11],\n",
      "       device='cuda:1')\n"
     ]
    },
    {
     "name": "stderr",
     "output_type": "stream",
     "text": [
      "\r",
      "100%|██████████| 4/4 [00:01<00:00,  3.44it/s]"
     ]
    },
    {
     "name": "stdout",
     "output_type": "stream",
     "text": [
      "tensor([67, 24, 50, 56, 40, 67, 67, 40, 56, 50, 67, 67, 15, 67, 15, 65, 15, 32,\n",
      "        67, 17, 67, 24,  3, 15, 56, 24, 17, 23, 65, 67, 24, 50, 50, 24, 67, 31,\n",
      "        17, 17, 67, 17, 67, 24, 40, 67, 67, 52, 67, 65, 24, 17, 40, 17, 31, 17,\n",
      "        15, 15, 64, 17, 65, 15, 15, 40, 67, 67, 67, 56, 67, 24, 40, 67],\n",
      "       device='cuda:1')\n"
     ]
    },
    {
     "name": "stderr",
     "output_type": "stream",
     "text": [
      "\n",
      " 25%|██▌       | 1/4 [00:00<00:00,  3.48it/s]"
     ]
    },
    {
     "name": "stdout",
     "output_type": "stream",
     "text": [
      "tensor([42, 16, 16, 31, 42, 42, 44, 58, 31, 16, 42, 42, 42, 42, 42, 16, 44, 31,\n",
      "         5, 42, 16, 42, 42, 31, 42, 40, 38, 42, 34, 42, 16, 42, 26, 44, 16, 16,\n",
      "        42,  5, 26, 42, 42, 40, 58, 42,  6, 42, 42, 44, 44,  6, 34, 26, 51, 42,\n",
      "        42, 16, 16, 44, 42, 42, 16, 44, 44, 26, 42, 26, 42, 16, 42, 16],\n",
      "       device='cuda:1')\n"
     ]
    },
    {
     "name": "stderr",
     "output_type": "stream",
     "text": [
      "\r",
      " 50%|█████     | 2/4 [00:00<00:00,  3.47it/s]"
     ]
    },
    {
     "name": "stdout",
     "output_type": "stream",
     "text": [
      "tensor([45, 45,  5, 45, 36, 36, 45, 18, 21, 21, 52, 53,  5, 54, 60,  5,  5,  5,\n",
      "        25,  5, 36, 68, 18,  5, 45,  5, 36,  5, 29, 45, 45,  5, 43,  5,  5, 18,\n",
      "        21, 21,  2, 68, 53, 19, 45, 18, 45, 30, 53, 53, 36, 45, 18,  5,  5, 68,\n",
      "        45, 18, 30,  5, 61, 21, 45, 45, 68, 36,  2, 36, 46, 21,  5, 53],\n",
      "       device='cuda:1')\n",
      "tensor([11, 11, 42, 11, 11, 11, 11, 11, 42, 20, 59, 12, 52, 18,  3, 11, 11, 11,\n",
      "        11, 11, 11,  0, 60, 56, 11, 11, 11, 11, 11, 11, 11,  3, 11, 11, 11, 11,\n",
      "         3, 11, 11, 11, 11, 37, 11, 11, 67, 56, 18, 11, 11, 11, 11, 11, 11, 11,\n",
      "        56, 11, 11, 11, 11, 11, 11, 11, 60, 56, 11, 49, 11, 11, 52, 11],\n",
      "       device='cuda:1')\n"
     ]
    },
    {
     "name": "stderr",
     "output_type": "stream",
     "text": [
      "100%|██████████| 4/4 [00:01<00:00,  3.44it/s]"
     ]
    },
    {
     "name": "stdout",
     "output_type": "stream",
     "text": [
      "tensor([67, 24, 50, 56, 40, 67, 67, 40, 56, 50, 67, 67, 15, 67, 15, 65, 15, 32,\n",
      "        67, 17, 67, 24,  3, 15, 56, 24, 17, 23, 65, 67, 24, 50, 50, 24, 67, 31,\n",
      "        17, 17, 67, 17, 67, 24, 40, 67, 67, 52, 67, 65, 24, 17, 40, 17, 31, 17,\n",
      "        15, 15, 64, 17, 65, 15, 15, 40, 67, 67, 67, 56, 67, 24, 40, 67],\n",
      "       device='cuda:1')\n"
     ]
    },
    {
     "name": "stderr",
     "output_type": "stream",
     "text": [
      "\n",
      " 25%|██▌       | 1/4 [00:00<00:00,  3.46it/s]"
     ]
    },
    {
     "name": "stdout",
     "output_type": "stream",
     "text": [
      "tensor([42, 16, 16, 31, 42, 42, 44, 58, 31, 16, 42, 42, 42, 42, 42, 16, 44, 31,\n",
      "         5, 42, 16, 42, 42, 31, 42, 40, 38, 42, 34, 42, 16, 42, 26, 44, 16, 16,\n",
      "        42,  5, 26, 42, 42, 40, 58, 42,  6, 42, 42, 44, 44,  6, 34, 26, 51, 42,\n",
      "        42, 16, 16, 44, 42, 42, 16, 44, 44, 26, 42, 26, 42, 16, 42, 16],\n",
      "       device='cuda:1')\n"
     ]
    },
    {
     "name": "stderr",
     "output_type": "stream",
     "text": [
      "\r",
      " 50%|█████     | 2/4 [00:00<00:00,  3.46it/s]"
     ]
    },
    {
     "name": "stdout",
     "output_type": "stream",
     "text": [
      "tensor([45, 45,  5, 45, 36, 36, 45, 18, 21, 21, 52, 53,  5, 54, 60,  5,  5,  5,\n",
      "        25,  5, 36, 68, 18,  5, 45,  5, 36,  5, 29, 45, 45,  5, 43,  5,  5, 18,\n",
      "        21, 21,  2, 68, 53, 19, 45, 18, 45, 30, 53, 53, 36, 45, 18,  5,  5, 68,\n",
      "        45, 18, 30,  5, 61, 21, 45, 45, 68, 36,  2, 36, 46, 21,  5, 53],\n",
      "       device='cuda:1')\n"
     ]
    },
    {
     "name": "stderr",
     "output_type": "stream",
     "text": [
      "\r",
      " 75%|███████▌  | 3/4 [00:00<00:00,  3.45it/s]"
     ]
    },
    {
     "name": "stdout",
     "output_type": "stream",
     "text": [
      "tensor([11, 11, 42, 11, 11, 11, 11, 11, 42, 20, 59, 12, 52, 18,  3, 11, 11, 11,\n",
      "        11, 11, 11,  0, 60, 56, 11, 11, 11, 11, 11, 11, 11,  3, 11, 11, 11, 11,\n",
      "         3, 11, 11, 11, 11, 37, 11, 11, 67, 56, 18, 11, 11, 11, 11, 11, 11, 11,\n",
      "        56, 11, 11, 11, 11, 11, 11, 11, 60, 56, 11, 49, 11, 11, 52, 11],\n",
      "       device='cuda:1')\n"
     ]
    },
    {
     "name": "stderr",
     "output_type": "stream",
     "text": [
      "\r",
      "100%|██████████| 4/4 [00:01<00:00,  3.44it/s]"
     ]
    },
    {
     "name": "stdout",
     "output_type": "stream",
     "text": [
      "tensor([67, 24, 50, 56, 40, 67, 67, 40, 56, 50, 67, 67, 15, 67, 15, 65, 15, 32,\n",
      "        67, 17, 67, 24,  3, 15, 56, 24, 17, 23, 65, 67, 24, 50, 50, 24, 67, 31,\n",
      "        17, 17, 67, 17, 67, 24, 40, 67, 67, 52, 67, 65, 24, 17, 40, 17, 31, 17,\n",
      "        15, 15, 64, 17, 65, 15, 15, 40, 67, 67, 67, 56, 67, 24, 40, 67],\n",
      "       device='cuda:1')\n"
     ]
    },
    {
     "name": "stderr",
     "output_type": "stream",
     "text": [
      "\n",
      " 25%|██▌       | 1/4 [00:00<00:00,  3.46it/s]"
     ]
    },
    {
     "name": "stdout",
     "output_type": "stream",
     "text": [
      "tensor([42, 16, 16, 31, 42, 42, 44, 58, 31, 16, 42, 42, 42, 42, 42, 16, 44, 31,\n",
      "         5, 42, 16, 42, 42, 31, 42, 40, 38, 42, 34, 42, 16, 42, 26, 44, 16, 16,\n",
      "        42,  5, 26, 42, 42, 40, 58, 42,  6, 42, 42, 44, 44,  6, 34, 26, 51, 42,\n",
      "        42, 16, 16, 44, 42, 42, 16, 44, 44, 26, 42, 26, 42, 16, 42, 16],\n",
      "       device='cuda:1')\n"
     ]
    },
    {
     "name": "stderr",
     "output_type": "stream",
     "text": [
      "\r",
      " 50%|█████     | 2/4 [00:00<00:00,  3.45it/s]"
     ]
    },
    {
     "name": "stdout",
     "output_type": "stream",
     "text": [
      "tensor([45, 45,  5, 45, 36, 36, 45, 18, 21, 21, 52, 53,  5, 54, 60,  5,  5,  5,\n",
      "        25,  5, 36, 68, 18,  5, 45,  5, 36,  5, 29, 45, 45,  5, 43,  5,  5, 18,\n",
      "        21, 21,  2, 68, 53, 19, 45, 18, 45, 30, 53, 53, 36, 45, 18,  5,  5, 68,\n",
      "        45, 18, 30,  5, 61, 21, 45, 45, 68, 36,  2, 36, 46, 21,  5, 53],\n",
      "       device='cuda:1')\n"
     ]
    },
    {
     "name": "stderr",
     "output_type": "stream",
     "text": [
      "\r",
      " 75%|███████▌  | 3/4 [00:00<00:00,  3.44it/s]"
     ]
    },
    {
     "name": "stdout",
     "output_type": "stream",
     "text": [
      "tensor([11, 11, 42, 11, 11, 11, 11, 11, 42, 20, 59, 12, 52, 18,  3, 11, 11, 11,\n",
      "        11, 11, 11,  0, 60, 56, 11, 11, 11, 11, 11, 11, 11,  3, 11, 11, 11, 11,\n",
      "         3, 11, 11, 11, 11, 37, 11, 11, 67, 56, 18, 11, 11, 11, 11, 11, 11, 11,\n",
      "        56, 11, 11, 11, 11, 11, 11, 11, 60, 56, 11, 49, 11, 11, 52, 11],\n",
      "       device='cuda:1')\n"
     ]
    },
    {
     "name": "stderr",
     "output_type": "stream",
     "text": [
      "\r",
      "100%|██████████| 4/4 [00:01<00:00,  3.44it/s]"
     ]
    },
    {
     "name": "stdout",
     "output_type": "stream",
     "text": [
      "tensor([67, 24, 50, 56, 40, 67, 67, 40, 56, 50, 67, 67, 15, 67, 15, 65, 15, 32,\n",
      "        67, 17, 67, 24,  3, 15, 56, 24, 17, 23, 65, 67, 24, 50, 50, 24, 67, 31,\n",
      "        17, 17, 67, 17, 67, 24, 40, 67, 67, 52, 67, 65, 24, 17, 40, 17, 31, 17,\n",
      "        15, 15, 64, 17, 65, 15, 15, 40, 67, 67, 67, 56, 67, 24, 40, 67],\n",
      "       device='cuda:1')\n"
     ]
    },
    {
     "name": "stderr",
     "output_type": "stream",
     "text": [
      "\n",
      " 25%|██▌       | 1/4 [00:00<00:00,  3.48it/s]"
     ]
    },
    {
     "name": "stdout",
     "output_type": "stream",
     "text": [
      "tensor([42, 16, 16, 31, 42, 42, 44, 58, 31, 16, 42, 42, 42, 42, 42, 16, 44, 31,\n",
      "         5, 42, 16, 42, 42, 31, 42, 40, 38, 42, 34, 42, 16, 42, 26, 44, 16, 16,\n",
      "        42,  5, 26, 42, 42, 40, 58, 42,  6, 42, 42, 44, 44,  6, 34, 26, 51, 42,\n",
      "        42, 16, 16, 44, 42, 42, 16, 44, 44, 26, 42, 26, 42, 16, 42, 16],\n",
      "       device='cuda:1')\n"
     ]
    },
    {
     "name": "stderr",
     "output_type": "stream",
     "text": [
      "\r",
      " 50%|█████     | 2/4 [00:00<00:00,  3.47it/s]"
     ]
    },
    {
     "name": "stdout",
     "output_type": "stream",
     "text": [
      "tensor([45, 45,  5, 45, 36, 36, 45, 18, 21, 21, 52, 53,  5, 54, 60,  5,  5,  5,\n",
      "        25,  5, 36, 68, 18,  5, 45,  5, 36,  5, 29, 45, 45,  5, 43,  5,  5, 18,\n",
      "        21, 21,  2, 68, 53, 19, 45, 18, 45, 30, 53, 53, 36, 45, 18,  5,  5, 68,\n",
      "        45, 18, 30,  5, 61, 21, 45, 45, 68, 36,  2, 36, 46, 21,  5, 53],\n",
      "       device='cuda:1')\n"
     ]
    },
    {
     "name": "stderr",
     "output_type": "stream",
     "text": [
      "\r",
      " 75%|███████▌  | 3/4 [00:00<00:00,  3.45it/s]"
     ]
    },
    {
     "name": "stdout",
     "output_type": "stream",
     "text": [
      "tensor([11, 11, 42, 11, 11, 11, 11, 11, 42, 20, 59, 12, 52, 18,  3, 11, 11, 11,\n",
      "        11, 11, 11,  0, 60, 56, 11, 11, 11, 11, 11, 11, 11,  3, 11, 11, 11, 11,\n",
      "         3, 11, 11, 11, 11, 37, 11, 11, 67, 56, 18, 11, 11, 11, 11, 11, 11, 11,\n",
      "        56, 11, 11, 11, 11, 11, 11, 11, 60, 56, 11, 49, 11, 11, 52, 11],\n",
      "       device='cuda:1')\n"
     ]
    },
    {
     "name": "stderr",
     "output_type": "stream",
     "text": [
      "\r",
      "100%|██████████| 4/4 [00:01<00:00,  3.45it/s]"
     ]
    },
    {
     "name": "stdout",
     "output_type": "stream",
     "text": [
      "tensor([67, 24, 50, 56, 40, 67, 67, 40, 56, 50, 67, 67, 15, 67, 15, 65, 15, 32,\n",
      "        67, 17, 67, 24,  3, 15, 56, 24, 17, 23, 65, 67, 24, 50, 50, 24, 67, 31,\n",
      "        17, 17, 67, 17, 67, 24, 40, 67, 67, 52, 67, 65, 24, 17, 40, 17, 31, 17,\n",
      "        15, 15, 64, 17, 65, 15, 15, 40, 67, 67, 67, 56, 67, 24, 40, 67],\n",
      "       device='cuda:1')\n"
     ]
    },
    {
     "name": "stderr",
     "output_type": "stream",
     "text": [
      "\n",
      " 25%|██▌       | 1/4 [00:00<00:00,  3.46it/s]"
     ]
    },
    {
     "name": "stdout",
     "output_type": "stream",
     "text": [
      "tensor([42, 16, 16, 31, 42, 42, 44, 58, 31, 16, 42, 42, 42, 42, 42, 16, 44, 31,\n",
      "         5, 42, 16, 42, 42, 31, 42, 40, 38, 42, 34, 42, 16, 42, 26, 44, 16, 16,\n",
      "        42,  5, 26, 42, 42, 40, 58, 42,  6, 42, 42, 44, 44,  6, 34, 26, 51, 42,\n",
      "        42, 16, 16, 44, 42, 42, 16, 44, 44, 26, 42, 26, 42, 16, 42, 16],\n",
      "       device='cuda:1')\n"
     ]
    },
    {
     "name": "stderr",
     "output_type": "stream",
     "text": [
      "\r",
      " 50%|█████     | 2/4 [00:00<00:00,  3.45it/s]"
     ]
    },
    {
     "name": "stdout",
     "output_type": "stream",
     "text": [
      "tensor([45, 45,  5, 45, 36, 36, 45, 18, 21, 21, 52, 53,  5, 54, 60,  5,  5,  5,\n",
      "        25,  5, 36, 68, 18,  5, 45,  5, 36,  5, 29, 45, 45,  5, 43,  5,  5, 18,\n",
      "        21, 21,  2, 68, 53, 19, 45, 18, 45, 30, 53, 53, 36, 45, 18,  5,  5, 68,\n",
      "        45, 18, 30,  5, 61, 21, 45, 45, 68, 36,  2, 36, 46, 21,  5, 53],\n",
      "       device='cuda:1')\n"
     ]
    },
    {
     "name": "stderr",
     "output_type": "stream",
     "text": [
      "\r",
      " 75%|███████▌  | 3/4 [00:00<00:00,  3.44it/s]"
     ]
    },
    {
     "name": "stdout",
     "output_type": "stream",
     "text": [
      "tensor([11, 11, 42, 11, 11, 11, 11, 11, 42, 20, 59, 12, 52, 18,  3, 11, 11, 11,\n",
      "        11, 11, 11,  0, 60, 56, 11, 11, 11, 11, 11, 11, 11,  3, 11, 11, 11, 11,\n",
      "         3, 11, 11, 11, 11, 37, 11, 11, 67, 56, 18, 11, 11, 11, 11, 11, 11, 11,\n",
      "        56, 11, 11, 11, 11, 11, 11, 11, 60, 56, 11, 49, 11, 11, 52, 11],\n",
      "       device='cuda:1')\n"
     ]
    },
    {
     "name": "stderr",
     "output_type": "stream",
     "text": [
      "\r",
      "100%|██████████| 4/4 [00:01<00:00,  3.44it/s]"
     ]
    },
    {
     "name": "stdout",
     "output_type": "stream",
     "text": [
      "tensor([67, 24, 50, 56, 40, 67, 67, 40, 56, 50, 67, 67, 15, 67, 15, 65, 15, 32,\n",
      "        67, 17, 67, 24,  3, 15, 56, 24, 17, 23, 65, 67, 24, 50, 50, 24, 67, 31,\n",
      "        17, 17, 67, 17, 67, 24, 40, 67, 67, 52, 67, 65, 24, 17, 40, 17, 31, 17,\n",
      "        15, 15, 64, 17, 65, 15, 15, 40, 67, 67, 67, 56, 67, 24, 40, 67],\n",
      "       device='cuda:1')\n"
     ]
    },
    {
     "name": "stderr",
     "output_type": "stream",
     "text": [
      "\n",
      " 25%|██▌       | 1/4 [00:00<00:00,  3.48it/s]"
     ]
    },
    {
     "name": "stdout",
     "output_type": "stream",
     "text": [
      "tensor([42, 16, 16, 31, 42, 42, 44, 58, 31, 16, 42, 42, 42, 42, 42, 16, 44, 31,\n",
      "         5, 42, 16, 42, 42, 31, 42, 40, 38, 42, 34, 42, 16, 42, 26, 44, 16, 16,\n",
      "        42,  5, 26, 42, 42, 40, 58, 42,  6, 42, 42, 44, 44,  6, 34, 26, 51, 42,\n",
      "        42, 16, 16, 44, 42, 42, 16, 44, 44, 26, 42, 26, 42, 16, 42, 16],\n",
      "       device='cuda:1')\n",
      "tensor([45, 45,  5, 45, 36, 36, 45, 18, 21, 21, 52, 53,  5, 54, 60,  5,  5,  5,\n",
      "        25,  5, 36, 68, 18,  5, 45,  5, 36,  5, 29, 45, 45,  5, 43,  5,  5, 18,\n",
      "        21, 21,  2, 68, 53, 19, 45, 18, 45, 30, 53, 53, 36, 45, 18,  5,  5, 68,\n",
      "        45, 18, 30,  5, 61, 21, 45, 45, 68, 36,  2, 36, 46, 21,  5, 53],\n",
      "       device='cuda:1')\n"
     ]
    },
    {
     "name": "stderr",
     "output_type": "stream",
     "text": [
      " 75%|███████▌  | 3/4 [00:00<00:00,  3.45it/s]"
     ]
    },
    {
     "name": "stdout",
     "output_type": "stream",
     "text": [
      "tensor([11, 11, 42, 11, 11, 11, 11, 11, 42, 20, 59, 12, 52, 18,  3, 11, 11, 11,\n",
      "        11, 11, 11,  0, 60, 56, 11, 11, 11, 11, 11, 11, 11,  3, 11, 11, 11, 11,\n",
      "         3, 11, 11, 11, 11, 37, 11, 11, 67, 56, 18, 11, 11, 11, 11, 11, 11, 11,\n",
      "        56, 11, 11, 11, 11, 11, 11, 11, 60, 56, 11, 49, 11, 11, 52, 11],\n",
      "       device='cuda:1')\n"
     ]
    },
    {
     "name": "stderr",
     "output_type": "stream",
     "text": [
      "\r",
      "100%|██████████| 4/4 [00:01<00:00,  3.45it/s]"
     ]
    },
    {
     "name": "stdout",
     "output_type": "stream",
     "text": [
      "tensor([67, 24, 50, 56, 40, 67, 67, 40, 56, 50, 67, 67, 15, 67, 15, 65, 15, 32,\n",
      "        67, 17, 67, 24,  3, 15, 56, 24, 17, 23, 65, 67, 24, 50, 50, 24, 67, 31,\n",
      "        17, 17, 67, 17, 67, 24, 40, 67, 67, 52, 67, 65, 24, 17, 40, 17, 31, 17,\n",
      "        15, 15, 64, 17, 65, 15, 15, 40, 67, 67, 67, 56, 67, 24, 40, 67],\n",
      "       device='cuda:1')\n"
     ]
    },
    {
     "name": "stderr",
     "output_type": "stream",
     "text": [
      "\n",
      " 25%|██▌       | 1/4 [00:00<00:00,  3.46it/s]"
     ]
    },
    {
     "name": "stdout",
     "output_type": "stream",
     "text": [
      "tensor([42, 16, 16, 31, 42, 42, 44, 58, 31, 16, 42, 42, 42, 42, 42, 16, 44, 31,\n",
      "         5, 42, 16, 42, 42, 31, 42, 40, 38, 42, 34, 42, 16, 42, 26, 44, 16, 16,\n",
      "        42,  5, 26, 42, 42, 40, 58, 42,  6, 42, 42, 44, 44,  6, 34, 26, 51, 42,\n",
      "        42, 16, 16, 44, 42, 42, 16, 44, 44, 26, 42, 26, 42, 16, 42, 16],\n",
      "       device='cuda:1')\n"
     ]
    },
    {
     "name": "stderr",
     "output_type": "stream",
     "text": [
      "\r",
      " 50%|█████     | 2/4 [00:00<00:00,  3.45it/s]"
     ]
    },
    {
     "name": "stdout",
     "output_type": "stream",
     "text": [
      "tensor([45, 45,  5, 45, 36, 36, 45, 18, 21, 21, 52, 53,  5, 54, 60,  5,  5,  5,\n",
      "        25,  5, 36, 68, 18,  5, 45,  5, 36,  5, 29, 45, 45,  5, 43,  5,  5, 18,\n",
      "        21, 21,  2, 68, 53, 19, 45, 18, 45, 30, 53, 53, 36, 45, 18,  5,  5, 68,\n",
      "        45, 18, 30,  5, 61, 21, 45, 45, 68, 36,  2, 36, 46, 21,  5, 53],\n",
      "       device='cuda:1')\n"
     ]
    },
    {
     "name": "stderr",
     "output_type": "stream",
     "text": [
      "\r",
      " 75%|███████▌  | 3/4 [00:00<00:00,  3.44it/s]"
     ]
    },
    {
     "name": "stdout",
     "output_type": "stream",
     "text": [
      "tensor([11, 11, 42, 11, 11, 11, 11, 11, 42, 20, 59, 12, 52, 18,  3, 11, 11, 11,\n",
      "        11, 11, 11,  0, 60, 56, 11, 11, 11, 11, 11, 11, 11,  3, 11, 11, 11, 11,\n",
      "         3, 11, 11, 11, 11, 37, 11, 11, 67, 56, 18, 11, 11, 11, 11, 11, 11, 11,\n",
      "        56, 11, 11, 11, 11, 11, 11, 11, 60, 56, 11, 49, 11, 11, 52, 11],\n",
      "       device='cuda:1')\n"
     ]
    },
    {
     "name": "stderr",
     "output_type": "stream",
     "text": [
      "\r",
      "100%|██████████| 4/4 [00:01<00:00,  3.44it/s]"
     ]
    },
    {
     "name": "stdout",
     "output_type": "stream",
     "text": [
      "tensor([67, 24, 50, 56, 40, 67, 67, 40, 56, 50, 67, 67, 15, 67, 15, 65, 15, 32,\n",
      "        67, 17, 67, 24,  3, 15, 56, 24, 17, 23, 65, 67, 24, 50, 50, 24, 67, 31,\n",
      "        17, 17, 67, 17, 67, 24, 40, 67, 67, 35, 67, 65, 24, 17, 40, 17, 31, 17,\n",
      "        15, 15, 64, 17, 65, 15, 15, 40, 67, 67, 67, 56, 67, 24, 40, 67],\n",
      "       device='cuda:1')\n"
     ]
    },
    {
     "name": "stderr",
     "output_type": "stream",
     "text": [
      "\n",
      " 25%|██▌       | 1/4 [00:00<00:00,  3.47it/s]"
     ]
    },
    {
     "name": "stdout",
     "output_type": "stream",
     "text": [
      "tensor([42, 16, 16, 31, 42, 42, 44, 58, 31, 16, 42, 42, 42, 42, 42, 16, 44, 31,\n",
      "         5, 42, 16, 42, 42, 31, 42, 40, 38, 42, 34, 42, 16, 42, 26, 44, 16, 16,\n",
      "        42,  5, 26, 42, 42, 40, 58, 42,  6, 42, 42, 44, 44,  6, 34, 26, 51, 42,\n",
      "        42, 16, 16, 44, 42, 42, 16, 44, 44, 26, 42, 26, 42, 16, 42, 16],\n",
      "       device='cuda:1')\n"
     ]
    },
    {
     "name": "stderr",
     "output_type": "stream",
     "text": [
      "\r",
      " 50%|█████     | 2/4 [00:00<00:00,  3.45it/s]"
     ]
    },
    {
     "name": "stdout",
     "output_type": "stream",
     "text": [
      "tensor([45, 45,  5, 45, 36, 36, 45, 18, 21, 21, 52, 53,  5, 54, 60,  5,  5,  5,\n",
      "        25,  5, 36, 68, 18,  5, 45,  5, 36,  5, 29, 45, 45,  5, 43,  5,  5, 18,\n",
      "        21, 21,  2, 68, 53, 19, 45, 18, 45, 30, 53, 53, 36, 45, 18,  5,  5, 68,\n",
      "        45, 18, 30,  5, 61, 21, 45, 45, 68, 36,  2, 36, 46, 21,  5, 53],\n",
      "       device='cuda:1')\n",
      "tensor([11, 11, 42, 11, 11, 11, 11, 11, 42, 20, 59, 12, 52, 18,  3, 11, 11, 11,\n",
      "        11, 11, 11,  0, 60, 56, 11, 11, 11, 11, 11, 11, 11,  3, 11, 11, 11, 11,\n",
      "         3, 11, 11, 11, 11, 37, 11, 11, 67, 56, 18, 11, 11, 11, 11, 11, 11, 11,\n",
      "        56, 11, 11, 11, 11, 11, 11, 11, 60, 56, 11, 49, 11, 11, 52, 11],\n",
      "       device='cuda:1')\n"
     ]
    },
    {
     "name": "stderr",
     "output_type": "stream",
     "text": [
      "\n"
     ]
    },
    {
     "ename": "KeyboardInterrupt",
     "evalue": "",
     "output_type": "error",
     "traceback": [
      "\u001b[0;31m---------------------------------------------------------------------------\u001b[0m",
      "\u001b[0;31mKeyboardInterrupt\u001b[0m                         Traceback (most recent call last)",
      "\u001b[0;32m<ipython-input-11-a67f8f138121>\u001b[0m in \u001b[0;36m<module>\u001b[0;34m\u001b[0m\n\u001b[1;32m     54\u001b[0m \u001b[0;34m\u001b[0m\u001b[0m\n\u001b[1;32m     55\u001b[0m         \u001b[0;31m# Tensorboard\u001b[0m\u001b[0;34m\u001b[0m\u001b[0;34m\u001b[0m\u001b[0m\n\u001b[0;32m---> 56\u001b[0;31m         \u001b[0mTBoard\u001b[0m\u001b[0;34m.\u001b[0m\u001b[0madd_scalar\u001b[0m\u001b[0;34m(\u001b[0m\u001b[0;34m'Train/Loss'\u001b[0m\u001b[0;34m,\u001b[0m \u001b[0mloss\u001b[0m\u001b[0;34m.\u001b[0m\u001b[0mitem\u001b[0m\u001b[0;34m(\u001b[0m\u001b[0;34m)\u001b[0m\u001b[0;34m,\u001b[0m \u001b[0mstep_num\u001b[0m\u001b[0;34m)\u001b[0m\u001b[0;34m\u001b[0m\u001b[0m\n\u001b[0m\u001b[1;32m     57\u001b[0m         \u001b[0mTBoard\u001b[0m\u001b[0;34m.\u001b[0m\u001b[0madd_scalar\u001b[0m\u001b[0;34m(\u001b[0m\u001b[0;34m'Train/lr'\u001b[0m\u001b[0;34m,\u001b[0m \u001b[0mlr_scheduler\u001b[0m\u001b[0;34m.\u001b[0m\u001b[0mget_lr\u001b[0m\u001b[0;34m(\u001b[0m\u001b[0;34m)\u001b[0m\u001b[0;34m[\u001b[0m\u001b[0;36m0\u001b[0m\u001b[0;34m]\u001b[0m\u001b[0;34m,\u001b[0m \u001b[0mstep_num\u001b[0m\u001b[0;34m)\u001b[0m\u001b[0;34m\u001b[0m\u001b[0m\n\u001b[1;32m     58\u001b[0m         \u001b[0mTBoard\u001b[0m\u001b[0;34m.\u001b[0m\u001b[0madd_scalar\u001b[0m\u001b[0;34m(\u001b[0m\u001b[0;34m'Train/tau'\u001b[0m\u001b[0;34m,\u001b[0m \u001b[0mtau_scheduler\u001b[0m\u001b[0;34m.\u001b[0m\u001b[0mget_tau\u001b[0m\u001b[0;34m(\u001b[0m\u001b[0;34m)\u001b[0m\u001b[0;34m,\u001b[0m \u001b[0mstep_num\u001b[0m\u001b[0;34m)\u001b[0m\u001b[0;34m\u001b[0m\u001b[0m\n",
      "\u001b[0;31mKeyboardInterrupt\u001b[0m: "
     ]
    }
   ],
   "source": [
    "B = 70 # here\n",
    "SIZE_F = 300, 3, 224, 224\n",
    "SIZE_V = 300, 1, 512, 298\n",
    "frames_dataset = torch.rand(SIZE_F) + torch.arange(0, SIZE_F[0] * 10, step = 10).type(torch.FloatTensor).view(SIZE_F[0], 1, 1, 1)\n",
    "specs_dataset = torch.rand(SIZE_V) + torch.arange(0, SIZE_V[0] * 10, step = 10).type(torch.FloatTensor).view(SIZE_V[0], 1, 1, 1) + 2\n",
    "print(frames_dataset[10, :, :, :].mean())\n",
    "print(specs_dataset[10, :, :, :].mean())\n",
    "shuffle_idx = torch.randperm(SIZE_F[0])\n",
    "frames_dataset = frames_dataset[shuffle_idx]\n",
    "specs_dataset = specs_dataset[shuffle_idx]\n",
    "print(frames_dataset[10, :, :, :].mean())\n",
    "print(specs_dataset[10, :, :, :].mean())\n",
    "\n",
    "net = LearnablePinsNet()\n",
    "\n",
    "criterion = ContrastiveLoss()\n",
    "optimizer = optim.SGD(net.parameters(), lr=1e-2, momentum=0.9, weight_decay=5e-4) # here\n",
    "lr_scheduler = optim.lr_scheduler.StepLR(optimizer, step_size=1, gamma=10 ** (-6/49))\n",
    "tau_scheduler = TauScheduler(lowest=0.3, highest=0.8)\n",
    "\n",
    "device = \"cuda:1\"\n",
    "torch.cuda.set_device(DEVICES[0])\n",
    "net.to(device);\n",
    "\n",
    "TBoard = tensorboardX.SummaryWriter(log_dir=LOG_PATH)\n",
    "\n",
    "for epoch_num in range(500):\n",
    "    net.train()\n",
    "#     lr_scheduler.step() # here\n",
    "#     tau_scheduler.step() # here\n",
    "\n",
    "    for iter_num in tqdm(range(len(frames_dataset) // B)):\n",
    "        i = iter_num\n",
    "        frames, specs = frames_dataset[i*B:i*B+B], specs_dataset[i*B:i*B+B]\n",
    "\n",
    "        step_num = epoch_num * (len(frames_dataset) // B) + iter_num\n",
    "        # transfer inputs to a device \n",
    "        frames, specs = frames.cuda(async=True), specs.cuda(async=True) # here\n",
    "\n",
    "        # zero the parameter gradients\n",
    "        optimizer.zero_grad()\n",
    "\n",
    "        # forward + backward + optimize\n",
    "        positive_pairs, negative_pairs = net(frames, specs, tau=tau_scheduler.get_tau())\n",
    "#         positive_pairs = net(frames, specs, tau=tau_scheduler.get_tau()) # here\n",
    "#         negative_pairs = net(frames, specs, tau=tau_scheduler.get_tau()) # here\n",
    "\n",
    "        loss = criterion(positive_pairs, negative_pairs, margin=MARGIN)\n",
    "#         loss = criterion(positive_pairs) # here\n",
    "#         loss = criterion(negative_pairs, margin=MARGIN) # here\n",
    "\n",
    "        loss.backward()\n",
    "        optimizer.step()\n",
    "\n",
    "        # Tensorboard\n",
    "        TBoard.add_scalar('Train/Loss', loss.item(), step_num)\n",
    "        TBoard.add_scalar('Train/lr', lr_scheduler.get_lr()[0], step_num)\n",
    "        TBoard.add_scalar('Train/tau', tau_scheduler.get_tau(), step_num)\n",
    "        TBoard.add_histogram('faces1', positive_pairs[0], step_num)\n",
    "        TBoard.add_histogram('voices1', positive_pairs[1], step_num)"
   ]
  },
  {
   "cell_type": "code",
   "execution_count": null,
   "metadata": {},
   "outputs": [],
   "source": [
    "# TBoard = tensorboardX.SummaryWriter(log_dir=LOG_PATH)\n",
    "\n",
    "# transform = Compose([\n",
    "#     Normalize(),\n",
    "#     RandomHorizontalFlip(),\n",
    "#     ColorJittering(),\n",
    "#     ToTensor(),\n",
    "# ])\n",
    "\n",
    "# train = AudioFrameDataset(DATA_PATH, SPLIT_PATH, transform=transform)\n",
    "# # train = AudioFrameDataset(DATA_PATH, SPLIT_PATH)\n",
    "# trainloader = torch.utils.data.DataLoader(train, batch_size=B, num_workers=NUM_WORKERS, shuffle=True)\n",
    "\n",
    "# net = LearnablePinsNet()\n",
    "\n",
    "# criterion = ContrastiveLoss()\n",
    "# optimizer = optim.SGD(net.parameters(), lr=1e-2, momentum=0.9, weight_decay=5e-4) # here\n",
    "# lr_scheduler = optim.lr_scheduler.StepLR(optimizer, step_size=1, gamma=10 ** (-6/49))\n",
    "# tau_scheduler = TauScheduler(lowest=0.3, highest=0.8)\n",
    "# eval_results = {}\n",
    "\n",
    "# device = \"cuda:1\"\n",
    "# torch.cuda.set_device(DEVICES[0])\n",
    "# net.to(device); # here\n",
    "# # net = nn.DataParallel(net, DEVICES) # here\n",
    "\n",
    "# try:\n",
    "\n",
    "#     for epoch_num in range(50):\n",
    "#         net.train()\n",
    "# #         lr_scheduler.step()\n",
    "# #         tau_scheduler.step()\n",
    "\n",
    "#         for iter_num, (frames, specs) in tqdm(enumerate(trainloader)):\n",
    "\n",
    "# #             frames, specs = frames.type(torch.float32).permute(0, 3, 1, 2), specs.type(torch.float32).reshape(-1, 1, 512, 298) #here\n",
    "            \n",
    "# #             # here\n",
    "# #             plt.figure()\n",
    "# #             print(frames.numpy().shape)\n",
    "# #             plt.imshow(frames.permute(0, 2, 3, 1)[0]/255)\n",
    "# #             plt.show()\n",
    "            \n",
    "# #             plt.figure()\n",
    "# #             print(frames.numpy().shape)\n",
    "# #             plt.imshow(frames.permute(0, 2, 3, 1)[42]/255)\n",
    "# #             plt.show()\n",
    "\n",
    "# #             frames, specs = torch.rand_like(frames), torch.rand_like(specs)\n",
    "            \n",
    "#             step_num = epoch_num * len(trainloader) + iter_num\n",
    "#             # transfer inputs to a device \n",
    "#             frames, specs = frames.cuda(async=True), specs.cuda(async=True) # here\n",
    "\n",
    "#             # zero the parameter gradients\n",
    "#             optimizer.zero_grad()\n",
    "\n",
    "#             # forward + backward + optimize\n",
    "#             positive_pairs, negative_pairs = net(frames, specs, tau=tau_scheduler.get_tau())\n",
    "\n",
    "#             loss = criterion(positive_pairs, negative_pairs, margin=MARGIN)\n",
    "\n",
    "#             loss.backward()\n",
    "#             optimizer.step()\n",
    "\n",
    "#             # Tensorboard\n",
    "#             step_num = epoch_num * len(trainloader) + iter_num\n",
    "#             TBoard.add_scalar('Train/Loss', loss.item(), step_num)\n",
    "#             TBoard.add_scalar('Train/lr', lr_scheduler.get_lr()[0], step_num)\n",
    "#             TBoard.add_scalar('Train/tau', tau_scheduler.get_tau(), step_num)\n",
    "        \n",
    "# except KeyboardInterrupt:\n",
    "#     TBoard.close()"
   ]
  }
 ],
 "metadata": {
  "kernelspec": {
   "display_name": "Python 3",
   "language": "python",
   "name": "python3"
  },
  "language_info": {
   "codemirror_mode": {
    "name": "ipython",
    "version": 3
   },
   "file_extension": ".py",
   "mimetype": "text/x-python",
   "name": "python",
   "nbconvert_exporter": "python",
   "pygments_lexer": "ipython3",
   "version": "3.5.2"
  }
 },
 "nbformat": 4,
 "nbformat_minor": 2
}

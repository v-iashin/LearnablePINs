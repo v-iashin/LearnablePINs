{
 "cells": [
  {
   "cell_type": "code",
   "execution_count": 2,
   "metadata": {},
   "outputs": [],
   "source": [
    "import pandas as pd\n",
    "from tqdm import tqdm\n",
    "import os\n",
    "import shutil"
   ]
  },
  {
   "cell_type": "markdown",
   "metadata": {},
   "source": [
    "Remove `1.6/` folder from `unzippedFaces`"
   ]
  },
  {
   "cell_type": "code",
   "execution_count": null,
   "metadata": {},
   "outputs": [],
   "source": [
    "# basedir = '/media/storage8tb/data/voxceleb1/unzippedFaces/'\n",
    "\n",
    "# list_of_dirs = os.listdir(basedir)\n",
    "\n",
    "# for folder in tqdm(list_of_dirs):\n",
    "#     root = basedir + folder\n",
    "    \n",
    "#     for folder2 in os.listdir(root + '/1.6/'):\n",
    "#         shutil.move(root + '/1.6/' + folder2, os.path.join(root, folder2))\n",
    "        \n",
    "#     os.rmdir(root + '/1.6/')"
   ]
  },
  {
   "cell_type": "markdown",
   "metadata": {},
   "source": [
    "Rename folders"
   ]
  },
  {
   "cell_type": "code",
   "execution_count": 3,
   "metadata": {},
   "outputs": [
    {
     "data": {
      "text/html": [
       "<div>\n",
       "<style scoped>\n",
       "    .dataframe tbody tr th:only-of-type {\n",
       "        vertical-align: middle;\n",
       "    }\n",
       "\n",
       "    .dataframe tbody tr th {\n",
       "        vertical-align: top;\n",
       "    }\n",
       "\n",
       "    .dataframe thead th {\n",
       "        text-align: right;\n",
       "    }\n",
       "</style>\n",
       "<table border=\"1\" class=\"dataframe\">\n",
       "  <thead>\n",
       "    <tr style=\"text-align: right;\">\n",
       "      <th></th>\n",
       "      <th>VoxCeleb1 ID</th>\n",
       "      <th>VGGFace1 ID</th>\n",
       "      <th>Gender</th>\n",
       "      <th>Nationality</th>\n",
       "      <th>Set</th>\n",
       "    </tr>\n",
       "  </thead>\n",
       "  <tbody>\n",
       "    <tr>\n",
       "      <th>0</th>\n",
       "      <td>id10001</td>\n",
       "      <td>A.J._Buckley</td>\n",
       "      <td>m</td>\n",
       "      <td>Ireland</td>\n",
       "      <td>dev</td>\n",
       "    </tr>\n",
       "    <tr>\n",
       "      <th>1</th>\n",
       "      <td>id10002</td>\n",
       "      <td>A.R._Rahman</td>\n",
       "      <td>m</td>\n",
       "      <td>India</td>\n",
       "      <td>dev</td>\n",
       "    </tr>\n",
       "    <tr>\n",
       "      <th>2</th>\n",
       "      <td>id10003</td>\n",
       "      <td>Aamir_Khan</td>\n",
       "      <td>m</td>\n",
       "      <td>India</td>\n",
       "      <td>dev</td>\n",
       "    </tr>\n",
       "    <tr>\n",
       "      <th>3</th>\n",
       "      <td>id10004</td>\n",
       "      <td>Aaron_Tveit</td>\n",
       "      <td>m</td>\n",
       "      <td>USA</td>\n",
       "      <td>dev</td>\n",
       "    </tr>\n",
       "    <tr>\n",
       "      <th>4</th>\n",
       "      <td>id10005</td>\n",
       "      <td>Aaron_Yoo</td>\n",
       "      <td>m</td>\n",
       "      <td>USA</td>\n",
       "      <td>dev</td>\n",
       "    </tr>\n",
       "  </tbody>\n",
       "</table>\n",
       "</div>"
      ],
      "text/plain": [
       "  VoxCeleb1 ID   VGGFace1 ID Gender Nationality  Set\n",
       "0      id10001  A.J._Buckley      m     Ireland  dev\n",
       "1      id10002   A.R._Rahman      m       India  dev\n",
       "2      id10003    Aamir_Khan      m       India  dev\n",
       "3      id10004   Aaron_Tveit      m         USA  dev\n",
       "4      id10005     Aaron_Yoo      m         USA  dev"
      ]
     },
     "execution_count": 3,
     "metadata": {},
     "output_type": "execute_result"
    }
   ],
   "source": [
    "meta = pd.read_csv('/media/storage8tb/data/voxceleb1/metadata/vox1_meta.csv', sep='\\t')\n",
    "meta.head()"
   ]
  },
  {
   "cell_type": "markdown",
   "metadata": {},
   "source": [
    "Name2id"
   ]
  },
  {
   "cell_type": "code",
   "execution_count": 10,
   "metadata": {},
   "outputs": [],
   "source": [
    "# name2id = meta.set_index('VGGFace1 ID')['VoxCeleb1 ID'].to_dict()\n",
    "\n",
    "# ### AUDIO ###\n",
    "# basedir = '/media/storage8tb/data/voxceleb1/audio/'\n",
    "\n",
    "# list_of_dirs = os.listdir(basedir)\n",
    "\n",
    "# for folder in tqdm(list_of_dirs):\n",
    "#     root = basedir + folder\n",
    "#     prev_name = folder\n",
    "#     new_name = name2id[folder]\n",
    "#     os.rename(basedir + prev_name, basedir + new_name)\n",
    "    \n",
    "# ### VIDEO ###\n",
    "# basedir = '/media/storage8tb/data/voxceleb1/video/'\n",
    "\n",
    "# list_of_dirs = os.listdir(basedir)\n",
    "\n",
    "# for folder in tqdm(list_of_dirs):\n",
    "#     root = basedir + folder\n",
    "#     prev_name = folder\n",
    "#     new_name = name2id[folder]\n",
    "#     os.rename(basedir + prev_name, basedir + new_name)"
   ]
  },
  {
   "cell_type": "markdown",
   "metadata": {},
   "source": [
    "id2name"
   ]
  },
  {
   "cell_type": "code",
   "execution_count": 12,
   "metadata": {},
   "outputs": [],
   "source": [
    "# id2name = meta.set_index('VoxCeleb1 ID')['VGGFace1 ID'].to_dict()\n",
    "\n",
    "# ### AUDIO ###\n",
    "# basedir = '/media/storage8tb/data/voxceleb1/audio/'\n",
    "\n",
    "# list_of_dirs = os.listdir(basedir)\n",
    "\n",
    "# for folder in tqdm(list_of_dirs):\n",
    "#     root = basedir + folder\n",
    "#     prev_name = folder\n",
    "#     new_name = id2name[folder]\n",
    "#     os.rename(basedir + prev_name, basedir + new_name)\n",
    "\n",
    "# ### VIDEO ###\n",
    "# basedir = '/media/storage8tb/data/voxceleb1/video/'\n",
    "\n",
    "# list_of_dirs = os.listdir(basedir)\n",
    "\n",
    "# for folder in tqdm(list_of_dirs):\n",
    "#     root = basedir + folder\n",
    "#     prev_name = folder\n",
    "#     new_name = id2name[folder]\n",
    "#     os.rename(basedir + prev_name, basedir + new_name)"
   ]
  },
  {
   "cell_type": "markdown",
   "metadata": {},
   "source": []
  }
 ],
 "metadata": {
  "kernelspec": {
   "display_name": "Python 3",
   "language": "python",
   "name": "python3"
  },
  "language_info": {
   "codemirror_mode": {
    "name": "ipython",
    "version": 3
   },
   "file_extension": ".py",
   "mimetype": "text/x-python",
   "name": "python",
   "nbconvert_exporter": "python",
   "pygments_lexer": "ipython3",
   "version": "3.5.2"
  }
 },
 "nbformat": 4,
 "nbformat_minor": 2
}

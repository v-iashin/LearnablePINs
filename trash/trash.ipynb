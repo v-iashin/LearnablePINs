{
 "cells": [
  {
   "cell_type": "code",
   "execution_count": 3,
   "metadata": {},
   "outputs": [],
   "source": [
    "import os\n",
    "import random\n",
    "\n",
    "import numpy as np\n",
    "import pandas as pd\n",
    "import scipy as sc\n",
    "from scipy.io import wavfile\n",
    "from scipy import signal\n",
    "import cv2\n",
    "\n",
    "import torch\n",
    "import torch.nn as nn\n",
    "import torch.optim as optim\n",
    "import torch.nn.functional as F\n",
    "from torch.utils.data import Dataset\n",
    "from torchvision.transforms import Compose\n",
    "\n",
    "import tensorboardX\n",
    "from tqdm import tqdm\n",
    "\n",
    "import matplotlib.pyplot as plt"
   ]
  },
  {
   "cell_type": "code",
   "execution_count": null,
   "metadata": {},
   "outputs": [],
   "source": []
  },
  {
   "cell_type": "code",
   "execution_count": null,
   "metadata": {},
   "outputs": [],
   "source": []
  },
  {
   "cell_type": "code",
   "execution_count": 4,
   "metadata": {},
   "outputs": [
    {
     "data": {
      "text/plain": [
       "tensor([1., 1., 1.])"
      ]
     },
     "execution_count": 4,
     "metadata": {},
     "output_type": "execute_result"
    }
   ],
   "source": [
    "torch.ones(3, requires_grad=False)"
   ]
  },
  {
   "cell_type": "code",
   "execution_count": 5,
   "metadata": {},
   "outputs": [
    {
     "ename": "NameError",
     "evalue": "name 'TauScheduler' is not defined",
     "output_type": "error",
     "traceback": [
      "\u001b[0;31m---------------------------------------------------------------------------\u001b[0m",
      "\u001b[0;31mNameError\u001b[0m                                 Traceback (most recent call last)",
      "\u001b[0;32m<ipython-input-5-53d8c8dc3ad8>\u001b[0m in \u001b[0;36m<module>\u001b[0;34m\u001b[0m\n\u001b[0;32m----> 1\u001b[0;31m \u001b[0mtau_scheduler\u001b[0m \u001b[0;34m=\u001b[0m \u001b[0mTauScheduler\u001b[0m\u001b[0;34m(\u001b[0m\u001b[0;36m0.3\u001b[0m\u001b[0;34m,\u001b[0m \u001b[0;36m0.8\u001b[0m\u001b[0;34m)\u001b[0m\u001b[0;34m\u001b[0m\u001b[0m\n\u001b[0m\u001b[1;32m      2\u001b[0m \u001b[0;32mfor\u001b[0m \u001b[0mi\u001b[0m \u001b[0;32min\u001b[0m \u001b[0mrange\u001b[0m\u001b[0;34m(\u001b[0m\u001b[0;36m50\u001b[0m\u001b[0;34m)\u001b[0m\u001b[0;34m:\u001b[0m\u001b[0;34m\u001b[0m\u001b[0m\n\u001b[1;32m      3\u001b[0m     \u001b[0mtau_scheduler\u001b[0m\u001b[0;34m.\u001b[0m\u001b[0mstep\u001b[0m\u001b[0;34m(\u001b[0m\u001b[0;34m)\u001b[0m\u001b[0;34m\u001b[0m\u001b[0m\n\u001b[1;32m      4\u001b[0m     \u001b[0mprint\u001b[0m\u001b[0;34m(\u001b[0m\u001b[0mi\u001b[0m\u001b[0;34m,\u001b[0m \u001b[0mtau_scheduler\u001b[0m\u001b[0;34m.\u001b[0m\u001b[0mget_tau\u001b[0m\u001b[0;34m(\u001b[0m\u001b[0;34m)\u001b[0m\u001b[0;34m)\u001b[0m\u001b[0;34m\u001b[0m\u001b[0m\n",
      "\u001b[0;31mNameError\u001b[0m: name 'TauScheduler' is not defined"
     ]
    }
   ],
   "source": [
    "tau_scheduler = TauScheduler(0.3, 0.8)\n",
    "for i in range(50):\n",
    "    tau_scheduler.step()\n",
    "    print(i, tau_scheduler.get_tau())"
   ]
  },
  {
   "cell_type": "code",
   "execution_count": 6,
   "metadata": {},
   "outputs": [
    {
     "ename": "FileNotFoundError",
     "evalue": "[Errno 2] No such file or directory: 'batch_size_file.txt'",
     "output_type": "error",
     "traceback": [
      "\u001b[0;31m---------------------------------------------------------------------------\u001b[0m",
      "\u001b[0;31mFileNotFoundError\u001b[0m                         Traceback (most recent call last)",
      "\u001b[0;32m<ipython-input-6-b104737ce575>\u001b[0m in \u001b[0;36m<module>\u001b[0;34m\u001b[0m\n\u001b[0;32m----> 1\u001b[0;31m \u001b[0mbatch_size_file\u001b[0m \u001b[0;34m=\u001b[0m \u001b[0mopen\u001b[0m\u001b[0;34m(\u001b[0m\u001b[0;34m'batch_size_file.txt'\u001b[0m\u001b[0;34m,\u001b[0m \u001b[0;34m'r'\u001b[0m\u001b[0;34m)\u001b[0m\u001b[0;34m\u001b[0m\u001b[0m\n\u001b[0m\u001b[1;32m      2\u001b[0m \u001b[0mbatch_size_multiplier\u001b[0m \u001b[0;34m=\u001b[0m \u001b[0mint\u001b[0m\u001b[0;34m(\u001b[0m\u001b[0mbatch_size_file\u001b[0m\u001b[0;34m.\u001b[0m\u001b[0mreadline\u001b[0m\u001b[0;34m(\u001b[0m\u001b[0;34m)\u001b[0m\u001b[0;34m)\u001b[0m\u001b[0;34m\u001b[0m\u001b[0m\n\u001b[1;32m      3\u001b[0m \u001b[0mbatch_size_file\u001b[0m\u001b[0;34m.\u001b[0m\u001b[0mclose\u001b[0m\u001b[0;34m(\u001b[0m\u001b[0;34m)\u001b[0m\u001b[0;34m\u001b[0m\u001b[0m\n\u001b[1;32m      4\u001b[0m \u001b[0;34m\u001b[0m\u001b[0m\n\u001b[1;32m      5\u001b[0m \u001b[0mbatch_size_file\u001b[0m \u001b[0;34m=\u001b[0m \u001b[0mopen\u001b[0m\u001b[0;34m(\u001b[0m\u001b[0;34m'batch_size_file.txt'\u001b[0m\u001b[0;34m,\u001b[0m \u001b[0;34m'w'\u001b[0m\u001b[0;34m)\u001b[0m\u001b[0;34m\u001b[0m\u001b[0m\n",
      "\u001b[0;31mFileNotFoundError\u001b[0m: [Errno 2] No such file or directory: 'batch_size_file.txt'"
     ]
    }
   ],
   "source": [
    "batch_size_file = open('batch_size_file.txt', 'r')\n",
    "batch_size_multiplier = int(batch_size_file.readline())\n",
    "batch_size_file.close()\n",
    "\n",
    "batch_size_file = open('batch_size_file.txt', 'w')\n",
    "batch_size_file.write('{}'.format(batch_size_multiplier + 1))\n",
    "batch_size_file.close()"
   ]
  },
  {
   "cell_type": "code",
   "execution_count": 7,
   "metadata": {},
   "outputs": [],
   "source": [
    "LOG_PATH = '/home/vladimir/storage8tb/logs/LearnablePINs5/'\n",
    "TXT_LOG_PATH = os.path.join(LOG_PATH, 'debug_log.txt')\n",
    "DATA_PATH = '/home/vladimir/storage8tb/data/voxceleb1/'\n",
    "USE_FILTERED = True\n",
    "\n",
    "if USE_FILTERED:\n",
    "    SPLIT_PATH = os.path.join(DATA_PATH, 'Splits/filtered_voice_set_labels.txt')\n",
    "\n",
    "else:\n",
    "    SPLIT_PATH = os.path.join(DATA_PATH, 'Splits/voice_set_labels.txt')\n",
    "\n",
    "MODEL_SNAPSHOT_PATH = os.path.join(LOG_PATH, 'model_snapshot.txt')\n",
    "PHASE = 1\n",
    "B = 160\n",
    "DEVICES = [0, 2]\n",
    "# https://discuss.pytorch.org/t/guidelines-for-assigning-num-workers-to-dataloader/813/5\n",
    "NUM_WORKERS = 4 * len(DEVICES)\n",
    "MARGIN = 0.6"
   ]
  },
  {
   "cell_type": "code",
   "execution_count": 8,
   "metadata": {},
   "outputs": [],
   "source": [
    "TEST_PATH = os.path.join(DATA_PATH, 'testpairs/testpairs')\n",
    "TEST_RANDOM_SH = os.path.join(TEST_PATH, 'veriflist_test_random_seenheard.txt')\n",
    "TEST_RANDOM_UU = os.path.join(TEST_PATH, 'veriflist_test_random_unseenunheard.txt')"
   ]
  },
  {
   "cell_type": "code",
   "execution_count": 9,
   "metadata": {},
   "outputs": [
    {
     "ename": "NameError",
     "evalue": "name 'TheModelClass' is not defined",
     "output_type": "error",
     "traceback": [
      "\u001b[0;31m---------------------------------------------------------------------------\u001b[0m",
      "\u001b[0;31mNameError\u001b[0m                                 Traceback (most recent call last)",
      "\u001b[0;32m<ipython-input-9-193205f17521>\u001b[0m in \u001b[0;36m<module>\u001b[0;34m\u001b[0m\n\u001b[0;32m----> 1\u001b[0;31m \u001b[0mthe_model\u001b[0m \u001b[0;34m=\u001b[0m \u001b[0mTheModelClass\u001b[0m\u001b[0;34m(\u001b[0m\u001b[0;34m*\u001b[0m\u001b[0margs\u001b[0m\u001b[0;34m,\u001b[0m \u001b[0;34m**\u001b[0m\u001b[0mkwargs\u001b[0m\u001b[0;34m)\u001b[0m\u001b[0;34m\u001b[0m\u001b[0m\n\u001b[0m\u001b[1;32m      2\u001b[0m \u001b[0mthe_model\u001b[0m\u001b[0;34m.\u001b[0m\u001b[0mload_state_dict\u001b[0m\u001b[0;34m(\u001b[0m\u001b[0mtorch\u001b[0m\u001b[0;34m.\u001b[0m\u001b[0mload\u001b[0m\u001b[0;34m(\u001b[0m\u001b[0mPATH\u001b[0m\u001b[0;34m)\u001b[0m\u001b[0;34m)\u001b[0m\u001b[0;34m\u001b[0m\u001b[0m\n",
      "\u001b[0;31mNameError\u001b[0m: name 'TheModelClass' is not defined"
     ]
    }
   ],
   "source": [
    "the_model = TheModelClass(*args, **kwargs)\n",
    "the_model.load_state_dict(torch.load(PATH))"
   ]
  },
  {
   "cell_type": "code",
   "execution_count": 12,
   "metadata": {},
   "outputs": [
    {
     "name": "stdout",
     "output_type": "stream",
     "text": [
      "(224, 224, 3)\n"
     ]
    },
    {
     "data": {
      "image/png": "[encoded data removed]",
      "text/plain": [
       "<Figure size 432x288 with 1 Axes>"
      ]
     },
     "metadata": {
      "needs_background": "light"
     },
     "output_type": "display_data"
    }
   ],
   "source": [
    "plt.figure()\n",
    "img = cv2.imread('/home/nvme/data/voxceleb1/video/Bellamy_Young/vZY1f9oeIbo/0001325.jpg')\n",
    "img = cv2.cvtColor(img, cv2.COLOR_BGR2RGB)\n",
    "img = cv2.resize(img, (224, 224), interpolation=cv2.INTER_CUBIC)\n",
    "plt.imshow(img)\n",
    "print(img.shape)\n",
    "plt.show()"
   ]
  },
  {
   "cell_type": "code",
   "execution_count": 6,
   "metadata": {},
   "outputs": [
    {
     "name": "stdout",
     "output_type": "stream",
     "text": [
      "[-0.2519051   1.86671076  0.29850936]\n",
      "[10.0, 10.0, 10.0]\n",
      "[-2.519051   18.6671076   2.98509363]\n"
     ]
    },
    {
     "data": {
      "image/png": "[encoded data removed]",
      "text/plain": [
       "<Figure size 432x288 with 1 Axes>"
      ]
     },
     "metadata": {
      "needs_background": "light"
     },
     "output_type": "display_data"
    }
   ],
   "source": [
    "B = [255/25.5, 255/25.5, 255/25.5]\n",
    "\n",
    "plt.figure()\n",
    "img = cv2.imread('/home/vladimir/storage8tb/data/voxceleb1/video/Abbie_Cornish/3RybHF5mX78/0002950.jpg')\n",
    "img = cv2.cvtColor(img, cv2.COLOR_BGR2RGB)\n",
    "img = cv2.resize(img, (224, 224), interpolation=cv2.INTER_CUBIC)\n",
    "# following http://www.vlfeat.org/matconvnet/matconvnet-manual.pdf (3.5 Section)\n",
    "w = np.random.normal(size=3)\n",
    "print(w)\n",
    "print(B)\n",
    "b = np.array(B) * w\n",
    "print(b)\n",
    "img = np.clip(img + b, 0, 255).astype(int)\n",
    "plt.imshow(img)\n",
    "plt.show()"
   ]
  },
  {
   "cell_type": "code",
   "execution_count": 3,
   "metadata": {},
   "outputs": [
    {
     "data": {
      "image/png": "[encoded data removed]",
      "text/plain": [
       "<Figure size 432x288 with 1 Axes>"
      ]
     },
     "metadata": {
      "needs_background": "light"
     },
     "output_type": "display_data"
    }
   ],
   "source": [
    "S = 0.5\n",
    "plt.figure()\n",
    "img = cv2.imread('/home/vladimir/storage8tb/data/voxceleb1/video/Abbie_Cornish/3RybHF5mX78/0002950.jpg')\n",
    "img = cv2.cvtColor(img, cv2.COLOR_BGR2RGB)\n",
    "img = cv2.resize(img, (224, 224), interpolation=cv2.INTER_CUBIC)\n",
    "sigma = np.random.uniform(1-S, 1+S)\n",
    "img = sigma * img + (1-sigma) * img.sum(axis=2, keepdims=True) /3\n",
    "img = np.clip(img, 0, 255)\n",
    "img = img.astype(np.int16)\n",
    "plt.imshow(img)\n",
    "plt.show()"
   ]
  },
  {
   "cell_type": "code",
   "execution_count": null,
   "metadata": {},
   "outputs": [],
   "source": []
  },
  {
   "cell_type": "code",
   "execution_count": 345,
   "metadata": {},
   "outputs": [
    {
     "data": {
      "text/plain": [
       "0.6957426850820062"
      ]
     },
     "execution_count": 345,
     "metadata": {},
     "output_type": "execute_result"
    }
   ],
   "source": [
    "S = 0.5\n",
    "np.random.uniform(1-S, 1+S)"
   ]
  },
  {
   "cell_type": "code",
   "execution_count": 67,
   "metadata": {},
   "outputs": [
    {
     "data": {
      "text/plain": [
       "array([ 1.98974082, -0.70353044,  0.03592509])"
      ]
     },
     "execution_count": 67,
     "metadata": {},
     "output_type": "execute_result"
    }
   ],
   "source": [
    "np.random.normal(size=3)"
   ]
  },
  {
   "cell_type": "code",
   "execution_count": 2,
   "metadata": {},
   "outputs": [],
   "source": [
    "out_f = open('log.txt', 'w')\n",
    "TBoard = tensorboardX.SummaryWriter(log_dir='/home/vladimir/storage8tb/logs/LearnablePINs2/')"
   ]
  },
  {
   "cell_type": "code",
   "execution_count": 3,
   "metadata": {},
   "outputs": [],
   "source": [
    "class AudioFrameDataset(Dataset):\n",
    "\n",
    "    def __init__(self, path_to_data, path_to_split, phase, transform=None, seed=14): \n",
    "        self.path_to_data = path_to_data\n",
    "        voice_set_labels = pd.read_table(path_to_split, sep=' ', names=['path', 'phase'])\n",
    "        voice_set_labels.replace({'_000': '/0', '.wav$': ''}, inplace=True, regex=True)\n",
    "        \n",
    "        if phase == 1:\n",
    "            mask = (voice_set_labels.phase == 1) | (voice_set_labels.phase == 3)\n",
    "            dataset = voice_set_labels[mask].reset_index(drop=True)\n",
    "\n",
    "        else:\n",
    "            mask = voice_set_labels['phase'] == phase\n",
    "            dataset = voice_set_labels[mask].reset_index(drop=True)\n",
    "            \n",
    "        self.dataset = dataset['path']\n",
    "        self.transform = transform\n",
    "        self.seed = np.random.RandomState(seed)\n",
    "\n",
    "    def __len__(self):\n",
    "        return len(self.dataset)\n",
    "\n",
    "    def __getitem__(self, idx):\n",
    "        ### VISUAL INPUT\n",
    "        video_path = os.path.join(self.path_to_data, 'video', self.dataset[idx] + '.txt')\n",
    "        frames = pd.read_table(video_path, skiprows=6, usecols=['FRAME '])        \n",
    "        earliest = frames['FRAME '].iloc[0]\n",
    "        latest = frames['FRAME '].iloc[-1]\n",
    "        frame_list = np.arange(earliest, latest+1)\n",
    "        mask = np.where(frame_list % 25 == 0)\n",
    "        # only 20 per each face-track (see the asterics on the project page)\n",
    "        # frames_sec = frame_list[mask]\n",
    "        frames_sec = frame_list[mask][:20]\n",
    "        selected_frame = self.seed.choice(frames_sec)\n",
    "        selected_frame_filename = '{0:07d}.jpg'.format(selected_frame)\n",
    "        selected_frame_path = os.path.join(self.path_to_data, 'video', \n",
    "                                           self.dataset[idx][:-5] + selected_frame_filename)\n",
    "        out_f.write(selected_frame_path + '\\n')\n",
    "        frame = cv2.cvtColor(cv2.imread(selected_frame_path), cv2.COLOR_BGR2RGB)\n",
    "        frame = cv2.resize(frame, (224, 224), interpolation=cv2.INTER_CUBIC)\n",
    "        \n",
    "        ### AUDIO INPUT\n",
    "        segment_len = 3\n",
    "        # not 1024 as reported in the referenced paper [35] \n",
    "        # because it gives 513xN but not 512xN\n",
    "        FFT_len = 1022\n",
    "        window = 'hamming'\n",
    "        audio_path = os.path.join(self.path_to_data, 'audio', self.dataset[idx] + '.wav')\n",
    "        out_f.write(audio_path + '\\n')\n",
    "        sample_rate, samples = wavfile.read(audio_path)\n",
    "        window_width = int(sample_rate * 0.025)\n",
    "        overlap = int(sample_rate * (0.025 - 0.010))\n",
    "        start = len(samples) - segment_len * sample_rate\n",
    "        end = start + segment_len * sample_rate\n",
    "        audio_segment = samples[start:end]\n",
    "        # Note, it produces 512x298 and I don't know why there is some subtle\n",
    "        # differences. However, since the model averages second axis it doesn't\n",
    "        # matter from the computational POV.\n",
    "        _, _, spectrogram = signal.spectrogram(audio_segment, sample_rate, \n",
    "                                               window=window, nfft=FFT_len, \n",
    "                                               nperseg=window_width, noverlap=overlap, \n",
    "                                               mode='magnitude')\n",
    "#         log_spectogram = np.log(spectrogram)\n",
    "        log_spectogram = spectrogram.copy()\n",
    "        assert sample_rate == 16000\n",
    "        assert len(samples) >= sample_rate * segment_len\n",
    "        \n",
    "#         out_f.write(np.array_str(frame) + '\\n')\n",
    "#         out_f.write(np.array_str(log_spectogram) + '\\n')\n",
    "        \n",
    "        if self.transform:\n",
    "            frame = frame.astype(np.float32)\n",
    "            log_spectogram = log_spectogram.astype(np.float32)\n",
    "            frame, log_spectogram = self.transform((frame, log_spectogram))\n",
    "        \n",
    "        return (frame, log_spectogram)"
   ]
  },
  {
   "cell_type": "code",
   "execution_count": 4,
   "metadata": {},
   "outputs": [],
   "source": [
    "class Normalize(object):\n",
    "    \"\"\"Normalizes both face (mean) and voice spectogram (mean-varience)\"\"\"\n",
    "    \n",
    "    def __call__(self, sample):\n",
    "        frame, log_spectogram = sample\n",
    "\n",
    "        ## FACE (H, W, C)\n",
    "        # mean normalization for every image (not batch)\n",
    "        mu = frame.mean(axis=(0, 1))\n",
    "        frame = frame - mu\n",
    "        \n",
    "        ## VOICE (Freq, Time)\n",
    "        # mean-variance normalization for every spectogram (not batch)\n",
    "        mu = log_spectogram.mean(axis=1).reshape(512, 1)\n",
    "        sigma = log_spectogram.std(axis=1).reshape(512, 1)\n",
    "        log_spectogram = (log_spectogram - mu) / sigma\n",
    "\n",
    "        return frame, log_spectogram\n",
    "\n",
    "class RandomHorizontalFlip(object):\n",
    "    '''Horizontally flip the given Image ndarray randomly with a given probability.'''\n",
    "    \n",
    "    def __init__(self, p=0.5):\n",
    "        self.p = p\n",
    "    \n",
    "    def __call__(self, sample):\n",
    "        frame, log_spectogram = sample\n",
    "\n",
    "        if random.random() < self.p:\n",
    "            return cv2.flip(frame, 1), log_spectogram\n",
    "        \n",
    "        return frame, log_spectogram\n",
    "    \n",
    "### TODO saturation and brightness\n",
    "    \n",
    "class ToTensor(object):\n",
    "    \"\"\"Convert ndarrays in sample to Tensors.\"\"\"\n",
    "    \n",
    "    def __call__(self, sample):\n",
    "        frame, log_spectogram = sample\n",
    "        F, T = log_spectogram.shape\n",
    "\n",
    "        # swap color axis because\n",
    "        # numpy image: H x W x C\n",
    "        # torch image: C X H X W\n",
    "        frame = frame.transpose((2, 0, 1))\n",
    "        \n",
    "        # now log_specs are of size (Freq, Time) 2D but has to be 3D\n",
    "        log_spectogram = log_spectogram.reshape(1, F, T)\n",
    "\n",
    "        return torch.from_numpy(frame), torch.from_numpy(log_spectogram)"
   ]
  },
  {
   "cell_type": "code",
   "execution_count": 5,
   "metadata": {},
   "outputs": [
    {
     "data": {
      "image/png": "[encoded data removed]",
      "text/plain": [
       "<Figure size 432x288 with 1 Axes>"
      ]
     },
     "metadata": {
      "needs_background": "light"
     },
     "output_type": "display_data"
    }
   ],
   "source": [
    "plt.figure()\n",
    "img = cv2.imread('/home/vladimir/storage8tb/data/voxceleb1/video/Bellamy_Young/vZY1f9oeIbo/0001375.jpg')\n",
    "img = cv2.cvtColor(img, cv2.COLOR_BGR2RGB)\n",
    "img = cv2.resize(img, (224, 224))\n",
    "# img = cv2.flip(img, 1)\n",
    "plt.imshow(img)\n",
    "plt.show()"
   ]
  },
  {
   "cell_type": "code",
   "execution_count": 6,
   "metadata": {},
   "outputs": [],
   "source": [
    "## TRY TO ADD DROPOUT\n",
    "\n",
    "class FaceSubnet(nn.Module):\n",
    "\n",
    "    def __init__(self, seed=13):\n",
    "        super(FaceSubnet, self).__init__()\n",
    "#         torch.manual_seed(seed)\n",
    "        self.conv1 = nn.Conv2d(in_channels=3, out_channels=96, kernel_size=7, stride=2, padding=3)\n",
    "        self.bn1 = nn.BatchNorm2d(num_features=96)\n",
    "        self.conv2 = nn.Conv2d(in_channels=96, out_channels=256, kernel_size=5, stride=2, padding=2)\n",
    "        self.bn2 = nn.BatchNorm2d(num_features=256)\n",
    "        self.conv3 = nn.Conv2d(in_channels=256, out_channels=256, kernel_size=3, padding=1)\n",
    "        self.bn3 = nn.BatchNorm2d(num_features=256)\n",
    "        self.conv4 = nn.Conv2d(in_channels=256, out_channels=256, kernel_size=3, padding=1)\n",
    "        self.bn4 = nn.BatchNorm2d(num_features=256)\n",
    "        self.conv5 = nn.Conv2d(in_channels=256, out_channels=256, kernel_size=3, padding=1)\n",
    "        self.bn5 = nn.BatchNorm2d(num_features=256)\n",
    "        \n",
    "        self.fc6 = nn.Linear(in_features=256 * 7 * 7, out_features=4096)\n",
    "        self.fc7 = nn.Linear(in_features=4096, out_features=1024)\n",
    "        self.fc8 = nn.Linear(in_features=1024, out_features=256)\n",
    "        \n",
    "        self.mpool = nn.MaxPool2d(kernel_size=2)\n",
    "        self.relu = nn.ReLU()\n",
    "        \n",
    "    def forward(self, x):\n",
    "        B, C, H, W = x.size()\n",
    "        \n",
    "#         x = self.relu(self.bn1(self.conv1(x)))\n",
    "#         x = self.mpool(x)\n",
    "#         x = self.relu(self.bn2(self.conv2(x)))\n",
    "#         x = self.mpool(x)\n",
    "#         x = self.relu(self.bn3(self.conv3(x)))\n",
    "#         x = self.relu(self.bn4(self.conv4(x)))\n",
    "#         x = self.relu(self.bn5(self.conv5(x)))\n",
    "#         x = self.mpool(x)\n",
    "        \n",
    "#         x = x.view(x.size(0), -1)\n",
    "#         x = self.relu(self.fc6(x))\n",
    "#         x = self.relu(self.fc7(x))\n",
    "#         x = self.fc8(x)\n",
    "        \n",
    "        x = self.relu(self.conv1(x))\n",
    "        x = self.mpool(x)\n",
    "        x = self.relu(self.conv2(x))\n",
    "        x = self.mpool(x)\n",
    "        x = self.relu(self.conv3(x))\n",
    "        x = self.relu(self.conv4(x))\n",
    "        x = self.relu(self.conv5(x))\n",
    "        x = self.mpool(x)\n",
    "        \n",
    "        x = x.view(x.size(0), -1)\n",
    "        x = self.relu(self.fc6(x))\n",
    "        x = self.relu(self.fc7(x))\n",
    "        x = self.fc8(x)\n",
    "        \n",
    "        return F.normalize(x)\n",
    "\n",
    "## TRY TO REMOVE DROPOUT\n",
    "\n",
    "class VoiceSubnet(nn.Module):\n",
    "\n",
    "    def __init__(self, seed=13):\n",
    "        super(VoiceSubnet, self).__init__()\n",
    "#         torch.manual_seed(seed)\n",
    "        self.conv1 = nn.Conv2d(in_channels=1, out_channels=96, kernel_size=7, stride=2, padding=1)\n",
    "        self.bn1 = nn.BatchNorm2d(num_features=96)\n",
    "        self.conv2 = nn.Conv2d(in_channels=96, out_channels=256, kernel_size=5, stride=2, padding=1)\n",
    "        self.bn2 = nn.BatchNorm2d(num_features=256)\n",
    "        self.conv3 = nn.Conv2d(in_channels=256, out_channels=256, kernel_size=3, padding=1)\n",
    "        self.bn3 = nn.BatchNorm2d(num_features=256)\n",
    "        self.conv4 = nn.Conv2d(in_channels=256, out_channels=256, kernel_size=3, padding=1)\n",
    "        self.bn4 = nn.BatchNorm2d(num_features=256)\n",
    "        self.conv5 = nn.Conv2d(in_channels=256, out_channels=256, kernel_size=3, padding=1)\n",
    "        self.bn5 = nn.BatchNorm2d(num_features=256)\n",
    "        \n",
    "        self.bn6 = nn.BatchNorm2d(num_features=4096)\n",
    "        \n",
    "        self.fc7 = nn.Linear(in_features=4096, out_features=1024)\n",
    "        self.fc8 = nn.Linear(in_features=1024, out_features=256)\n",
    "        \n",
    "        self.relu = nn.ReLU()\n",
    "        self.mpool1 = nn.MaxPool2d(kernel_size=3, stride=2)\n",
    "        self.mpool2 = nn.MaxPool2d(kernel_size=3, stride=2)\n",
    "        self.mpool5 = nn.MaxPool2d(kernel_size=(5, 3), stride=(3, 2))\n",
    "        \n",
    "        # Conv2d with weights of size (H, 1) is identical to FC with H weights\n",
    "        self.fc6 = nn.Conv2d(in_channels=256, out_channels=4096, kernel_size=(9, 1))\n",
    "        \n",
    "    def forward(self, x):\n",
    "        B, C, H, W = x.size()\n",
    "\n",
    "#         x = self.relu(self.bn1(self.conv1(x)))\n",
    "#         x = self.mpool1(x)\n",
    "#         x = self.relu(self.bn2(self.conv2(x)))\n",
    "#         x = self.mpool2(x)\n",
    "#         x = self.relu(self.bn3(self.conv3(x)))\n",
    "#         x = self.relu(self.bn4(self.conv4(x)))\n",
    "#         x = self.relu(self.bn5(self.conv5(x)))\n",
    "#         x = self.mpool5(x)\n",
    "\n",
    "#         B, C, H, W = x.size()\n",
    "#         self.apool6 = nn.AvgPool2d(kernel_size=(1, W))\n",
    "\n",
    "#         x = self.relu(self.bn6(self.fc6(x)))\n",
    "#         x = self.apool6(x)\n",
    "\n",
    "#         x = x.view(x.size(0), -1)\n",
    "#         x = self.relu(self.fc7(x))\n",
    "#         x = self.fc8(x)\n",
    "\n",
    "        x = self.relu(self.conv1(x))\n",
    "        x = self.mpool1(x)\n",
    "        x = self.relu(self.conv2(x))\n",
    "        x = self.mpool2(x)\n",
    "        x = self.relu(self.conv3(x))\n",
    "        x = self.relu(self.conv4(x))\n",
    "        x = self.relu(self.conv5(x))\n",
    "        x = self.mpool5(x)\n",
    "\n",
    "        B, C, H, W = x.size()\n",
    "        self.apool6 = nn.AvgPool2d(kernel_size=(1, W))\n",
    "\n",
    "        x = self.relu(self.fc6(x))\n",
    "        x = self.apool6(x)\n",
    "\n",
    "        x = x.view(x.size(0), -1)\n",
    "        x = self.relu(self.fc7(x))\n",
    "        x = self.fc8(x)\n",
    "        \n",
    "        return F.normalize(x)\n",
    "\n",
    "class CurriculumMining(nn.Module):\n",
    "\n",
    "    def __init__(self):\n",
    "        super(CurriculumMining, self).__init__()\n",
    "        \n",
    "    def forward(self, positive_pairs, tau):\n",
    "        faces, voices = positive_pairs\n",
    "        B, D = faces.size()\n",
    "        # calc dist \n",
    "        # (X - Y) ^ 2 = X^2 + Y^2 - 2XY\n",
    "        x = (faces**2).sum(dim=1).view(-1, 1) + (voices**2).sum(dim=1) - 2*faces.matmul(voices.t())\n",
    "        dists = x.sqrt()\n",
    "        \n",
    "        sorted_dist, sorted_idx = torch.sort(dists, dim=1, descending=True)\n",
    "        Dnj = sorted_dist - dists.diag().view(-1, 1)\n",
    "        idx_threshold = round(tau * (B-1))\n",
    "        \n",
    "        # tricky part\n",
    "        mask = torch.ones_like(sorted_dist)\n",
    "        mask[:, idx_threshold+1:] = 0\n",
    "        mask[Dnj <= 0] = 0\n",
    "        idx_of_sorted_idx = ((mask).sum(dim=1) - 1).abs().long()\n",
    "        neg_samples_idx = torch.gather(sorted_idx, dim=1, index=idx_of_sorted_idx.view(B, 1))\n",
    "        neg_samples_idx = neg_samples_idx.view(B)\n",
    "        negative_voices = voices[neg_samples_idx]\n",
    "        \n",
    "        return (faces, negative_voices)\n",
    "\n",
    "class ContrastiveLoss(nn.Module):\n",
    "\n",
    "    def __init__(self):\n",
    "        super(ContrastiveLoss, self).__init__()\n",
    "        \n",
    "    def forward(self, positive_pairs, negative_pairs, margin):\n",
    "        ## POSITIVE PART\n",
    "        faces, voices = positive_pairs\n",
    "#         dists_pos = ((faces - voices) ** 2).sum(dim=1).sqrt()\n",
    "#         pos_part = dists_pos ** 2\n",
    "        pos_part = ((faces - voices) ** 2).sum(dim=1)\n",
    "    \n",
    "        ## NEGATIVE PART\n",
    "        faces, voices = negative_pairs\n",
    "        dists_neg = ((faces - voices) ** 2).sum(dim=1).sqrt()\n",
    "        neg_part = (margin - dists_neg).clamp(0) ** 2\n",
    "        \n",
    "        loss4pair = torch.cat([pos_part, neg_part])\n",
    "        \n",
    "        ## CALCULATE LOSS\n",
    "        B, D = faces.size()\n",
    "        batch_loss = loss4pair.sum() / (2 * B)\n",
    "    \n",
    "        return batch_loss\n",
    "\n",
    "class LearnablePinsNet(nn.Module):\n",
    "\n",
    "    def __init__(self):\n",
    "        super(LearnablePinsNet, self).__init__()\n",
    "        self.face_subnet = FaceSubnet()\n",
    "        self.voice_subnet = VoiceSubnet()\n",
    "        self.curr_mining = CurriculumMining()\n",
    "        \n",
    "    def forward(self, frames, log_specs, tau):\n",
    "        emb_f = self.face_subnet(frames)\n",
    "        emb_v = self.voice_subnet(log_specs)\n",
    "        \n",
    "        positive_pairs = (emb_f, emb_v)\n",
    "        negative_pairs = self.curr_mining(positive_pairs, tau)\n",
    "        \n",
    "        return positive_pairs, negative_pairs"
   ]
  },
  {
   "cell_type": "code",
   "execution_count": 7,
   "metadata": {},
   "outputs": [
    {
     "ename": "AssertionError",
     "evalue": "",
     "output_type": "error",
     "traceback": [
      "\u001b[0;31m---------------------------------------------------------------------------\u001b[0m",
      "\u001b[0;31mAssertionError\u001b[0m                            Traceback (most recent call last)",
      "\u001b[0;32m<ipython-input-7-611f08574504>\u001b[0m in \u001b[0;36m<module>\u001b[0;34m()\u001b[0m\n\u001b[0;32m----> 1\u001b[0;31m \u001b[0;32massert\u001b[0m \u001b[0;32mFalse\u001b[0m \u001b[0;34m==\u001b[0m \u001b[0;32mTrue\u001b[0m\u001b[0;34m\u001b[0m\u001b[0m\n\u001b[0m",
      "\u001b[0;31mAssertionError\u001b[0m: "
     ]
    }
   ],
   "source": [
    "assert False == True"
   ]
  },
  {
   "cell_type": "code",
   "execution_count": null,
   "metadata": {
    "scrolled": true
   },
   "outputs": [],
   "source": [
    "## todo: redo the lr scheduler\n",
    "\n",
    "transform = Compose([\n",
    "    Normalize(),\n",
    "#     RandomHorizontalFlip(),\n",
    "    ToTensor(),\n",
    "])\n",
    "\n",
    "train = AudioFrameDataset('/home/vladimir/storage8tb/data/voxceleb1/', \n",
    "#                           '/home/vladimir/storage8tb/data/voxceleb1/Splits/voice_set_labels.txt', \n",
    "                          '/home/vladimir/storage8tb/data/voxceleb1/Splits/filtered_voice_set_labels.txt', \n",
    "                          phase=1, transform=transform)\n",
    "trainloader = torch.utils.data.DataLoader(train, batch_size=60, num_workers=30)\n",
    "\n",
    "net = LearnablePinsNet()\n",
    "\n",
    "criterion = ContrastiveLoss()\n",
    "# inpaper lr = 1e-2\n",
    "optimizer = optim.SGD(net.parameters(), lr=1e-2, momentum=0.9, weight_decay=5e-4)\n",
    "scheduler = optim.lr_scheduler.StepLR(optimizer, step_size=1, gamma=10 ** (-3/25))\n",
    "\n",
    "device = torch.device(\"cuda:0\")\n",
    "net.to(device)\n",
    "net = nn.DataParallel(net)\n",
    "\n",
    "for epoch_num in range(50):\n",
    "    net.train()\n",
    "    scheduler.step()\n",
    "    \n",
    "    for iter_num, (frames, log_specs) in tqdm(enumerate(trainloader)):\n",
    "        out_f.write('{}-{}\\n'.format(str(epoch_num), str(iter_num)))\n",
    "        # transfer inputs to a device\n",
    "        frames, log_specs = frames.cuda(async=True), log_specs.cuda(async=True)\n",
    "        frames, log_specs = torch.autograd.Variable(frames), torch.autograd.Variable(log_specs)\n",
    "\n",
    "        # zero the parameter gradients\n",
    "        optimizer.zero_grad()\n",
    "\n",
    "        # forward + backward + optimize\n",
    "        # tau: todo: 0.3 -> 0.8\n",
    "        positive_pairs, negative_pairs = net(frames, log_specs, tau=0.3)\n",
    "        loss = criterion(positive_pairs, negative_pairs, margin=0.6)\n",
    "\n",
    "        loss.backward()\n",
    "        optimizer.step()\n",
    "\n",
    "        # log results\n",
    "        step_num = epoch_num * len(trainloader) + iter_num\n",
    "        \n",
    "        TBoard.add_scalar('Train/Loss', loss.item(), step_num)\n",
    "        TBoard.add_scalar('Train/lr', scheduler.get_lr()[0], step_num)\n",
    "        TBoard.add_scalar('emb_mean/face', positive_pairs[0].mean(), step_num)\n",
    "        TBoard.add_scalar('emb_mean/voice', positive_pairs[1].mean(), step_num)\n",
    "        \n",
    "        if hasattr(net, 'module'):\n",
    "            TBoard.add_scalar('weights/voice_conv1', net.module.voice_subnet.conv1.weight.mean(), step_num)\n",
    "            TBoard.add_scalar('weights/face_conv1', net.module.face_subnet.conv1.weight.mean(), step_num)\n",
    "            \n",
    "        else:\n",
    "            TBoard.add_scalar('weights/voice_conv1', net.voice_subnet.conv1.weight.mean(), step_num)\n",
    "            TBoard.add_scalar('weights/voice_conv1', net.voice_subnet.conv1.weight.mean(), step_num)\n",
    "        \n",
    "        out_f.write('\\n\\n'.format(str(epoch_num), str(iter_num)))"
   ]
  },
  {
   "cell_type": "code",
   "execution_count": null,
   "metadata": {},
   "outputs": [],
   "source": []
  },
  {
   "cell_type": "code",
   "execution_count": null,
   "metadata": {},
   "outputs": [],
   "source": [
    "temp_path = '/home/vladimir/Desktop/temp/'\n",
    "os.listdir(temp_path)"
   ]
  },
  {
   "cell_type": "code",
   "execution_count": null,
   "metadata": {},
   "outputs": [],
   "source": [
    "## to test the missing files handling\n",
    "temp_path = '/home/vladimir/Desktop/temp/'\n",
    "files_path = '/home/vladimir/Desktop/files/'\n",
    "\n",
    "class TestDataset(Dataset):\n",
    "\n",
    "    def __init__(self, temp_path, files_path): \n",
    "        \n",
    "        self.temp_path = temp_path\n",
    "        self.files_path = files_path\n",
    "        self.file_names = os.listdir(temp_path)\n",
    "        \n",
    "    def __len__(self):\n",
    "        return len(self.file_names)\n",
    "\n",
    "    def __getitem__(self, idx):\n",
    "        in_f = open(self.temp_path + self.file_names[idx], 'r')\n",
    "        file2open, number1 = in_f.readlines()[0].split()\n",
    "        file2open_full = self.files_path + file2open\n",
    "        \n",
    "        if os.path.isfile(file2open_full):\n",
    "            in2_f = open(file2open_full, 'r')\n",
    "            number2 = in2_f.readlines()\n",
    "            return number1, number2\n",
    "        \n",
    "        else:\n",
    "            print('{} is missing'.format(file2open_full))"
   ]
  },
  {
   "cell_type": "code",
   "execution_count": null,
   "metadata": {},
   "outputs": [],
   "source": [
    "class SafeTestDataset(TestDataset):\n",
    "    __init__ = TestDataset.__init__\n",
    "\n",
    "    def __getitem__(self, idx):\n",
    "        try: \n",
    "            print('d')\n",
    "            return super(TestDataset, self).__getitem__(idx)\n",
    "        \n",
    "#         except FileNotFoundError as e:\n",
    "        except:\n",
    "            print('exception')"
   ]
  },
  {
   "cell_type": "code",
   "execution_count": null,
   "metadata": {
    "scrolled": true
   },
   "outputs": [],
   "source": [
    "train.file_names"
   ]
  },
  {
   "cell_type": "code",
   "execution_count": null,
   "metadata": {},
   "outputs": [],
   "source": [
    "train = TestDataset(temp_path, files_path)\n",
    "\n",
    "trainloader = torch.utils.data.DataLoader(train, batch_size=1, num_workers=0)\n",
    "\n",
    "for epoch_num in range(1):\n",
    "    \n",
    "    for i, (number_1, number_2) in enumerate(trainloader):\n",
    "        print(i, number_1, number_2)"
   ]
  },
  {
   "cell_type": "code",
   "execution_count": null,
   "metadata": {},
   "outputs": [],
   "source": [
    "train = TestDataset(temp_path, files_path)\n",
    "\n",
    "trainloader = torch.utils.data.DataLoader(train, batch_size=6, num_workers=0)\n",
    "\n",
    "for epoch_num in range(1):\n",
    "    \n",
    "    for i, (number_1, number_2) in enumerate(trainloader):\n",
    "        print(i, number_1, number_2)"
   ]
  },
  {
   "cell_type": "code",
   "execution_count": null,
   "metadata": {},
   "outputs": [],
   "source": [
    "in_f = open('/home/vladimir/Desktop/temp/' + '6.txt', 'r')\n",
    "in_f.readlines()[0].split()"
   ]
  },
  {
   "cell_type": "code",
   "execution_count": null,
   "metadata": {},
   "outputs": [],
   "source": [
    "net.voice_subnet.conv1.weight"
   ]
  },
  {
   "cell_type": "code",
   "execution_count": null,
   "metadata": {},
   "outputs": [],
   "source": [
    "np.array2string(np.arange(3))"
   ]
  },
  {
   "cell_type": "code",
   "execution_count": null,
   "metadata": {},
   "outputs": [],
   "source": [
    "out_f.close()"
   ]
  },
  {
   "cell_type": "code",
   "execution_count": null,
   "metadata": {},
   "outputs": [],
   "source": [
    "tau = 1\n",
    "# B = 5\n",
    "# D = 2\n",
    "# torch.manual_seed(2)\n",
    "# emb_f = torch.randint(0, 50, (B, D))\n",
    "# emb_v = torch.randint(0, 50, (B, D))\n",
    "print(emb_v.shape, emb_f.shape)\n",
    "print(emb_f)\n",
    "print(emb_v)"
   ]
  },
  {
   "cell_type": "code",
   "execution_count": null,
   "metadata": {},
   "outputs": [],
   "source": [
    "margin = 40\n",
    "\n",
    "faces, voices = positive_pairs\n",
    "dists_pos = ((faces - voices) ** 2).sum(dim=1).sqrt()\n",
    "print(dists_pos)\n",
    "pos_part = dists_pos ** 2\n",
    "pos_part = ((faces - voices) ** 2).sum(dim=1)\n",
    "\n",
    "\n",
    "faces, voices = negative_pairs\n",
    "dists_neg = ((faces - voices) ** 2).sum(dim=1).sqrt()\n",
    "print(dists_neg)\n",
    "\n",
    "pos_part = dists_pos ** 2\n",
    "neg_part = (margin - dists_neg).clamp(0) ** 2\n",
    "print(neg_part)\n",
    "\n",
    "print(pos_part, neg_part)\n",
    "\n",
    "loss4pair = torch.cat([pos_part, neg_part])\n",
    "print(loss4pair)\n",
    "\n",
    "loss = loss4pair.sum() / (2*B)\n",
    "print(loss)"
   ]
  },
  {
   "cell_type": "code",
   "execution_count": null,
   "metadata": {},
   "outputs": [],
   "source": [
    "import scipy.io\n",
    "mat = scipy.io.loadmat('emovoxceleb-student.mat')"
   ]
  },
  {
   "cell_type": "code",
   "execution_count": null,
   "metadata": {
    "scrolled": false
   },
   "outputs": [],
   "source": [
    "print(mat['net'][0][0][1][0][5][1].shape)\n",
    "print(mat['net'][0][0][1][0][5])"
   ]
  },
  {
   "cell_type": "code",
   "execution_count": null,
   "metadata": {},
   "outputs": [],
   "source": [
    "path_to_data = '/media/storage8tb/data/voxceleb1/'\n",
    "path_to_split = '/media/storage8tb/data/voxceleb1/Splits/voice_set_labels.txt'\n",
    "phase = 1\n",
    "voice_set_labels = pd.read_table(path_to_split, sep=' ', names=['path', 'phase'])\n",
    "voice_set_labels.replace({'_000': '/0', '.wav': ''}, inplace=True, regex=True)\n",
    "print(voice_set_labels['phase'].value_counts())\n",
    "print(voice_set_labels.shape)\n",
    "voice_set_labels.head(6)"
   ]
  },
  {
   "cell_type": "code",
   "execution_count": null,
   "metadata": {},
   "outputs": [],
   "source": [
    "if phase == 1:\n",
    "    mask = (voice_set_labels.phase == 1) | (voice_set_labels.phase == 3)\n",
    "    subset = voice_set_labels[mask].reset_index(drop=True)\n",
    "    \n",
    "else:\n",
    "    mask = voice_set_labels['phase'] == phase\n",
    "    subset = voice_set_labels[mask].reset_index(drop=True)\n",
    "    \n",
    "print(subset['phase'].value_counts())\n",
    "subset = subset['path']\n",
    "print(subset.shape)\n",
    "print()\n",
    "print(subset[2])\n",
    "subset.head(6)"
   ]
  },
  {
   "cell_type": "code",
   "execution_count": null,
   "metadata": {},
   "outputs": [],
   "source": [
    "path_to_data = '/media/storage8tb/data/voxceleb1/'\n",
    "path_to_split = '/media/storage8tb/data/voxceleb1/Splits/voice_set_labels.txt'\n",
    "# video_path = os.path.join(path_to_data, 'video', 'Ben_Feldman', 'FWkA8o6AwB0', , '.txt')\n",
    "audio_path = os.path.join(path_to_data, 'audio', 'Ben_Feldman', 'FWkA8o6AwB0', '00002.wav')\n",
    "\n",
    "sample_rate, samples = wavfile.read(audio_path)\n",
    "frequencies, times, spectrogram = signal.spectrogram(samples[:48000], sample_rate, window='hamming', \n",
    "                                                     nfft=1022, nperseg=int(sample_rate * 0.025), \n",
    "                                                     noverlap=int(sample_rate * (0.025-0.010)), mode='magnitude')\n",
    "\n",
    "plt.figure(figsize=(10, 4))\n",
    "plt.pcolormesh(times, frequencies, np.log(spectrogram), cmap=plt.cm.jet)\n",
    "plt.ylabel('Frequency [Hz]')\n",
    "plt.xlabel('Time [sec]')\n",
    "plt.colorbar()\n",
    "print(np.log(spectrogram).shape)\n",
    "plt.show()"
   ]
  },
  {
   "cell_type": "code",
   "execution_count": null,
   "metadata": {},
   "outputs": [],
   "source": [
    "spectrogram2.shape"
   ]
  },
  {
   "cell_type": "code",
   "execution_count": null,
   "metadata": {},
   "outputs": [],
   "source": [
    "spectrogram.shape"
   ]
  },
  {
   "cell_type": "code",
   "execution_count": null,
   "metadata": {},
   "outputs": [],
   "source": [
    "import librosa"
   ]
  },
  {
   "cell_type": "code",
   "execution_count": null,
   "metadata": {},
   "outputs": [],
   "source": [
    "librosa.feature.melspectrogram()"
   ]
  },
  {
   "cell_type": "code",
   "execution_count": null,
   "metadata": {},
   "outputs": [],
   "source": [
    "spectrogram"
   ]
  },
  {
   "cell_type": "code",
   "execution_count": null,
   "metadata": {},
   "outputs": [],
   "source": [
    "segment_len = 3\n",
    "sample_rate = 16000\n",
    "len(samples)"
   ]
  },
  {
   "cell_type": "code",
   "execution_count": null,
   "metadata": {},
   "outputs": [],
   "source": [
    "# start = rand_generator.randint(0, len(samples) - segment_len * sample_rate)\n",
    "start = len(samples) - segment_len * sample_rate\n",
    "end = start + segment_len * sample_rate\n",
    "audio_segment = samples[start:end]\n",
    "print(audio_segment.shape)\n",
    "print(start, end)\n",
    "print(audio_segment[-1])"
   ]
  },
  {
   "cell_type": "code",
   "execution_count": null,
   "metadata": {},
   "outputs": [],
   "source": [
    "# TODO: make all number of proper length to insert to path"
   ]
  },
  {
   "cell_type": "code",
   "execution_count": null,
   "metadata": {},
   "outputs": [],
   "source": [
    "### \n",
    "video_path = os.path.join(path_to_data, 'video', subset[3] + '.txt')\n",
    "frames = pd.read_table(video_path, skiprows=6, usecols=['FRAME '])\n",
    "earliest = frames['FRAME '].iloc[0]\n",
    "latest = frames['FRAME '].iloc[-1]\n",
    "frame_list = np.arange(earliest, latest+1)\n",
    "mask = np.where(frame_list % 25 == 0)\n",
    "frames_sec = frame_list[mask]\n",
    "print(frames_sec)\n",
    "rand_generator = np.random.RandomState(13)\n",
    "selected_frame = rand_generator.choice(frames_sec)\n",
    "print(selected_frame)\n",
    "selected_frame_filename = '{0:07d}.jpg'.format(selected_frame)\n",
    "selected_frame_path = os.path.join(path_to_data, 'video', subset[2][:-5] + selected_frame_filename)\n",
    "print(selected_frame_filename)\n",
    "print(selected_frame_path)\n",
    "frame = cv2.cvtColor(cv2.imread(selected_frame_path), cv2.COLOR_BGR2RGB)\n",
    "frame = cv2.resize(frame, (224, 224))\n",
    "plt.figure()\n",
    "plt.imshow(frame);"
   ]
  },
  {
   "cell_type": "code",
   "execution_count": null,
   "metadata": {},
   "outputs": [],
   "source": [
    "import cv2\n",
    "from skimage.io import imread\n",
    "import dlib\n",
    "import imutils"
   ]
  },
  {
   "cell_type": "code",
   "execution_count": null,
   "metadata": {},
   "outputs": [],
   "source": [
    "some_path = '/media/storage8tb/data/voxceleb1/video/A.J._Buckley/J9lHsKG98U8/'\n",
    "files = os.listdir(some_path)\n",
    "files = [os.path.join(some_path, x) for x in files if x[-3:] == 'jpg']"
   ]
  },
  {
   "cell_type": "code",
   "execution_count": null,
   "metadata": {},
   "outputs": [],
   "source": [
    "%%timeit\n",
    "\n",
    "for file in files:\n",
    "    img = cv2.imread(file)\n",
    "    img = cv2.cvtColor(img, cv2.COLOR_BGR2RGB)\n",
    "    img = cv2.resize(img, (224, 224))"
   ]
  },
  {
   "cell_type": "code",
   "execution_count": null,
   "metadata": {},
   "outputs": [],
   "source": [
    "plt.figure()\n",
    "img = cv2.imread('/media/storage8tb/data/voxceleb1/video/A.J._Buckley/1zcIwhmdeo4/0000375.jpg')\n",
    "img = cv2.cvtColor(img, cv2.COLOR_BGR2RGB)\n",
    "img = cv2.resize(img, (224, 224), interpolation=cv2.INTER_CUBIC)\n",
    "plt.imshow(img)\n",
    "plt.show()"
   ]
  },
  {
   "cell_type": "code",
   "execution_count": null,
   "metadata": {},
   "outputs": [],
   "source": [
    "img234 = dlib.load_rgb_image(files[-1])\n",
    "img123 = cv2.imread(files[-1])\n",
    "img123 = cv2.cvtColor(img123, cv2.COLOR_BGR2RGB)"
   ]
  },
  {
   "cell_type": "code",
   "execution_count": null,
   "metadata": {},
   "outputs": [],
   "source": [
    "img234 = dlib.load_rgb_image(files[-1])\n",
    "img234 = dlib.resize_image(img234, rows=224, cols=224)\n",
    "img123 = cv2.imread(files[-1])\n",
    "img123 = cv2.cvtColor(img123, cv2.COLOR_BGR2RGB)\n",
    "img123 = cv2.resize(img123, (224, 224))"
   ]
  },
  {
   "cell_type": "code",
   "execution_count": null,
   "metadata": {},
   "outputs": [],
   "source": [
    "img234 = cv2.imread(files[-1])\n",
    "img = cv2.cvtColor(img, cv2.COLOR_BGR2RGB)\n",
    "img1 = cv2.resize(img, (224, 224))\n",
    "\n",
    "img123 = dlib.load_rgb_image(files[-1])\n",
    "img2 = dlib.resize_image(img, rows=224, cols=224)\n",
    "# img123 - img234"
   ]
  },
  {
   "cell_type": "code",
   "execution_count": null,
   "metadata": {},
   "outputs": [],
   "source": [
    "%%timeit\n",
    "\n",
    "for file in files:\n",
    "    img = imread(file)"
   ]
  },
  {
   "cell_type": "code",
   "execution_count": null,
   "metadata": {},
   "outputs": [],
   "source": []
  },
  {
   "cell_type": "code",
   "execution_count": null,
   "metadata": {},
   "outputs": [],
   "source": [
    "%%timeit\n",
    "\n",
    "for file in files:\n",
    "    img = dlib.load_rgb_image(file)\n",
    "    img = dlib.resize_image(img, rows=224, cols=224)"
   ]
  },
  {
   "cell_type": "code",
   "execution_count": null,
   "metadata": {},
   "outputs": [],
   "source": [
    "plt.figure()\n",
    "plt.imshow(img234 - img123)\n",
    "plt.show()"
   ]
  },
  {
   "cell_type": "code",
   "execution_count": null,
   "metadata": {},
   "outputs": [],
   "source": [
    "plt.figure()\n",
    "img = dlib.load_rgb_image(files[-12])\n",
    "print(img.shape)\n",
    "img = dlib.resize_image(img, rows=224, cols=224)\n",
    "print(img.shape)\n",
    "plt.imshow(img)\n",
    "plt.show()"
   ]
  },
  {
   "cell_type": "code",
   "execution_count": null,
   "metadata": {},
   "outputs": [],
   "source": [
    "transform = Compose([\n",
    "    Normalize(),\n",
    "#     RandomHorizontalFlip(),\n",
    "    ToTensor(),\n",
    "])\n",
    "\n",
    "dataset = AudioFrameDataset('/media/storage8tb/data/voxceleb1/', \n",
    "                          '/media/storage8tb/data/voxceleb1/Splits/voice_set_labels.txt', \n",
    "                          phase=1, transform=transform)\n",
    "fig = plt.figure(figsize=(10, 10))\n",
    "\n",
    "for i in range(len(dataset)):\n",
    "    batch = dataset[i]\n",
    "    \n",
    "    ax = plt.subplot(4, 2, 2*i + 1)\n",
    "    plt.tight_layout()\n",
    "    ax.set_title('Sample #{}'.format(i))\n",
    "    ax.axis('off')\n",
    "    \n",
    "    plt.imshow(batch[2])\n",
    "    ax = plt.subplot(4, 2, 2*i + 2)\n",
    "    plt.pcolormesh(batch[0], batch[1], batch[3], cmap=plt.cm.jet)\n",
    "    \n",
    "    if i == 3:\n",
    "        plt.show()\n",
    "        break\n",
    "plt.show()"
   ]
  },
  {
   "cell_type": "code",
   "execution_count": null,
   "metadata": {},
   "outputs": [],
   "source": [
    "import os\n",
    "import json\n",
    "import pandas as pd\n",
    "import numpy as np\n",
    "from tqdm import tqdm\n",
    "\n",
    "path_to_data = '/media/storage8tb/data/voxceleb1/'\n",
    "path_to_split = '/media/storage8tb/data/voxceleb1/Splits/voice_set_labels.txt'\n",
    "\n",
    "missing_segments_savepath = '/home/vladimir/Desktop/missing_segments.txt'\n",
    "missing_frames_savepath = '/home/vladimir/Desktop/missing_frames.txt'\n",
    "source2missing_frames_savepath = '/home/vladimir/Desktop/source2missing_frames.txt'\n",
    "\n",
    "missing_segments = []\n",
    "missing_frames = []\n",
    "source2missing_frames = {}\n",
    "\n",
    "voice_set_labels = pd.read_table(path_to_split, sep=' ', names=['path', 'phase'])\n",
    "voice_set_labels.replace({'_000': '/0', '.wav$': ''}, inplace=True, regex=True)\n",
    "\n",
    "for i, path in tqdm(enumerate(voice_set_labels['path'])):\n",
    "    video_path = os.path.join(path_to_data, 'video', path + '.txt')\n",
    "    \n",
    "    if os.path.isfile(os.path.join(path_to_data, 'audio', path + '.wav')):\n",
    "        frames = pd.read_table(video_path, skiprows=6, usecols=['FRAME '])\n",
    "        \n",
    "    else:\n",
    "        print('segment is missing: {}'.format(video_path[39:]))\n",
    "        missing_segments.append(video_path[39:])\n",
    "        continue\n",
    "    \n",
    "    \n",
    "    earliest = frames['FRAME '].iloc[0]\n",
    "    latest = frames['FRAME '].iloc[-1]\n",
    "    frame_list = np.arange(earliest, latest+1)\n",
    "    mask = np.where(frame_list % 25 == 0)\n",
    "    frames_sec = frame_list[mask]\n",
    "    \n",
    "    source2missing_frames[video_path[39:]] = []\n",
    "    \n",
    "    for frame_number in frames_sec:\n",
    "        filename ='{0:07d}.jpg'.format(frame_number)\n",
    "        selected_frame_path = os.path.join(path_to_data, 'video', path[:-5] + filename)\n",
    "        \n",
    "        if os.path.isfile(selected_frame_path):\n",
    "            continue\n",
    "            \n",
    "        else:\n",
    "            missing_frames.append(selected_frame_path[39:])\n",
    "            source2missing_frames[video_path[39:]].append(selected_frame_path[39:])\n",
    "\n",
    "with open(missing_frames_savepath, 'w') as out_f:\n",
    "    for file in missing_frames:\n",
    "        out_f.write(file + '\\n')\n",
    "\n",
    "with open(source2missing_frames_savepath, 'w') as out_f:\n",
    "    out_f.write(json.dumps(source2missing_frames, indent='\\t'))\n",
    "    \n",
    "with open(missing_segments_savepath, 'w') as out_f:\n",
    "    for file in missing_segments:\n",
    "        out_f.write(file + '\\n')"
   ]
  },
  {
   "cell_type": "code",
   "execution_count": null,
   "metadata": {},
   "outputs": [],
   "source": [
    "import os\n",
    "import json\n",
    "import pandas as pd\n",
    "import numpy as np\n",
    "from tqdm import tqdm\n",
    "\n",
    "path_to_data = '/media/storage8tb/data/voxceleb1/'\n",
    "path_to_split = '/media/storage8tb/data/voxceleb1/Splits/voice_set_labels.txt'\n",
    "\n",
    "still_missing_frames_savepath = '/home/vladimir/Desktop/still_missing_frames.txt'\n",
    "\n",
    "still_missing_frames = []\n",
    "\n",
    "voice_set_labels = pd.read_table(path_to_split, sep=' ', names=['path', 'phase'])\n",
    "voice_set_labels.replace({'_000': '/0', '.wav$': ''}, inplace=True, regex=True)\n",
    "\n",
    "for path in tqdm(voice_set_labels['path']):\n",
    "    video_path = os.path.join(path_to_data, 'video', path + '.txt')\n",
    "    \n",
    "    if os.path.isfile(os.path.join(path_to_data, 'audio', path + '.wav')):\n",
    "        frames = pd.read_table(video_path, skiprows=6, usecols=['FRAME '])\n",
    "        \n",
    "    earliest = frames['FRAME '].iloc[0]\n",
    "    latest = frames['FRAME '].iloc[-1]\n",
    "    frame_list = np.arange(earliest, latest+1)\n",
    "    mask = np.where(frame_list % 25 == 0)\n",
    "    frames_sec = frame_list[mask]\n",
    "    # only 20 per each face-track (see the asterics on the project page)\n",
    "    # frames_sec = frame_list[mask]\n",
    "    frames_sec = frame_list[mask][:20]\n",
    "    \n",
    "    for frame_number in frames_sec:\n",
    "        filename ='{0:07d}.jpg'.format(frame_number)\n",
    "        selected_frame_path = os.path.join(path_to_data, 'video', path[:-5] + filename)\n",
    "        \n",
    "        if os.path.isfile(selected_frame_path):\n",
    "            continue\n",
    "            \n",
    "        else:\n",
    "            still_missing_frames.append(selected_frame_path)\n",
    "            \n",
    "with open(still_missing_frames_savepath, 'w') as out_f:\n",
    "    for file in still_missing_frames:\n",
    "        out_f.write(file + '\\n')"
   ]
  },
  {
   "cell_type": "code",
   "execution_count": null,
   "metadata": {},
   "outputs": [],
   "source": [
    "import os\n",
    "import json\n",
    "import pandas as pd\n",
    "import numpy as np\n",
    "from tqdm import tqdm\n",
    "\n",
    "path_to_data = '/media/storage8tb/data/voxceleb1/'\n",
    "path_to_split = '/media/storage8tb/data/voxceleb1/Splits/voice_set_labels.txt'\n",
    "\n",
    "tracks_to_filter_path = '/home/vladimir/Desktop/tracks_to_filter.txt'\n",
    "\n",
    "tracks_to_filter = []\n",
    "\n",
    "voice_set_labels = pd.read_table(path_to_split, sep=' ', names=['path', 'phase'])\n",
    "voice_set_labels.replace({'_000': '/0', '.wav$': ''}, inplace=True, regex=True)\n",
    "\n",
    "for path in tqdm(voice_set_labels['path']):\n",
    "    video_path = os.path.join(path_to_data, 'video', path + '.txt')\n",
    "    \n",
    "    if os.path.isfile(os.path.join(path_to_data, 'audio', path + '.wav')):\n",
    "        frames = pd.read_table(video_path, skiprows=6, usecols=['FRAME '])\n",
    "        \n",
    "    earliest = frames['FRAME '].iloc[0]\n",
    "    latest = frames['FRAME '].iloc[-1]\n",
    "    frame_list = np.arange(earliest, latest+1)\n",
    "    mask = np.where(frame_list % 25 == 0)\n",
    "    frames_sec = frame_list[mask]\n",
    "    # only 20 per each face-track (see the asterics on the project page)\n",
    "    # frames_sec = frame_list[mask]\n",
    "    frames_sec = frame_list[mask][:20]\n",
    "    \n",
    "    for frame_number in frames_sec:\n",
    "        filename ='{0:07d}.jpg'.format(frame_number)\n",
    "        selected_frame_path = os.path.join(path_to_data, 'video', path[:-5] + filename)\n",
    "        \n",
    "        if os.path.isfile(selected_frame_path):\n",
    "            continue\n",
    "            \n",
    "        else:\n",
    "            tracks_to_filter.append(video_path)\n",
    "            break\n",
    "            \n",
    "with open(tracks_to_filter_path, 'w') as out_f:\n",
    "    for file in tracks_to_filter:\n",
    "        out_f.write(file + '\\n')"
   ]
  },
  {
   "cell_type": "code",
   "execution_count": null,
   "metadata": {},
   "outputs": [],
   "source": [
    "tracks_to_filter[0][39:]"
   ]
  },
  {
   "cell_type": "code",
   "execution_count": null,
   "metadata": {},
   "outputs": [],
   "source": [
    "x = raw[0, :, :, 4]\n",
    "a = fc6.weight[1, :, :, :]\n",
    "b = fc6.bias[1]\n",
    "print(x)\n",
    "print(a)\n",
    "print(b)\n",
    "np.sum(a.detach().numpy().reshape(4, -1) * x.detach().numpy().reshape(4, -1)) + b.detach().numpy()"
   ]
  },
  {
   "cell_type": "code",
   "execution_count": null,
   "metadata": {},
   "outputs": [],
   "source": [
    "## TODO WHAT IS GOING ON ON TEST TIME\n",
    "B = 3\n",
    "C = 2\n",
    "H = 4\n",
    "W = 5\n",
    "\n",
    "raw = torch.randn(B, C, H, W)\n",
    "# print(raw)\n",
    "H, W = raw.size()[2:]\n",
    "fc6 = nn.Conv2d(in_channels=C, out_channels=C, kernel_size=(H, 1))\n",
    "# print(fc6.weight)\n",
    "# print(fc6.bias)\n",
    "temp = fc6(raw)\n",
    "# print(temp.size())\n",
    "# print(temp)\n",
    "max_ = nn.MaxPool2d(kernel_size=(1, W))\n",
    "temp = max_(temp)\n",
    "# print(temp.size())\n",
    "# print(temp)"
   ]
  },
  {
   "cell_type": "markdown",
   "metadata": {},
   "source": [
    "First, let's create artificial subnets' outputs. We now assume that the $\\tau = 1$ which means that we mine the hardest negatives for each anchor face in the batch. Also, we will use a batch of size B = 3 (in paper 256) and D = |emb| = 2 (in paper 256). We expect that tensors are of size BxD."
   ]
  },
  {
   "cell_type": "code",
   "execution_count": null,
   "metadata": {},
   "outputs": [],
   "source": [
    "torch.manual_seed(13)\n",
    "\n",
    "tau = 1\n",
    "B = 3\n",
    "D = 2\n",
    "\n",
    "emb_f = torch.randint(0, 50, (B, D))\n",
    "emb_v = torch.randint(0, 50, (B, D))\n",
    "print('face subnet output:')\n",
    "print(emb_f)\n",
    "print('voice subnet output:')\n",
    "print(emb_v)"
   ]
  },
  {
   "cell_type": "markdown",
   "metadata": {},
   "source": [
    "Then, we calculate distance between each face and voice embeddings"
   ]
  },
  {
   "cell_type": "code",
   "execution_count": null,
   "metadata": {},
   "outputs": [],
   "source": [
    "# (X - Y) ^ 2 = X^2 + Y^2 - 2XY\n",
    "x = (emb_f**2).sum(dim=1).view(-1, 1) + (emb_v**2).sum(dim=1) - 2*emb_f.matmul(emb_v.t())\n",
    "dists = x.sqrt()\n",
    "print(dists)"
   ]
  },
  {
   "cell_type": "markdown",
   "metadata": {},
   "source": [
    "dists$_{i,j}$ -- distance between $i$-th element in face batch and $j$-th element in voice batch. In case $i=j$ (diagonal elements), the number corresponds to the distance between a positive pair embeddings.\n",
    "\n",
    "Okay, given the distance matrix above let's guess which negative counterpart every anchor face should have for this $\\tau$. \n",
    "\n",
    "For the first face (1st row) we have three options: [32.4500, 46.1736, 24.0208]. In this case, we may want to choose the 3rd element (24.0208) as it is the hardest (closest) one but we have the restriction (p. 7, top) that the distance of to a potential negative counterpart should be higher than the distance between the positive pair which is 32.4500. So, for the first face we choose the 2nd element (46.1736).\n",
    "\n",
    "For the second face we have a similar situation. The hardest is the 3rd element (13.0000) but it is closer than the positive counterpart (24.1661). Hence, we choose the closest voice that is further than positive pair, i.e. 1st one (32.1403).\n",
    "\n",
    "For the third face the closest voice is on the third position (1.0000) but it is just a positive counterpart. We cannot choose it. So, we will select the first voice (18.2483).\n",
    "\n",
    "And obtain the following list of negative counterparts for each anchor face: \n",
    "\n",
    "Indices (starting with 0): [1, 0, 0]; Values:\n",
    "[46.1736, 32.1403, 18.2483]"
   ]
  },
  {
   "cell_type": "markdown",
   "metadata": {},
   "source": [
    "Now, let's proceed with the algorithm that you provided in Appendix. \n",
    "\n",
    "First, we sort the distance matrix. Note, the sorted matrix also contains the values when  $i=j$ , just keep it in mind."
   ]
  },
  {
   "cell_type": "code",
   "execution_count": null,
   "metadata": {},
   "outputs": [],
   "source": [
    "sorted_dist, sorted_idx = torch.sort(dists, 1, descending=True)\n",
    "print(sorted_dist)\n",
    "print(sorted_idx)"
   ]
  },
  {
   "cell_type": "markdown",
   "metadata": {},
   "source": [
    "On this step, we select only indices of the hardest negatives ($\\tau$ = 1). Therefore, we are interested in the last column excluding the indices that correspond to the positive pair ($i=j$) which occurs in the last row.\n",
    "\n",
    "So, we have vector of indices: $(n_0, n_1, n_2) =$ [2, 2, 0]. "
   ]
  },
  {
   "cell_type": "markdown",
   "metadata": {},
   "source": [
    "Now, let's calculate 5th step in the algorithm."
   ]
  },
  {
   "cell_type": "code",
   "execution_count": null,
   "metadata": {},
   "outputs": [],
   "source": [
    "Dii = dists.diag().view(-1, 1)\n",
    "(sorted_dist - Dii).abs()"
   ]
  },
  {
   "cell_type": "markdown",
   "metadata": {},
   "source": [
    "After the $arg \\min_j$ we obtain the following list of indices: [2, 0, 1]. Note, we excluded elements showing the positive pairs difference (0.0000) from the $\\min$ function."
   ]
  },
  {
   "cell_type": "markdown",
   "metadata": {},
   "source": [
    "Finally, let's apply $\\min$ function for each corresponding pair of [2, 2, 0] and [2, 0, 1]. We will obtain [2, 0, 0] but should have obtained [1, 0, 0] as shown above."
   ]
  },
  {
   "cell_type": "code",
   "execution_count": null,
   "metadata": {},
   "outputs": [],
   "source": [
    "tau = 1\n",
    "B = 5\n",
    "D = 2\n",
    "torch.manual_seed(2)\n",
    "emb_f = torch.randint(0, 50, (B, D))\n",
    "emb_v = torch.randint(0, 50, (B, D))\n",
    "print(emb_v.shape, emb_f.shape)\n",
    "print(emb_f)\n",
    "print(emb_v)\n",
    "\n",
    "# (X - Y) ^ 2 = X^2 + Y^2 - 2XY\n",
    "x = (emb_f**2).sum(dim=1).view(-1, 1) + (emb_v**2).sum(dim=1) - 2*emb_f.matmul(emb_v.t())\n",
    "dists = x.sqrt()\n",
    "print(dists)\n",
    "\n",
    "sorted_dist, sorted_idx = torch.sort(dists, 1, descending=True)\n",
    "print(sorted_dist)\n",
    "print(sorted_idx)\n",
    "\n",
    "idx_threshold = round(tau * (B-1))\n",
    "idx_threshold\n",
    "\n",
    "mask = torch.ones_like(sorted_dist)\n",
    "print(mask)\n",
    "mask[:, idx_threshold+1:] = 0\n",
    "print(mask)\n",
    "\n",
    "Dnj = sorted_dist - dists.diag().view(-1, 1)\n",
    "mask[Dnj <= 0] = 0\n",
    "print(Dnj)\n",
    "print(mask)\n",
    "\n",
    "idx_of_sorted_idx = ((mask).sum(dim=1) - 1).abs().long()\n",
    "print(idx_of_sorted_idx)\n",
    "\n",
    "neg_samples_idx = torch.gather(sorted_idx, dim=1, index=idx_of_sorted_idx.view(B, 1))\n",
    "neg_samples_idx = neg_samples_idx.view(B)\n",
    "print(neg_samples_idx)\n",
    "\n",
    "emb_v[neg_samples_idx]"
   ]
  },
  {
   "cell_type": "code",
   "execution_count": null,
   "metadata": {},
   "outputs": [],
   "source": [
    "B = 16\n",
    "C = 3\n",
    "H = 224\n",
    "W = 224\n",
    "\n",
    "frames = torch.randn(B, C, H, W)\n",
    "emb_f = facesubnet(frames)"
   ]
  },
  {
   "cell_type": "code",
   "execution_count": null,
   "metadata": {
    "scrolled": false
   },
   "outputs": [],
   "source": [
    "B = 16\n",
    "C = 1\n",
    "H = 512\n",
    "W = 298\n",
    "\n",
    "log_specs = torch.randn(B, C, H, W)\n",
    "emb_v = voicesubnet(log_specs)\n",
    "print(emb_v.sum())"
   ]
  },
  {
   "cell_type": "code",
   "execution_count": null,
   "metadata": {},
   "outputs": [],
   "source": [
    "raw.mean(axis=(1, 2)).reshape(2, 1, 1, 3)"
   ]
  },
  {
   "cell_type": "code",
   "execution_count": null,
   "metadata": {},
   "outputs": [],
   "source": [
    "raw = np.arange(5*5*3).reshape(5, 5, 3)\n",
    "print(raw[:, :, 0])\n",
    "mu = raw.mean(axis=(0, 1))\n",
    "a = raw - mu\n",
    "print(a[:, :, ])"
   ]
  },
  {
   "cell_type": "code",
   "execution_count": null,
   "metadata": {},
   "outputs": [],
   "source": [
    "class Normalize(object):\n",
    "    \"\"\"Normalizes both face (mean) and voice spectogram (mean-varience)\"\"\"\n",
    "    \n",
    "    def __call__(self, sample):\n",
    "        frame, log_spectogram = sample\n",
    "        \n",
    "        ## FACE (H, W, C)\n",
    "        # mean normalization for every image (not batch)\n",
    "        mu = frame.mean(axis=(0, 1))\n",
    "        frame = frame - mu\n",
    "        \n",
    "        ## VOICE (Freq, Time)\n",
    "        # mean-variance normalization for every spectogram (not batch)\n",
    "        mu = log_spectogram.mean(axis=1).reshape(512, 1, 1)\n",
    "        sigma = log_spectogram.std(axis=1).reshape(512, 1, 1)\n",
    "        log_spectogram = (log_spectogram - mu) / sigma\n",
    "        return frame, log_spectogram\n",
    "    \n",
    "class ToTensor(object):\n",
    "    \"\"\"Convert ndarrays in sample to Tensors.\"\"\"\n",
    "\n",
    "    def __call__(self, sample):\n",
    "        frame, log_spectogram = sample\n",
    "\n",
    "        # swap color axis because\n",
    "        # numpy image: H x W x C\n",
    "        # torch image: C X H X W\n",
    "        frame = frame.transpose((2, 0, 1))\n",
    "        \n",
    "        return torch.from_numpy(frame), torch.from_numpy(log_spectogram)\n",
    "\n",
    "class ToPILImage(object):\n",
    "    \"\"\"Converts a torch.*Tensor of shape C x H x W \n",
    "    or a numpy ndarray of shape H x W x C \n",
    "    to a PIL Image while preserving the value range.\n",
    "    \"\"\"\n",
    "    \n",
    "    def __call__(self, sample):\n",
    "        frame, log_spectogram = sample\n",
    "        \n",
    "        print(frame.dtype)\n",
    "        log_spectogram = log_spectogram.reshape(512, -1, 1)\n",
    "        \n",
    "        frame = F_transform.to_pil_image(frame)\n",
    "        log_spectogram = F_transform.to_pil_image(log_spectogram)\n",
    "        \n",
    "        return log_spectogram, frame"
   ]
  },
  {
   "cell_type": "code",
   "execution_count": null,
   "metadata": {},
   "outputs": [],
   "source": []
  }
 ],
 "metadata": {
  "kernelspec": {
   "display_name": "Python 3",
   "language": "python",
   "name": "python3"
  },
  "language_info": {
   "codemirror_mode": {
    "name": "ipython",
    "version": 3
   },
   "file_extension": ".py",
   "mimetype": "text/x-python",
   "name": "python",
   "nbconvert_exporter": "python",
   "pygments_lexer": "ipython3",
   "version": "3.5.2"
  }
 },
 "nbformat": 4,
 "nbformat_minor": 2
}
